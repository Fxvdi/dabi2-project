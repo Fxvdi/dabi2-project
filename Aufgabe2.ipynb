{
 "cells": [
  {
   "cell_type": "markdown",
   "metadata": {},
   "source": [
    "# <b> <u> Aufgabe 2 - Beantwortung vorgegebener analytischer Fragen (Teil 1) </u> </b>"
   ]
  },
  {
   "cell_type": "markdown",
   "metadata": {},
   "source": [
    "### Inhaltsverzeichnis\n",
    "1. Importieren der notwendigen Packages\n",
    "2. Datenbereinigung\n",
    "   1. Gastronomiedaten\n",
    "   2. Wetterdaten\n",
    "   3. Merging\n",
    "   4. Zeitliche Entwicklung\n",
    "3. Relation zwischen Temperatur und Umsätzen (Aufgabe 2a)\n",
    "4. Relation mit zeitlicher Verzögerung (Aufgabe 2b)\n",
    "5. Relation zu allen Wettermesswerten (Aufgabe 2c)\n",
    "6. Saison- und Trendbereinigung (Aufgabe 2d)"
   ]
  },
  {
   "cell_type": "markdown",
   "metadata": {},
   "source": [
    "## 1. Importieren der notwendigen Packages"
   ]
  },
  {
   "cell_type": "code",
   "execution_count": 2,
   "metadata": {},
   "outputs": [],
   "source": [
    "import pandas as pd # Datenaufbereitung\n",
    "import matplotlib.pyplot as plt # Datenvisualisierung\n",
    "import numpy as np # Berechnungen\n",
    "import plotly.express as px # Datenvisualisierung\n",
    "import statsmodels.api as sm # Berechnungen"
   ]
  },
  {
   "cell_type": "markdown",
   "metadata": {},
   "source": [
    "## 2. Datenbereinigung"
   ]
  },
  {
   "cell_type": "markdown",
   "metadata": {},
   "source": [
    "### 2.1 Gastronomiedaten"
   ]
  },
  {
   "cell_type": "code",
   "execution_count": 3,
   "metadata": {},
   "outputs": [
    {
     "data": {
      "text/html": [
       "<div>\n",
       "<style scoped>\n",
       "    .dataframe tbody tr th:only-of-type {\n",
       "        vertical-align: middle;\n",
       "    }\n",
       "\n",
       "    .dataframe tbody tr th {\n",
       "        vertical-align: top;\n",
       "    }\n",
       "\n",
       "    .dataframe thead th {\n",
       "        text-align: right;\n",
       "    }\n",
       "</style>\n",
       "<table border=\"1\" class=\"dataframe\">\n",
       "  <thead>\n",
       "    <tr style=\"text-align: right;\">\n",
       "      <th></th>\n",
       "      <th>ID</th>\n",
       "      <th>Jahr</th>\n",
       "      <th>Monatscode</th>\n",
       "      <th>Monat</th>\n",
       "      <th>Gastro_Id</th>\n",
       "      <th>Gastro_Description</th>\n",
       "      <th>Umsatz in millionen</th>\n",
       "    </tr>\n",
       "  </thead>\n",
       "  <tbody>\n",
       "    <tr>\n",
       "      <th>0</th>\n",
       "      <td>0</td>\n",
       "      <td>1994</td>\n",
       "      <td>MONAT01</td>\n",
       "      <td>Januar</td>\n",
       "      <td>WZ08-55</td>\n",
       "      <td>Beherbergung</td>\n",
       "      <td>92.3</td>\n",
       "    </tr>\n",
       "    <tr>\n",
       "      <th>1</th>\n",
       "      <td>1</td>\n",
       "      <td>1994</td>\n",
       "      <td>MONAT01</td>\n",
       "      <td>Januar</td>\n",
       "      <td>WZ08-551</td>\n",
       "      <td>Hotels, Gasthöfe und Pensionen</td>\n",
       "      <td>91.9</td>\n",
       "    </tr>\n",
       "    <tr>\n",
       "      <th>2</th>\n",
       "      <td>2</td>\n",
       "      <td>1994</td>\n",
       "      <td>MONAT01</td>\n",
       "      <td>Januar</td>\n",
       "      <td>WZ08-552</td>\n",
       "      <td>Ferienunterkünfte u. ähnliche Beherbergungsstä...</td>\n",
       "      <td>97.3</td>\n",
       "    </tr>\n",
       "    <tr>\n",
       "      <th>3</th>\n",
       "      <td>3</td>\n",
       "      <td>1994</td>\n",
       "      <td>MONAT01</td>\n",
       "      <td>Januar</td>\n",
       "      <td>WZ08-553</td>\n",
       "      <td>Campingplätze</td>\n",
       "      <td>68.4</td>\n",
       "    </tr>\n",
       "    <tr>\n",
       "      <th>4</th>\n",
       "      <td>4</td>\n",
       "      <td>1994</td>\n",
       "      <td>MONAT01</td>\n",
       "      <td>Januar</td>\n",
       "      <td>WZ08-559</td>\n",
       "      <td>Sonstige Beherbergungsstätten</td>\n",
       "      <td>127.1</td>\n",
       "    </tr>\n",
       "    <tr>\n",
       "      <th>...</th>\n",
       "      <td>...</td>\n",
       "      <td>...</td>\n",
       "      <td>...</td>\n",
       "      <td>...</td>\n",
       "      <td>...</td>\n",
       "      <td>...</td>\n",
       "      <td>...</td>\n",
       "    </tr>\n",
       "    <tr>\n",
       "      <th>3966</th>\n",
       "      <td>3966</td>\n",
       "      <td>2024</td>\n",
       "      <td>MONAT01</td>\n",
       "      <td>Januar</td>\n",
       "      <td>WZ08-561</td>\n",
       "      <td>Restaurants, Gaststätten, Imbissstuben, Cafes ...</td>\n",
       "      <td>76.6</td>\n",
       "    </tr>\n",
       "    <tr>\n",
       "      <th>3967</th>\n",
       "      <td>3967</td>\n",
       "      <td>2024</td>\n",
       "      <td>MONAT01</td>\n",
       "      <td>Januar</td>\n",
       "      <td>WZ08-562</td>\n",
       "      <td>Caterer und sonstige Verpflegungsdienstleistungen</td>\n",
       "      <td>87.4</td>\n",
       "    </tr>\n",
       "    <tr>\n",
       "      <th>3968</th>\n",
       "      <td>3968</td>\n",
       "      <td>2024</td>\n",
       "      <td>MONAT01</td>\n",
       "      <td>Januar</td>\n",
       "      <td>WZ08-563</td>\n",
       "      <td>Ausschank von Getränken</td>\n",
       "      <td>52.0</td>\n",
       "    </tr>\n",
       "    <tr>\n",
       "      <th>3969</th>\n",
       "      <td>3969</td>\n",
       "      <td>2024</td>\n",
       "      <td>MONAT01</td>\n",
       "      <td>Januar</td>\n",
       "      <td>WZ08-561-01</td>\n",
       "      <td>Gaststättengewerbe</td>\n",
       "      <td>74.1</td>\n",
       "    </tr>\n",
       "    <tr>\n",
       "      <th>3970</th>\n",
       "      <td>3970</td>\n",
       "      <td>2024</td>\n",
       "      <td>MONAT01</td>\n",
       "      <td>Januar</td>\n",
       "      <td>WZ08-55-01</td>\n",
       "      <td>Gastgewerbe</td>\n",
       "      <td>74.0</td>\n",
       "    </tr>\n",
       "  </tbody>\n",
       "</table>\n",
       "<p>3971 rows × 7 columns</p>\n",
       "</div>"
      ],
      "text/plain": [
       "        ID  Jahr Monatscode   Monat    Gastro_Id  \\\n",
       "0        0  1994    MONAT01  Januar      WZ08-55   \n",
       "1        1  1994    MONAT01  Januar     WZ08-551   \n",
       "2        2  1994    MONAT01  Januar     WZ08-552   \n",
       "3        3  1994    MONAT01  Januar     WZ08-553   \n",
       "4        4  1994    MONAT01  Januar     WZ08-559   \n",
       "...    ...   ...        ...     ...          ...   \n",
       "3966  3966  2024    MONAT01  Januar     WZ08-561   \n",
       "3967  3967  2024    MONAT01  Januar     WZ08-562   \n",
       "3968  3968  2024    MONAT01  Januar     WZ08-563   \n",
       "3969  3969  2024    MONAT01  Januar  WZ08-561-01   \n",
       "3970  3970  2024    MONAT01  Januar   WZ08-55-01   \n",
       "\n",
       "                                     Gastro_Description  Umsatz in millionen  \n",
       "0                                          Beherbergung                 92.3  \n",
       "1                        Hotels, Gasthöfe und Pensionen                 91.9  \n",
       "2     Ferienunterkünfte u. ähnliche Beherbergungsstä...                 97.3  \n",
       "3                                         Campingplätze                 68.4  \n",
       "4                         Sonstige Beherbergungsstätten                127.1  \n",
       "...                                                 ...                  ...  \n",
       "3966  Restaurants, Gaststätten, Imbissstuben, Cafes ...                 76.6  \n",
       "3967  Caterer und sonstige Verpflegungsdienstleistungen                 87.4  \n",
       "3968                            Ausschank von Getränken                 52.0  \n",
       "3969                                 Gaststättengewerbe                 74.1  \n",
       "3970                                        Gastgewerbe                 74.0  \n",
       "\n",
       "[3971 rows x 7 columns]"
      ]
     },
     "execution_count": 3,
     "metadata": {},
     "output_type": "execute_result"
    }
   ],
   "source": [
    "# importieren der Gastrononmieumsätze\n",
    "df_gastro = pd.read_csv(\"Daten/cleaned_data/gastro_filtered.csv\")\n",
    "df_gastro"
   ]
  },
  {
   "cell_type": "code",
   "execution_count": 4,
   "metadata": {},
   "outputs": [
    {
     "name": "stdout",
     "output_type": "stream",
     "text": [
      "<class 'pandas.core.frame.DataFrame'>\n",
      "RangeIndex: 3971 entries, 0 to 3970\n",
      "Data columns (total 7 columns):\n",
      " #   Column               Non-Null Count  Dtype  \n",
      "---  ------               --------------  -----  \n",
      " 0   ID                   3971 non-null   int64  \n",
      " 1   Jahr                 3971 non-null   int64  \n",
      " 2   Monatscode           3971 non-null   object \n",
      " 3   Monat                3971 non-null   object \n",
      " 4   Gastro_Id            3971 non-null   object \n",
      " 5   Gastro_Description   3971 non-null   object \n",
      " 6   Umsatz in millionen  3971 non-null   float64\n",
      "dtypes: float64(1), int64(2), object(4)\n",
      "memory usage: 217.3+ KB\n"
     ]
    }
   ],
   "source": [
    "# Informationen über Datenset\n",
    "df_gastro.info()"
   ]
  },
  {
   "cell_type": "code",
   "execution_count": 5,
   "metadata": {},
   "outputs": [
    {
     "data": {
      "text/html": [
       "<div>\n",
       "<style scoped>\n",
       "    .dataframe tbody tr th:only-of-type {\n",
       "        vertical-align: middle;\n",
       "    }\n",
       "\n",
       "    .dataframe tbody tr th {\n",
       "        vertical-align: top;\n",
       "    }\n",
       "\n",
       "    .dataframe thead th {\n",
       "        text-align: right;\n",
       "    }\n",
       "</style>\n",
       "<table border=\"1\" class=\"dataframe\">\n",
       "  <thead>\n",
       "    <tr style=\"text-align: right;\">\n",
       "      <th></th>\n",
       "      <th>ID</th>\n",
       "      <th>Jahr</th>\n",
       "      <th>Monatscode</th>\n",
       "      <th>Monat</th>\n",
       "      <th>Gastro_Id</th>\n",
       "      <th>Gastro_Description</th>\n",
       "      <th>Umsatz in millionen</th>\n",
       "    </tr>\n",
       "  </thead>\n",
       "  <tbody>\n",
       "    <tr>\n",
       "      <th>0</th>\n",
       "      <td>0</td>\n",
       "      <td>1994</td>\n",
       "      <td>MONAT01</td>\n",
       "      <td>1</td>\n",
       "      <td>WZ08-55</td>\n",
       "      <td>Beherbergung</td>\n",
       "      <td>92.3</td>\n",
       "    </tr>\n",
       "    <tr>\n",
       "      <th>1</th>\n",
       "      <td>1</td>\n",
       "      <td>1994</td>\n",
       "      <td>MONAT01</td>\n",
       "      <td>1</td>\n",
       "      <td>WZ08-551</td>\n",
       "      <td>Hotels, Gasthöfe und Pensionen</td>\n",
       "      <td>91.9</td>\n",
       "    </tr>\n",
       "    <tr>\n",
       "      <th>2</th>\n",
       "      <td>2</td>\n",
       "      <td>1994</td>\n",
       "      <td>MONAT01</td>\n",
       "      <td>1</td>\n",
       "      <td>WZ08-552</td>\n",
       "      <td>Ferienunterkünfte u. ähnliche Beherbergungsstä...</td>\n",
       "      <td>97.3</td>\n",
       "    </tr>\n",
       "    <tr>\n",
       "      <th>3</th>\n",
       "      <td>3</td>\n",
       "      <td>1994</td>\n",
       "      <td>MONAT01</td>\n",
       "      <td>1</td>\n",
       "      <td>WZ08-553</td>\n",
       "      <td>Campingplätze</td>\n",
       "      <td>68.4</td>\n",
       "    </tr>\n",
       "    <tr>\n",
       "      <th>4</th>\n",
       "      <td>4</td>\n",
       "      <td>1994</td>\n",
       "      <td>MONAT01</td>\n",
       "      <td>1</td>\n",
       "      <td>WZ08-559</td>\n",
       "      <td>Sonstige Beherbergungsstätten</td>\n",
       "      <td>127.1</td>\n",
       "    </tr>\n",
       "    <tr>\n",
       "      <th>...</th>\n",
       "      <td>...</td>\n",
       "      <td>...</td>\n",
       "      <td>...</td>\n",
       "      <td>...</td>\n",
       "      <td>...</td>\n",
       "      <td>...</td>\n",
       "      <td>...</td>\n",
       "    </tr>\n",
       "    <tr>\n",
       "      <th>3966</th>\n",
       "      <td>3966</td>\n",
       "      <td>2024</td>\n",
       "      <td>MONAT01</td>\n",
       "      <td>1</td>\n",
       "      <td>WZ08-561</td>\n",
       "      <td>Restaurants, Gaststätten, Imbissstuben, Cafes ...</td>\n",
       "      <td>76.6</td>\n",
       "    </tr>\n",
       "    <tr>\n",
       "      <th>3967</th>\n",
       "      <td>3967</td>\n",
       "      <td>2024</td>\n",
       "      <td>MONAT01</td>\n",
       "      <td>1</td>\n",
       "      <td>WZ08-562</td>\n",
       "      <td>Caterer und sonstige Verpflegungsdienstleistungen</td>\n",
       "      <td>87.4</td>\n",
       "    </tr>\n",
       "    <tr>\n",
       "      <th>3968</th>\n",
       "      <td>3968</td>\n",
       "      <td>2024</td>\n",
       "      <td>MONAT01</td>\n",
       "      <td>1</td>\n",
       "      <td>WZ08-563</td>\n",
       "      <td>Ausschank von Getränken</td>\n",
       "      <td>52.0</td>\n",
       "    </tr>\n",
       "    <tr>\n",
       "      <th>3969</th>\n",
       "      <td>3969</td>\n",
       "      <td>2024</td>\n",
       "      <td>MONAT01</td>\n",
       "      <td>1</td>\n",
       "      <td>WZ08-561-01</td>\n",
       "      <td>Gaststättengewerbe</td>\n",
       "      <td>74.1</td>\n",
       "    </tr>\n",
       "    <tr>\n",
       "      <th>3970</th>\n",
       "      <td>3970</td>\n",
       "      <td>2024</td>\n",
       "      <td>MONAT01</td>\n",
       "      <td>1</td>\n",
       "      <td>WZ08-55-01</td>\n",
       "      <td>Gastgewerbe</td>\n",
       "      <td>74.0</td>\n",
       "    </tr>\n",
       "  </tbody>\n",
       "</table>\n",
       "<p>3971 rows × 7 columns</p>\n",
       "</div>"
      ],
      "text/plain": [
       "        ID  Jahr Monatscode  Monat    Gastro_Id  \\\n",
       "0        0  1994    MONAT01      1      WZ08-55   \n",
       "1        1  1994    MONAT01      1     WZ08-551   \n",
       "2        2  1994    MONAT01      1     WZ08-552   \n",
       "3        3  1994    MONAT01      1     WZ08-553   \n",
       "4        4  1994    MONAT01      1     WZ08-559   \n",
       "...    ...   ...        ...    ...          ...   \n",
       "3966  3966  2024    MONAT01      1     WZ08-561   \n",
       "3967  3967  2024    MONAT01      1     WZ08-562   \n",
       "3968  3968  2024    MONAT01      1     WZ08-563   \n",
       "3969  3969  2024    MONAT01      1  WZ08-561-01   \n",
       "3970  3970  2024    MONAT01      1   WZ08-55-01   \n",
       "\n",
       "                                     Gastro_Description  Umsatz in millionen  \n",
       "0                                          Beherbergung                 92.3  \n",
       "1                        Hotels, Gasthöfe und Pensionen                 91.9  \n",
       "2     Ferienunterkünfte u. ähnliche Beherbergungsstä...                 97.3  \n",
       "3                                         Campingplätze                 68.4  \n",
       "4                         Sonstige Beherbergungsstätten                127.1  \n",
       "...                                                 ...                  ...  \n",
       "3966  Restaurants, Gaststätten, Imbissstuben, Cafes ...                 76.6  \n",
       "3967  Caterer und sonstige Verpflegungsdienstleistungen                 87.4  \n",
       "3968                            Ausschank von Getränken                 52.0  \n",
       "3969                                 Gaststättengewerbe                 74.1  \n",
       "3970                                        Gastgewerbe                 74.0  \n",
       "\n",
       "[3971 rows x 7 columns]"
      ]
     },
     "execution_count": 5,
     "metadata": {},
     "output_type": "execute_result"
    }
   ],
   "source": [
    "# Monate werden Zahlen zugewiesen\n",
    "month_mapping = {\n",
    "    'Januar': 1,\n",
    "    'Februar': 2,\n",
    "    'März': 3,\n",
    "    'April': 4,\n",
    "    'Mai': 5,\n",
    "    'Juni': 6,\n",
    "    'Juli': 7,\n",
    "    'August': 8,\n",
    "    'September': 9,\n",
    "    'Oktober': 10,\n",
    "    'November': 11,\n",
    "    'Dezember': 12\n",
    "}\n",
    "\n",
    "# String to Zahl für späteres Merge\n",
    "df_gastro['Monat'] = df_gastro['Monat'].map(month_mapping)\n",
    "df_gastro"
   ]
  },
  {
   "cell_type": "code",
   "execution_count": 6,
   "metadata": {},
   "outputs": [],
   "source": [
    "# herausfiltern wichtiger Spalten und Campingplatzdaten\n",
    "df_camping = df_gastro.loc[df_gastro['Gastro_Description'] == \"Campingplätze\", [\"Monat\",\"Jahr\",\"Umsatz in millionen\"]]"
   ]
  },
  {
   "cell_type": "markdown",
   "metadata": {},
   "source": [
    "### 2.2 Wetterdaten"
   ]
  },
  {
   "cell_type": "code",
   "execution_count": 7,
   "metadata": {},
   "outputs": [],
   "source": [
    "# importieren der Wetterdaten\n",
    "df_wetter = pd.read_csv(\"Daten/median_werte.csv\")\n",
    "# unnötige Spalte löschen\n",
    "df_wetter = df_wetter.drop(columns=['Unnamed: 0'])"
   ]
  },
  {
   "cell_type": "code",
   "execution_count": 8,
   "metadata": {},
   "outputs": [
    {
     "data": {
      "text/html": [
       "<div>\n",
       "<style scoped>\n",
       "    .dataframe tbody tr th:only-of-type {\n",
       "        vertical-align: middle;\n",
       "    }\n",
       "\n",
       "    .dataframe tbody tr th {\n",
       "        vertical-align: top;\n",
       "    }\n",
       "\n",
       "    .dataframe thead th {\n",
       "        text-align: right;\n",
       "    }\n",
       "</style>\n",
       "<table border=\"1\" class=\"dataframe\">\n",
       "  <thead>\n",
       "    <tr style=\"text-align: right;\">\n",
       "      <th></th>\n",
       "      <th>Datum</th>\n",
       "      <th>FX</th>\n",
       "      <th>FM</th>\n",
       "      <th>RSK</th>\n",
       "      <th>RSKF</th>\n",
       "      <th>SDK</th>\n",
       "      <th>SHK_TAG</th>\n",
       "      <th>NM</th>\n",
       "      <th>VPM</th>\n",
       "      <th>PM</th>\n",
       "      <th>TMK</th>\n",
       "      <th>UPM</th>\n",
       "      <th>TXK</th>\n",
       "      <th>TNK</th>\n",
       "      <th>TGK</th>\n",
       "      <th>Jahr</th>\n",
       "      <th>Monat</th>\n",
       "    </tr>\n",
       "  </thead>\n",
       "  <tbody>\n",
       "    <tr>\n",
       "      <th>0</th>\n",
       "      <td>1994-01-01</td>\n",
       "      <td>13.896774</td>\n",
       "      <td>4.796774</td>\n",
       "      <td>2.830645</td>\n",
       "      <td>5.516129</td>\n",
       "      <td>1.300000</td>\n",
       "      <td>0.048387</td>\n",
       "      <td>6.574194</td>\n",
       "      <td>6.761290</td>\n",
       "      <td>1003.146774</td>\n",
       "      <td>3.687097</td>\n",
       "      <td>85.193548</td>\n",
       "      <td>5.924194</td>\n",
       "      <td>1.522581</td>\n",
       "      <td>0.887097</td>\n",
       "      <td>1994</td>\n",
       "      <td>1</td>\n",
       "    </tr>\n",
       "    <tr>\n",
       "      <th>1</th>\n",
       "      <td>1994-02-01</td>\n",
       "      <td>9.760714</td>\n",
       "      <td>3.382143</td>\n",
       "      <td>0.971429</td>\n",
       "      <td>4.142857</td>\n",
       "      <td>2.735714</td>\n",
       "      <td>1.035714</td>\n",
       "      <td>5.592857</td>\n",
       "      <td>5.121429</td>\n",
       "      <td>1011.214286</td>\n",
       "      <td>-0.471429</td>\n",
       "      <td>77.785714</td>\n",
       "      <td>2.435714</td>\n",
       "      <td>-3.253571</td>\n",
       "      <td>-3.958929</td>\n",
       "      <td>1994</td>\n",
       "      <td>2</td>\n",
       "    </tr>\n",
       "    <tr>\n",
       "      <th>2</th>\n",
       "      <td>1994-03-01</td>\n",
       "      <td>15.725806</td>\n",
       "      <td>5.274194</td>\n",
       "      <td>3.074194</td>\n",
       "      <td>5.419355</td>\n",
       "      <td>3.356452</td>\n",
       "      <td>0.000000</td>\n",
       "      <td>6.180645</td>\n",
       "      <td>7.654839</td>\n",
       "      <td>1006.640323</td>\n",
       "      <td>6.351613</td>\n",
       "      <td>78.903226</td>\n",
       "      <td>10.309677</td>\n",
       "      <td>3.083871</td>\n",
       "      <td>2.272581</td>\n",
       "      <td>1994</td>\n",
       "      <td>3</td>\n",
       "    </tr>\n",
       "    <tr>\n",
       "      <th>3</th>\n",
       "      <td>1994-04-01</td>\n",
       "      <td>12.066667</td>\n",
       "      <td>3.696667</td>\n",
       "      <td>2.138333</td>\n",
       "      <td>3.700000</td>\n",
       "      <td>5.241667</td>\n",
       "      <td>0.000000</td>\n",
       "      <td>5.343333</td>\n",
       "      <td>8.453333</td>\n",
       "      <td>1004.266667</td>\n",
       "      <td>8.863333</td>\n",
       "      <td>75.400000</td>\n",
       "      <td>13.446667</td>\n",
       "      <td>4.693333</td>\n",
       "      <td>2.756667</td>\n",
       "      <td>1994</td>\n",
       "      <td>4</td>\n",
       "    </tr>\n",
       "    <tr>\n",
       "      <th>4</th>\n",
       "      <td>1994-05-01</td>\n",
       "      <td>11.793548</td>\n",
       "      <td>3.174194</td>\n",
       "      <td>2.600000</td>\n",
       "      <td>3.741935</td>\n",
       "      <td>6.416129</td>\n",
       "      <td>0.000000</td>\n",
       "      <td>5.193548</td>\n",
       "      <td>10.616129</td>\n",
       "      <td>1006.914516</td>\n",
       "      <td>13.209677</td>\n",
       "      <td>73.806452</td>\n",
       "      <td>17.890323</td>\n",
       "      <td>8.080645</td>\n",
       "      <td>6.472581</td>\n",
       "      <td>1994</td>\n",
       "      <td>5</td>\n",
       "    </tr>\n",
       "    <tr>\n",
       "      <th>...</th>\n",
       "      <td>...</td>\n",
       "      <td>...</td>\n",
       "      <td>...</td>\n",
       "      <td>...</td>\n",
       "      <td>...</td>\n",
       "      <td>...</td>\n",
       "      <td>...</td>\n",
       "      <td>...</td>\n",
       "      <td>...</td>\n",
       "      <td>...</td>\n",
       "      <td>...</td>\n",
       "      <td>...</td>\n",
       "      <td>...</td>\n",
       "      <td>...</td>\n",
       "      <td>...</td>\n",
       "      <td>...</td>\n",
       "      <td>...</td>\n",
       "    </tr>\n",
       "    <tr>\n",
       "      <th>355</th>\n",
       "      <td>2023-08-01</td>\n",
       "      <td>11.090323</td>\n",
       "      <td>3.270968</td>\n",
       "      <td>3.135856</td>\n",
       "      <td>3.451613</td>\n",
       "      <td>6.235516</td>\n",
       "      <td>0.000000</td>\n",
       "      <td>5.706452</td>\n",
       "      <td>16.545161</td>\n",
       "      <td>1006.797001</td>\n",
       "      <td>18.088710</td>\n",
       "      <td>79.136774</td>\n",
       "      <td>23.435484</td>\n",
       "      <td>14.312903</td>\n",
       "      <td>12.627419</td>\n",
       "      <td>2023</td>\n",
       "      <td>8</td>\n",
       "    </tr>\n",
       "    <tr>\n",
       "      <th>356</th>\n",
       "      <td>2023-09-01</td>\n",
       "      <td>9.396667</td>\n",
       "      <td>3.163333</td>\n",
       "      <td>0.862931</td>\n",
       "      <td>1.666667</td>\n",
       "      <td>8.173867</td>\n",
       "      <td>0.000000</td>\n",
       "      <td>4.170088</td>\n",
       "      <td>15.110000</td>\n",
       "      <td>1011.508000</td>\n",
       "      <td>17.988333</td>\n",
       "      <td>75.687667</td>\n",
       "      <td>24.190000</td>\n",
       "      <td>12.336667</td>\n",
       "      <td>9.740000</td>\n",
       "      <td>2023</td>\n",
       "      <td>9</td>\n",
       "    </tr>\n",
       "    <tr>\n",
       "      <th>357</th>\n",
       "      <td>2023-10-01</td>\n",
       "      <td>11.383871</td>\n",
       "      <td>4.190323</td>\n",
       "      <td>3.687097</td>\n",
       "      <td>3.322581</td>\n",
       "      <td>2.825903</td>\n",
       "      <td>0.000000</td>\n",
       "      <td>6.759677</td>\n",
       "      <td>11.795161</td>\n",
       "      <td>1003.796452</td>\n",
       "      <td>12.354839</td>\n",
       "      <td>82.654516</td>\n",
       "      <td>16.619355</td>\n",
       "      <td>8.354839</td>\n",
       "      <td>6.717742</td>\n",
       "      <td>2023</td>\n",
       "      <td>10</td>\n",
       "    </tr>\n",
       "    <tr>\n",
       "      <th>358</th>\n",
       "      <td>2023-11-01</td>\n",
       "      <td>11.916667</td>\n",
       "      <td>4.570000</td>\n",
       "      <td>4.006667</td>\n",
       "      <td>4.783333</td>\n",
       "      <td>1.468333</td>\n",
       "      <td>0.259259</td>\n",
       "      <td>6.876863</td>\n",
       "      <td>8.260000</td>\n",
       "      <td>998.436667</td>\n",
       "      <td>6.095000</td>\n",
       "      <td>85.906333</td>\n",
       "      <td>8.660000</td>\n",
       "      <td>3.196667</td>\n",
       "      <td>1.536667</td>\n",
       "      <td>2023</td>\n",
       "      <td>11</td>\n",
       "    </tr>\n",
       "    <tr>\n",
       "      <th>359</th>\n",
       "      <td>2023-12-01</td>\n",
       "      <td>12.593548</td>\n",
       "      <td>4.829032</td>\n",
       "      <td>3.543656</td>\n",
       "      <td>4.548387</td>\n",
       "      <td>0.775016</td>\n",
       "      <td>0.870968</td>\n",
       "      <td>7.212903</td>\n",
       "      <td>7.564516</td>\n",
       "      <td>1004.447742</td>\n",
       "      <td>4.530645</td>\n",
       "      <td>86.296774</td>\n",
       "      <td>6.290323</td>\n",
       "      <td>2.251613</td>\n",
       "      <td>1.069355</td>\n",
       "      <td>2023</td>\n",
       "      <td>12</td>\n",
       "    </tr>\n",
       "  </tbody>\n",
       "</table>\n",
       "<p>360 rows × 17 columns</p>\n",
       "</div>"
      ],
      "text/plain": [
       "         Datum         FX        FM       RSK      RSKF       SDK   SHK_TAG  \\\n",
       "0   1994-01-01  13.896774  4.796774  2.830645  5.516129  1.300000  0.048387   \n",
       "1   1994-02-01   9.760714  3.382143  0.971429  4.142857  2.735714  1.035714   \n",
       "2   1994-03-01  15.725806  5.274194  3.074194  5.419355  3.356452  0.000000   \n",
       "3   1994-04-01  12.066667  3.696667  2.138333  3.700000  5.241667  0.000000   \n",
       "4   1994-05-01  11.793548  3.174194  2.600000  3.741935  6.416129  0.000000   \n",
       "..         ...        ...       ...       ...       ...       ...       ...   \n",
       "355 2023-08-01  11.090323  3.270968  3.135856  3.451613  6.235516  0.000000   \n",
       "356 2023-09-01   9.396667  3.163333  0.862931  1.666667  8.173867  0.000000   \n",
       "357 2023-10-01  11.383871  4.190323  3.687097  3.322581  2.825903  0.000000   \n",
       "358 2023-11-01  11.916667  4.570000  4.006667  4.783333  1.468333  0.259259   \n",
       "359 2023-12-01  12.593548  4.829032  3.543656  4.548387  0.775016  0.870968   \n",
       "\n",
       "           NM        VPM           PM        TMK        UPM        TXK  \\\n",
       "0    6.574194   6.761290  1003.146774   3.687097  85.193548   5.924194   \n",
       "1    5.592857   5.121429  1011.214286  -0.471429  77.785714   2.435714   \n",
       "2    6.180645   7.654839  1006.640323   6.351613  78.903226  10.309677   \n",
       "3    5.343333   8.453333  1004.266667   8.863333  75.400000  13.446667   \n",
       "4    5.193548  10.616129  1006.914516  13.209677  73.806452  17.890323   \n",
       "..        ...        ...          ...        ...        ...        ...   \n",
       "355  5.706452  16.545161  1006.797001  18.088710  79.136774  23.435484   \n",
       "356  4.170088  15.110000  1011.508000  17.988333  75.687667  24.190000   \n",
       "357  6.759677  11.795161  1003.796452  12.354839  82.654516  16.619355   \n",
       "358  6.876863   8.260000   998.436667   6.095000  85.906333   8.660000   \n",
       "359  7.212903   7.564516  1004.447742   4.530645  86.296774   6.290323   \n",
       "\n",
       "           TNK        TGK  Jahr  Monat  \n",
       "0     1.522581   0.887097  1994      1  \n",
       "1    -3.253571  -3.958929  1994      2  \n",
       "2     3.083871   2.272581  1994      3  \n",
       "3     4.693333   2.756667  1994      4  \n",
       "4     8.080645   6.472581  1994      5  \n",
       "..         ...        ...   ...    ...  \n",
       "355  14.312903  12.627419  2023      8  \n",
       "356  12.336667   9.740000  2023      9  \n",
       "357   8.354839   6.717742  2023     10  \n",
       "358   3.196667   1.536667  2023     11  \n",
       "359   2.251613   1.069355  2023     12  \n",
       "\n",
       "[360 rows x 17 columns]"
      ]
     },
     "execution_count": 8,
     "metadata": {},
     "output_type": "execute_result"
    }
   ],
   "source": [
    "# Datum in Datetimeformat\n",
    "df_wetter.Datum = pd.to_datetime(df_wetter.Datum)\n",
    "# Zum zusammenführen werden Monat und Jahr numerisch aufgeteilt\n",
    "df_wetter['Jahr'] = df_wetter['Datum'].dt.year\n",
    "df_wetter['Monat'] = df_wetter['Datum'].dt.month\n",
    "df_wetter"
   ]
  },
  {
   "cell_type": "markdown",
   "metadata": {},
   "source": [
    "### 2.3 Merging"
   ]
  },
  {
   "cell_type": "code",
   "execution_count": 9,
   "metadata": {},
   "outputs": [
    {
     "data": {
      "text/html": [
       "<div>\n",
       "<style scoped>\n",
       "    .dataframe tbody tr th:only-of-type {\n",
       "        vertical-align: middle;\n",
       "    }\n",
       "\n",
       "    .dataframe tbody tr th {\n",
       "        vertical-align: top;\n",
       "    }\n",
       "\n",
       "    .dataframe thead th {\n",
       "        text-align: right;\n",
       "    }\n",
       "</style>\n",
       "<table border=\"1\" class=\"dataframe\">\n",
       "  <thead>\n",
       "    <tr style=\"text-align: right;\">\n",
       "      <th></th>\n",
       "      <th>Revenue</th>\n",
       "      <th>Datum</th>\n",
       "      <th>FX</th>\n",
       "      <th>FM</th>\n",
       "      <th>RSK</th>\n",
       "      <th>RSKF</th>\n",
       "      <th>SDK</th>\n",
       "      <th>SHK_TAG</th>\n",
       "      <th>NM</th>\n",
       "      <th>VPM</th>\n",
       "      <th>PM</th>\n",
       "      <th>TMK</th>\n",
       "      <th>UPM</th>\n",
       "      <th>TXK</th>\n",
       "      <th>TNK</th>\n",
       "      <th>TGK</th>\n",
       "      <th>Date</th>\n",
       "    </tr>\n",
       "  </thead>\n",
       "  <tbody>\n",
       "    <tr>\n",
       "      <th>0</th>\n",
       "      <td>68.4</td>\n",
       "      <td>1994-01-01</td>\n",
       "      <td>13.896774</td>\n",
       "      <td>4.796774</td>\n",
       "      <td>2.830645</td>\n",
       "      <td>5.516129</td>\n",
       "      <td>1.300000</td>\n",
       "      <td>0.048387</td>\n",
       "      <td>6.574194</td>\n",
       "      <td>6.761290</td>\n",
       "      <td>1003.146774</td>\n",
       "      <td>3.687097</td>\n",
       "      <td>85.193548</td>\n",
       "      <td>5.924194</td>\n",
       "      <td>1.522581</td>\n",
       "      <td>0.887097</td>\n",
       "      <td>1994-01-01</td>\n",
       "    </tr>\n",
       "    <tr>\n",
       "      <th>1</th>\n",
       "      <td>52.2</td>\n",
       "      <td>1994-02-01</td>\n",
       "      <td>9.760714</td>\n",
       "      <td>3.382143</td>\n",
       "      <td>0.971429</td>\n",
       "      <td>4.142857</td>\n",
       "      <td>2.735714</td>\n",
       "      <td>1.035714</td>\n",
       "      <td>5.592857</td>\n",
       "      <td>5.121429</td>\n",
       "      <td>1011.214286</td>\n",
       "      <td>-0.471429</td>\n",
       "      <td>77.785714</td>\n",
       "      <td>2.435714</td>\n",
       "      <td>-3.253571</td>\n",
       "      <td>-3.958929</td>\n",
       "      <td>1994-02-01</td>\n",
       "    </tr>\n",
       "    <tr>\n",
       "      <th>2</th>\n",
       "      <td>81.8</td>\n",
       "      <td>1994-03-01</td>\n",
       "      <td>15.725806</td>\n",
       "      <td>5.274194</td>\n",
       "      <td>3.074194</td>\n",
       "      <td>5.419355</td>\n",
       "      <td>3.356452</td>\n",
       "      <td>0.000000</td>\n",
       "      <td>6.180645</td>\n",
       "      <td>7.654839</td>\n",
       "      <td>1006.640323</td>\n",
       "      <td>6.351613</td>\n",
       "      <td>78.903226</td>\n",
       "      <td>10.309677</td>\n",
       "      <td>3.083871</td>\n",
       "      <td>2.272581</td>\n",
       "      <td>1994-03-01</td>\n",
       "    </tr>\n",
       "    <tr>\n",
       "      <th>3</th>\n",
       "      <td>119.4</td>\n",
       "      <td>1994-04-01</td>\n",
       "      <td>12.066667</td>\n",
       "      <td>3.696667</td>\n",
       "      <td>2.138333</td>\n",
       "      <td>3.700000</td>\n",
       "      <td>5.241667</td>\n",
       "      <td>0.000000</td>\n",
       "      <td>5.343333</td>\n",
       "      <td>8.453333</td>\n",
       "      <td>1004.266667</td>\n",
       "      <td>8.863333</td>\n",
       "      <td>75.400000</td>\n",
       "      <td>13.446667</td>\n",
       "      <td>4.693333</td>\n",
       "      <td>2.756667</td>\n",
       "      <td>1994-04-01</td>\n",
       "    </tr>\n",
       "    <tr>\n",
       "      <th>4</th>\n",
       "      <td>99.7</td>\n",
       "      <td>1994-05-01</td>\n",
       "      <td>11.793548</td>\n",
       "      <td>3.174194</td>\n",
       "      <td>2.600000</td>\n",
       "      <td>3.741935</td>\n",
       "      <td>6.416129</td>\n",
       "      <td>0.000000</td>\n",
       "      <td>5.193548</td>\n",
       "      <td>10.616129</td>\n",
       "      <td>1006.914516</td>\n",
       "      <td>13.209677</td>\n",
       "      <td>73.806452</td>\n",
       "      <td>17.890323</td>\n",
       "      <td>8.080645</td>\n",
       "      <td>6.472581</td>\n",
       "      <td>1994-05-01</td>\n",
       "    </tr>\n",
       "    <tr>\n",
       "      <th>...</th>\n",
       "      <td>...</td>\n",
       "      <td>...</td>\n",
       "      <td>...</td>\n",
       "      <td>...</td>\n",
       "      <td>...</td>\n",
       "      <td>...</td>\n",
       "      <td>...</td>\n",
       "      <td>...</td>\n",
       "      <td>...</td>\n",
       "      <td>...</td>\n",
       "      <td>...</td>\n",
       "      <td>...</td>\n",
       "      <td>...</td>\n",
       "      <td>...</td>\n",
       "      <td>...</td>\n",
       "      <td>...</td>\n",
       "      <td>...</td>\n",
       "    </tr>\n",
       "    <tr>\n",
       "      <th>355</th>\n",
       "      <td>189.4</td>\n",
       "      <td>2023-08-01</td>\n",
       "      <td>11.090323</td>\n",
       "      <td>3.270968</td>\n",
       "      <td>3.135856</td>\n",
       "      <td>3.451613</td>\n",
       "      <td>6.235516</td>\n",
       "      <td>0.000000</td>\n",
       "      <td>5.706452</td>\n",
       "      <td>16.545161</td>\n",
       "      <td>1006.797001</td>\n",
       "      <td>18.088710</td>\n",
       "      <td>79.136774</td>\n",
       "      <td>23.435484</td>\n",
       "      <td>14.312903</td>\n",
       "      <td>12.627419</td>\n",
       "      <td>2023-08-01</td>\n",
       "    </tr>\n",
       "    <tr>\n",
       "      <th>356</th>\n",
       "      <td>146.8</td>\n",
       "      <td>2023-09-01</td>\n",
       "      <td>9.396667</td>\n",
       "      <td>3.163333</td>\n",
       "      <td>0.862931</td>\n",
       "      <td>1.666667</td>\n",
       "      <td>8.173867</td>\n",
       "      <td>0.000000</td>\n",
       "      <td>4.170088</td>\n",
       "      <td>15.110000</td>\n",
       "      <td>1011.508000</td>\n",
       "      <td>17.988333</td>\n",
       "      <td>75.687667</td>\n",
       "      <td>24.190000</td>\n",
       "      <td>12.336667</td>\n",
       "      <td>9.740000</td>\n",
       "      <td>2023-09-01</td>\n",
       "    </tr>\n",
       "    <tr>\n",
       "      <th>357</th>\n",
       "      <td>96.1</td>\n",
       "      <td>2023-10-01</td>\n",
       "      <td>11.383871</td>\n",
       "      <td>4.190323</td>\n",
       "      <td>3.687097</td>\n",
       "      <td>3.322581</td>\n",
       "      <td>2.825903</td>\n",
       "      <td>0.000000</td>\n",
       "      <td>6.759677</td>\n",
       "      <td>11.795161</td>\n",
       "      <td>1003.796452</td>\n",
       "      <td>12.354839</td>\n",
       "      <td>82.654516</td>\n",
       "      <td>16.619355</td>\n",
       "      <td>8.354839</td>\n",
       "      <td>6.717742</td>\n",
       "      <td>2023-10-01</td>\n",
       "    </tr>\n",
       "    <tr>\n",
       "      <th>358</th>\n",
       "      <td>45.3</td>\n",
       "      <td>2023-11-01</td>\n",
       "      <td>11.916667</td>\n",
       "      <td>4.570000</td>\n",
       "      <td>4.006667</td>\n",
       "      <td>4.783333</td>\n",
       "      <td>1.468333</td>\n",
       "      <td>0.259259</td>\n",
       "      <td>6.876863</td>\n",
       "      <td>8.260000</td>\n",
       "      <td>998.436667</td>\n",
       "      <td>6.095000</td>\n",
       "      <td>85.906333</td>\n",
       "      <td>8.660000</td>\n",
       "      <td>3.196667</td>\n",
       "      <td>1.536667</td>\n",
       "      <td>2023-11-01</td>\n",
       "    </tr>\n",
       "    <tr>\n",
       "      <th>359</th>\n",
       "      <td>47.2</td>\n",
       "      <td>2023-12-01</td>\n",
       "      <td>12.593548</td>\n",
       "      <td>4.829032</td>\n",
       "      <td>3.543656</td>\n",
       "      <td>4.548387</td>\n",
       "      <td>0.775016</td>\n",
       "      <td>0.870968</td>\n",
       "      <td>7.212903</td>\n",
       "      <td>7.564516</td>\n",
       "      <td>1004.447742</td>\n",
       "      <td>4.530645</td>\n",
       "      <td>86.296774</td>\n",
       "      <td>6.290323</td>\n",
       "      <td>2.251613</td>\n",
       "      <td>1.069355</td>\n",
       "      <td>2023-12-01</td>\n",
       "    </tr>\n",
       "  </tbody>\n",
       "</table>\n",
       "<p>360 rows × 17 columns</p>\n",
       "</div>"
      ],
      "text/plain": [
       "     Revenue      Datum         FX        FM       RSK      RSKF       SDK  \\\n",
       "0       68.4 1994-01-01  13.896774  4.796774  2.830645  5.516129  1.300000   \n",
       "1       52.2 1994-02-01   9.760714  3.382143  0.971429  4.142857  2.735714   \n",
       "2       81.8 1994-03-01  15.725806  5.274194  3.074194  5.419355  3.356452   \n",
       "3      119.4 1994-04-01  12.066667  3.696667  2.138333  3.700000  5.241667   \n",
       "4       99.7 1994-05-01  11.793548  3.174194  2.600000  3.741935  6.416129   \n",
       "..       ...        ...        ...       ...       ...       ...       ...   \n",
       "355    189.4 2023-08-01  11.090323  3.270968  3.135856  3.451613  6.235516   \n",
       "356    146.8 2023-09-01   9.396667  3.163333  0.862931  1.666667  8.173867   \n",
       "357     96.1 2023-10-01  11.383871  4.190323  3.687097  3.322581  2.825903   \n",
       "358     45.3 2023-11-01  11.916667  4.570000  4.006667  4.783333  1.468333   \n",
       "359     47.2 2023-12-01  12.593548  4.829032  3.543656  4.548387  0.775016   \n",
       "\n",
       "      SHK_TAG        NM        VPM           PM        TMK        UPM  \\\n",
       "0    0.048387  6.574194   6.761290  1003.146774   3.687097  85.193548   \n",
       "1    1.035714  5.592857   5.121429  1011.214286  -0.471429  77.785714   \n",
       "2    0.000000  6.180645   7.654839  1006.640323   6.351613  78.903226   \n",
       "3    0.000000  5.343333   8.453333  1004.266667   8.863333  75.400000   \n",
       "4    0.000000  5.193548  10.616129  1006.914516  13.209677  73.806452   \n",
       "..        ...       ...        ...          ...        ...        ...   \n",
       "355  0.000000  5.706452  16.545161  1006.797001  18.088710  79.136774   \n",
       "356  0.000000  4.170088  15.110000  1011.508000  17.988333  75.687667   \n",
       "357  0.000000  6.759677  11.795161  1003.796452  12.354839  82.654516   \n",
       "358  0.259259  6.876863   8.260000   998.436667   6.095000  85.906333   \n",
       "359  0.870968  7.212903   7.564516  1004.447742   4.530645  86.296774   \n",
       "\n",
       "           TXK        TNK        TGK       Date  \n",
       "0     5.924194   1.522581   0.887097 1994-01-01  \n",
       "1     2.435714  -3.253571  -3.958929 1994-02-01  \n",
       "2    10.309677   3.083871   2.272581 1994-03-01  \n",
       "3    13.446667   4.693333   2.756667 1994-04-01  \n",
       "4    17.890323   8.080645   6.472581 1994-05-01  \n",
       "..         ...        ...        ...        ...  \n",
       "355  23.435484  14.312903  12.627419 2023-08-01  \n",
       "356  24.190000  12.336667   9.740000 2023-09-01  \n",
       "357  16.619355   8.354839   6.717742 2023-10-01  \n",
       "358   8.660000   3.196667   1.536667 2023-11-01  \n",
       "359   6.290323   2.251613   1.069355 2023-12-01  \n",
       "\n",
       "[360 rows x 17 columns]"
      ]
     },
     "execution_count": 9,
     "metadata": {},
     "output_type": "execute_result"
    }
   ],
   "source": [
    "# zusammenführen beide Datensetzs über Monat und Jahr\n",
    "df_merged = pd.merge(df_camping, df_wetter, on=['Monat', 'Jahr'])\n",
    "# Tag für Umwandlung für Zurückwandlung hinzugefügt\n",
    "df_merged['day'] = 1\n",
    "# renaming in Englisch -> Daten müssen year, month und day gennant werden, um in anders Datumformat umgewandelt zu werden\n",
    "df_merged = df_merged.rename(columns={\"Monat\":\"month\",\"Jahr\":\"year\",\"Umsatz in millionen\":\"Revenue\"})\n",
    "df_merged['Date'] = pd.to_datetime(df_merged[['year', 'month',\"day\"]])\n",
    "# löschen altes Datumsformats\n",
    "dr_columns = [\"month\",\"year\",\"day\"]\n",
    "df_merged = df_merged.drop(columns=dr_columns)\n",
    "df_merged"
   ]
  },
  {
   "cell_type": "markdown",
   "metadata": {},
   "source": [
    "### 2.4 Zeitliche Entwicklung"
   ]
  },
  {
   "cell_type": "code",
   "execution_count": 10,
   "metadata": {},
   "outputs": [
    {
     "data": {
      "application/vnd.plotly.v1+json": {
       "config": {
        "plotlyServerURL": "https://plot.ly"
       },
       "data": [
        {
         "hovertemplate": "Date=%{x}<br> TMK=%{y}<extra></extra>",
         "legendgroup": "",
         "line": {
          "color": "#636efa",
          "dash": "solid"
         },
         "marker": {
          "symbol": "circle"
         },
         "mode": "lines",
         "name": "",
         "orientation": "v",
         "showlegend": false,
         "type": "scatter",
         "x": [
          "1994-01-01T00:00:00",
          "1994-02-01T00:00:00",
          "1994-03-01T00:00:00",
          "1994-04-01T00:00:00",
          "1994-05-01T00:00:00",
          "1994-06-01T00:00:00",
          "1994-07-01T00:00:00",
          "1994-08-01T00:00:00",
          "1994-09-01T00:00:00",
          "1994-10-01T00:00:00",
          "1994-11-01T00:00:00",
          "1994-12-01T00:00:00",
          "1995-01-01T00:00:00",
          "1995-02-01T00:00:00",
          "1995-03-01T00:00:00",
          "1995-04-01T00:00:00",
          "1995-05-01T00:00:00",
          "1995-06-01T00:00:00",
          "1995-07-01T00:00:00",
          "1995-08-01T00:00:00",
          "1995-09-01T00:00:00",
          "1995-10-01T00:00:00",
          "1995-11-01T00:00:00",
          "1995-12-01T00:00:00",
          "1996-01-01T00:00:00",
          "1996-02-01T00:00:00",
          "1996-03-01T00:00:00",
          "1996-04-01T00:00:00",
          "1996-05-01T00:00:00",
          "1996-06-01T00:00:00",
          "1996-07-01T00:00:00",
          "1996-08-01T00:00:00",
          "1996-09-01T00:00:00",
          "1996-10-01T00:00:00",
          "1996-11-01T00:00:00",
          "1996-12-01T00:00:00",
          "1997-01-01T00:00:00",
          "1997-02-01T00:00:00",
          "1997-03-01T00:00:00",
          "1997-04-01T00:00:00",
          "1997-05-01T00:00:00",
          "1997-06-01T00:00:00",
          "1997-07-01T00:00:00",
          "1997-08-01T00:00:00",
          "1997-09-01T00:00:00",
          "1997-10-01T00:00:00",
          "1997-11-01T00:00:00",
          "1997-12-01T00:00:00",
          "1998-01-01T00:00:00",
          "1998-02-01T00:00:00",
          "1998-03-01T00:00:00",
          "1998-04-01T00:00:00",
          "1998-05-01T00:00:00",
          "1998-06-01T00:00:00",
          "1998-07-01T00:00:00",
          "1998-08-01T00:00:00",
          "1998-09-01T00:00:00",
          "1998-10-01T00:00:00",
          "1998-11-01T00:00:00",
          "1998-12-01T00:00:00",
          "1999-01-01T00:00:00",
          "1999-02-01T00:00:00",
          "1999-03-01T00:00:00",
          "1999-04-01T00:00:00",
          "1999-05-01T00:00:00",
          "1999-06-01T00:00:00",
          "1999-07-01T00:00:00",
          "1999-08-01T00:00:00",
          "1999-09-01T00:00:00",
          "1999-10-01T00:00:00",
          "1999-11-01T00:00:00",
          "1999-12-01T00:00:00",
          "2000-01-01T00:00:00",
          "2000-02-01T00:00:00",
          "2000-03-01T00:00:00",
          "2000-04-01T00:00:00",
          "2000-05-01T00:00:00",
          "2000-06-01T00:00:00",
          "2000-07-01T00:00:00",
          "2000-08-01T00:00:00",
          "2000-09-01T00:00:00",
          "2000-10-01T00:00:00",
          "2000-11-01T00:00:00",
          "2000-12-01T00:00:00",
          "2001-01-01T00:00:00",
          "2001-02-01T00:00:00",
          "2001-03-01T00:00:00",
          "2001-04-01T00:00:00",
          "2001-05-01T00:00:00",
          "2001-06-01T00:00:00",
          "2001-07-01T00:00:00",
          "2001-08-01T00:00:00",
          "2001-09-01T00:00:00",
          "2001-10-01T00:00:00",
          "2001-11-01T00:00:00",
          "2001-12-01T00:00:00",
          "2002-01-01T00:00:00",
          "2002-02-01T00:00:00",
          "2002-03-01T00:00:00",
          "2002-04-01T00:00:00",
          "2002-05-01T00:00:00",
          "2002-06-01T00:00:00",
          "2002-07-01T00:00:00",
          "2002-08-01T00:00:00",
          "2002-09-01T00:00:00",
          "2002-10-01T00:00:00",
          "2002-11-01T00:00:00",
          "2002-12-01T00:00:00",
          "2003-01-01T00:00:00",
          "2003-02-01T00:00:00",
          "2003-03-01T00:00:00",
          "2003-04-01T00:00:00",
          "2003-05-01T00:00:00",
          "2003-06-01T00:00:00",
          "2003-07-01T00:00:00",
          "2003-08-01T00:00:00",
          "2003-09-01T00:00:00",
          "2003-10-01T00:00:00",
          "2003-11-01T00:00:00",
          "2003-12-01T00:00:00",
          "2004-01-01T00:00:00",
          "2004-02-01T00:00:00",
          "2004-03-01T00:00:00",
          "2004-04-01T00:00:00",
          "2004-05-01T00:00:00",
          "2004-06-01T00:00:00",
          "2004-07-01T00:00:00",
          "2004-08-01T00:00:00",
          "2004-09-01T00:00:00",
          "2004-10-01T00:00:00",
          "2004-11-01T00:00:00",
          "2004-12-01T00:00:00",
          "2005-01-01T00:00:00",
          "2005-02-01T00:00:00",
          "2005-03-01T00:00:00",
          "2005-04-01T00:00:00",
          "2005-05-01T00:00:00",
          "2005-06-01T00:00:00",
          "2005-07-01T00:00:00",
          "2005-08-01T00:00:00",
          "2005-09-01T00:00:00",
          "2005-10-01T00:00:00",
          "2005-11-01T00:00:00",
          "2005-12-01T00:00:00",
          "2006-01-01T00:00:00",
          "2006-02-01T00:00:00",
          "2006-03-01T00:00:00",
          "2006-04-01T00:00:00",
          "2006-05-01T00:00:00",
          "2006-06-01T00:00:00",
          "2006-07-01T00:00:00",
          "2006-08-01T00:00:00",
          "2006-09-01T00:00:00",
          "2006-10-01T00:00:00",
          "2006-11-01T00:00:00",
          "2006-12-01T00:00:00",
          "2007-01-01T00:00:00",
          "2007-02-01T00:00:00",
          "2007-03-01T00:00:00",
          "2007-04-01T00:00:00",
          "2007-05-01T00:00:00",
          "2007-06-01T00:00:00",
          "2007-07-01T00:00:00",
          "2007-08-01T00:00:00",
          "2007-09-01T00:00:00",
          "2007-10-01T00:00:00",
          "2007-11-01T00:00:00",
          "2007-12-01T00:00:00",
          "2008-01-01T00:00:00",
          "2008-02-01T00:00:00",
          "2008-03-01T00:00:00",
          "2008-04-01T00:00:00",
          "2008-05-01T00:00:00",
          "2008-06-01T00:00:00",
          "2008-07-01T00:00:00",
          "2008-08-01T00:00:00",
          "2008-09-01T00:00:00",
          "2008-10-01T00:00:00",
          "2008-11-01T00:00:00",
          "2008-12-01T00:00:00",
          "2009-01-01T00:00:00",
          "2009-02-01T00:00:00",
          "2009-03-01T00:00:00",
          "2009-04-01T00:00:00",
          "2009-05-01T00:00:00",
          "2009-06-01T00:00:00",
          "2009-07-01T00:00:00",
          "2009-08-01T00:00:00",
          "2009-09-01T00:00:00",
          "2009-10-01T00:00:00",
          "2009-11-01T00:00:00",
          "2009-12-01T00:00:00",
          "2010-01-01T00:00:00",
          "2010-02-01T00:00:00",
          "2010-03-01T00:00:00",
          "2010-04-01T00:00:00",
          "2010-05-01T00:00:00",
          "2010-06-01T00:00:00",
          "2010-07-01T00:00:00",
          "2010-08-01T00:00:00",
          "2010-09-01T00:00:00",
          "2010-10-01T00:00:00",
          "2010-11-01T00:00:00",
          "2010-12-01T00:00:00",
          "2011-01-01T00:00:00",
          "2011-02-01T00:00:00",
          "2011-03-01T00:00:00",
          "2011-04-01T00:00:00",
          "2011-05-01T00:00:00",
          "2011-06-01T00:00:00",
          "2011-07-01T00:00:00",
          "2011-08-01T00:00:00",
          "2011-09-01T00:00:00",
          "2011-10-01T00:00:00",
          "2011-11-01T00:00:00",
          "2011-12-01T00:00:00",
          "2012-01-01T00:00:00",
          "2012-02-01T00:00:00",
          "2012-03-01T00:00:00",
          "2012-04-01T00:00:00",
          "2012-05-01T00:00:00",
          "2012-06-01T00:00:00",
          "2012-07-01T00:00:00",
          "2012-08-01T00:00:00",
          "2012-09-01T00:00:00",
          "2012-10-01T00:00:00",
          "2012-11-01T00:00:00",
          "2012-12-01T00:00:00",
          "2013-01-01T00:00:00",
          "2013-02-01T00:00:00",
          "2013-03-01T00:00:00",
          "2013-04-01T00:00:00",
          "2013-05-01T00:00:00",
          "2013-06-01T00:00:00",
          "2013-07-01T00:00:00",
          "2013-08-01T00:00:00",
          "2013-09-01T00:00:00",
          "2013-10-01T00:00:00",
          "2013-11-01T00:00:00",
          "2013-12-01T00:00:00",
          "2014-01-01T00:00:00",
          "2014-02-01T00:00:00",
          "2014-03-01T00:00:00",
          "2014-04-01T00:00:00",
          "2014-05-01T00:00:00",
          "2014-06-01T00:00:00",
          "2014-07-01T00:00:00",
          "2014-08-01T00:00:00",
          "2014-09-01T00:00:00",
          "2014-10-01T00:00:00",
          "2014-11-01T00:00:00",
          "2014-12-01T00:00:00",
          "2015-01-01T00:00:00",
          "2015-02-01T00:00:00",
          "2015-03-01T00:00:00",
          "2015-04-01T00:00:00",
          "2015-05-01T00:00:00",
          "2015-06-01T00:00:00",
          "2015-07-01T00:00:00",
          "2015-08-01T00:00:00",
          "2015-09-01T00:00:00",
          "2015-10-01T00:00:00",
          "2015-11-01T00:00:00",
          "2015-12-01T00:00:00",
          "2016-01-01T00:00:00",
          "2016-02-01T00:00:00",
          "2016-03-01T00:00:00",
          "2016-04-01T00:00:00",
          "2016-05-01T00:00:00",
          "2016-06-01T00:00:00",
          "2016-07-01T00:00:00",
          "2016-08-01T00:00:00",
          "2016-09-01T00:00:00",
          "2016-10-01T00:00:00",
          "2016-11-01T00:00:00",
          "2016-12-01T00:00:00",
          "2017-01-01T00:00:00",
          "2017-02-01T00:00:00",
          "2017-03-01T00:00:00",
          "2017-04-01T00:00:00",
          "2017-05-01T00:00:00",
          "2017-06-01T00:00:00",
          "2017-07-01T00:00:00",
          "2017-08-01T00:00:00",
          "2017-09-01T00:00:00",
          "2017-10-01T00:00:00",
          "2017-11-01T00:00:00",
          "2017-12-01T00:00:00",
          "2018-01-01T00:00:00",
          "2018-02-01T00:00:00",
          "2018-03-01T00:00:00",
          "2018-04-01T00:00:00",
          "2018-05-01T00:00:00",
          "2018-06-01T00:00:00",
          "2018-07-01T00:00:00",
          "2018-08-01T00:00:00",
          "2018-09-01T00:00:00",
          "2018-10-01T00:00:00",
          "2018-11-01T00:00:00",
          "2018-12-01T00:00:00",
          "2019-01-01T00:00:00",
          "2019-02-01T00:00:00",
          "2019-03-01T00:00:00",
          "2019-04-01T00:00:00",
          "2019-05-01T00:00:00",
          "2019-06-01T00:00:00",
          "2019-07-01T00:00:00",
          "2019-08-01T00:00:00",
          "2019-09-01T00:00:00",
          "2019-10-01T00:00:00",
          "2019-11-01T00:00:00",
          "2019-12-01T00:00:00",
          "2020-01-01T00:00:00",
          "2020-02-01T00:00:00",
          "2020-03-01T00:00:00",
          "2020-04-01T00:00:00",
          "2020-05-01T00:00:00",
          "2020-06-01T00:00:00",
          "2020-07-01T00:00:00",
          "2020-08-01T00:00:00",
          "2020-09-01T00:00:00",
          "2020-10-01T00:00:00",
          "2020-11-01T00:00:00",
          "2020-12-01T00:00:00",
          "2021-01-01T00:00:00",
          "2021-02-01T00:00:00",
          "2021-03-01T00:00:00",
          "2021-04-01T00:00:00",
          "2021-05-01T00:00:00",
          "2021-06-01T00:00:00",
          "2021-07-01T00:00:00",
          "2021-08-01T00:00:00",
          "2021-09-01T00:00:00",
          "2021-10-01T00:00:00",
          "2021-11-01T00:00:00",
          "2021-12-01T00:00:00",
          "2022-01-01T00:00:00",
          "2022-02-01T00:00:00",
          "2022-03-01T00:00:00",
          "2022-04-01T00:00:00",
          "2022-05-01T00:00:00",
          "2022-06-01T00:00:00",
          "2022-07-01T00:00:00",
          "2022-08-01T00:00:00",
          "2022-09-01T00:00:00",
          "2022-10-01T00:00:00",
          "2022-11-01T00:00:00",
          "2022-12-01T00:00:00",
          "2023-01-01T00:00:00",
          "2023-02-01T00:00:00",
          "2023-03-01T00:00:00",
          "2023-04-01T00:00:00",
          "2023-05-01T00:00:00",
          "2023-06-01T00:00:00",
          "2023-07-01T00:00:00",
          "2023-08-01T00:00:00",
          "2023-09-01T00:00:00",
          "2023-10-01T00:00:00",
          "2023-11-01T00:00:00",
          "2023-12-01T00:00:00"
         ],
         "xaxis": "x",
         "y": [
          3.6870967741935488,
          -0.4714285714285715,
          6.351612903225806,
          8.863333333333333,
          13.209677419354838,
          16.29,
          22.57903225806452,
          18.200000000000003,
          13.853333333333332,
          8.153225806451612,
          7.786666666666667,
          4.262903225806452,
          1.0258064516129033,
          5.296428571428571,
          3.896774193548387,
          9.004999999999999,
          13.162903225806453,
          15.178333333333333,
          21.05967741935484,
          19.538709677419355,
          13.581666666666669,
          12.275806451612905,
          3.4416666666666664,
          -1.8096774193548384,
          -2.782258064516129,
          -2.043103448275862,
          1.0596774193548388,
          9.383333333333336,
          11.648387096774194,
          15.943333333333332,
          16.66774193548387,
          18.029032258064515,
          11.666666666666666,
          9.96774193548387,
          5.180000000000001,
          -2.083870967741935,
          -2.1193548387096777,
          4.7250000000000005,
          5.84516129032258,
          6.989999999999999,
          13.074193548387097,
          16.196666666666665,
          17.758064516129032,
          20.796774193548387,
          14.033333333333331,
          8.029032258064516,
          4.25,
          2.4838709677419355,
          3.225806451612903,
          5.614285714285714,
          5.800000000000001,
          9.253333333333334,
          14.838709677419354,
          16.223333333333333,
          16.651612903225807,
          16.740322580645163,
          14.075,
          9.127419354838713,
          2.0666666666666664,
          1.5774193548387097,
          3.525806451612904,
          1.6,
          5.948387096774193,
          9.813333333333333,
          14.506451612903223,
          15.78,
          19.88387096774193,
          17.648387096774194,
          17.946666666666665,
          9.919354838709678,
          4.8,
          2.7870967741935484,
          2.0129032258064514,
          4.510344827586208,
          5.693548387096774,
          10.916666666666666,
          15.332258064516129,
          17.326666666666664,
          15.612903225806452,
          17.76451612903226,
          14.466666666666669,
          11.19032258064516,
          7.116666666666666,
          3.4290322580645163,
          1.2483870967741937,
          2.3857142857142857,
          3.6193548387096777,
          7.876666666666667,
          15.148387096774194,
          14.59,
          19.248387096774195,
          18.93548387096774,
          12.753333333333334,
          13.148387096774194,
          4.510000000000001,
          0.4290322580645161,
          2.1903225806451614,
          5.55,
          5.72258064516129,
          8.79,
          14.082258064516129,
          17.714999999999996,
          18.293548387096777,
          19.80806451612904,
          14.468333333333334,
          8.387096774193548,
          5.675,
          -0.1709677419354838,
          0.2774193548387096,
          -1.042857142857143,
          5.054838709677419,
          8.803333333333335,
          14.2,
          19.73333333333333,
          19.606451612903225,
          20.26129032258065,
          14.77,
          6.470967741935484,
          6.48,
          2.883870967741936,
          0.6032258064516128,
          3.4,
          5.087096774193548,
          10.096666666666666,
          12.258064516129032,
          15.93,
          16.596774193548384,
          18.94677419354839,
          14.638333333333332,
          10.54032258064516,
          4.791666666666666,
          1.870967741935484,
          3.0887096774193554,
          -0.1625,
          4.130645161290323,
          10.195,
          13.464516129032258,
          16.825,
          18.501612903225805,
          16.298387096774192,
          15.793333333333331,
          11.551612903225806,
          4.966666666666667,
          1.5903225806451613,
          -1.803225806451613,
          0.225,
          1.846774193548387,
          8.676666666666666,
          13.746774193548386,
          17.656666666666666,
          23.12258064516129,
          16.570967741935483,
          17.711666666666666,
          12.74516129032258,
          7.859999999999999,
          5.058064516129032,
          5.480645161290322,
          4.148214285714285,
          6.97258064516129,
          11.935,
          14.59193548387097,
          17.308333333333334,
          17.289877641824248,
          17.44164746543779,
          13.498333333333337,
          8.966129032258063,
          4.125,
          2.009677419354839,
          4.067741935483871,
          4.5344827586206895,
          4.964516129032258,
          8.273333333333333,
          15.270967741935484,
          16.783333333333335,
          18.009677419354837,
          17.661290322580644,
          13.323333333333332,
          9.62258064516129,
          5.87,
          1.9387096774193548,
          -1.3709677419354838,
          0.975,
          5.296774193548386,
          12.513333333333332,
          14.041935483870969,
          15.33,
          18.39032258064516,
          18.703225806451613,
          14.956666666666669,
          8.525806451612903,
          8.206666666666667,
          1.0870967741935482,
          -3.1193548387096777,
          -0.1642857142857143,
          4.867741935483871,
          9.563333333333333,
          10.548387096774194,
          16.87,
          21.13225806451613,
          17.17096774193548,
          13.096666666666666,
          8.66451612903226,
          5.35,
          -2.903225806451613,
          1.8774193548387093,
          1.3714285714285714,
          4.67741935483871,
          12.31,
          14.361290322580643,
          16.643333333333334,
          16.82903225806452,
          17.693548387096776,
          15.7,
          10.103225806451611,
          4.973333333333333,
          4.6,
          2.606451612903226,
          -1.313793103448276,
          7.670967741935484,
          8.47,
          14.577419354838709,
          15.38,
          17.4741935483871,
          18.53103448275862,
          14.286666666666669,
          9.574193548387097,
          5.9,
          1.8387096774193548,
          0.7838709677419357,
          0.2214285714285714,
          0.7290322580645161,
          8.723333333333333,
          12.14516129032258,
          15.913333333333334,
          19.46451612903226,
          18.532258064516128,
          13.616666666666667,
          11.432258064516128,
          5.510000000000001,
          4.370967741935484,
          2.1451612903225805,
          5.25,
          7.487096774193549,
          11.78,
          12.680645161290323,
          16.026666666666667,
          19.796774193548387,
          16.451612903225808,
          15.46,
          12.71935483870968,
          7.1,
          3.293548387096774,
          3.064516129032258,
          1.7285714285714284,
          5.883870967741935,
          8.96,
          12.525806451612905,
          15.916666666666666,
          19.07741935483871,
          19.361290322580647,
          13.416666666666666,
          9.038709677419355,
          8.063333333333334,
          7.54516129032258,
          0.9580645161290322,
          3.972413793103448,
          4.67741935483871,
          8.29,
          14.406451612903227,
          17.290000000000003,
          19.032258064516128,
          17.980645161290322,
          17.473333333333336,
          9.077419354838709,
          4.253333333333333,
          2.467741935483871,
          -1.2129032258064516,
          2.753571428571429,
          7.27741935483871,
          8.106666666666666,
          14.980645161290322,
          18.48333333333333,
          18.34193548387097,
          17.79032258064516,
          13.546666666666663,
          11.577419354838709,
          5.886666666666667,
          3.612903225806452,
          3.787096774193548,
          -1.1357142857142857,
          2.5129032258064514,
          12.786666666666669,
          16.416129032258063,
          17.816666666666666,
          20.77741935483871,
          19.83225806451613,
          15.536666666666669,
          11.43225806451613,
          5.766666666666667,
          4.601612903225806,
          1.6451612903225803,
          5.074999999999999,
          7.2854838709677425,
          9.983333333333334,
          11.335483870967742,
          19.763333333333332,
          19.145161290322584,
          19.60967741935484,
          14.645,
          11.530645161290323,
          5.885,
          4.4967741935483865,
          4.441935483870967,
          5.934482758620689,
          6.006451612903225,
          10.683333333333334,
          12.395218894009217,
          17.61,
          17.398387096774194,
          20.685483870967744,
          15.238333333333332,
          11.201612903225808,
          7.008333333333333,
          3.6354838709677417,
          1.3419354838709678,
          1.939285714285714,
          5.57741935483871,
          6.573333333333333,
          11.319354838709678,
          19.273333333333333,
          19.05322580645161,
          16.988709677419354,
          15.795,
          10.522580645161293,
          5.3133333333333335,
          3.0370967741935484,
          3.2693548387096776,
          5.191071428571428,
          5.67258064516129,
          8.516666666666666,
          14.86451612903226,
          18.47,
          19.10645161290323,
          20.94677419354839,
          13.98,
          12.90967741935484,
          6.703333333333333,
          2.303225806451613,
          4.498387096774193,
          3.830357142857143,
          6.1161290322580655,
          8.228333333333333,
          13.690322580645162,
          19.351666666666667,
          18.524193548387096,
          18.08870967741936,
          17.98833333333333,
          12.35483870967742,
          6.095000000000001,
          4.530645161290322
         ],
         "yaxis": "y"
        }
       ],
       "layout": {
        "legend": {
         "tracegroupgap": 0
        },
        "margin": {
         "t": 60
        },
        "template": {
         "data": {
          "bar": [
           {
            "error_x": {
             "color": "#2a3f5f"
            },
            "error_y": {
             "color": "#2a3f5f"
            },
            "marker": {
             "line": {
              "color": "#E5ECF6",
              "width": 0.5
             },
             "pattern": {
              "fillmode": "overlay",
              "size": 10,
              "solidity": 0.2
             }
            },
            "type": "bar"
           }
          ],
          "barpolar": [
           {
            "marker": {
             "line": {
              "color": "#E5ECF6",
              "width": 0.5
             },
             "pattern": {
              "fillmode": "overlay",
              "size": 10,
              "solidity": 0.2
             }
            },
            "type": "barpolar"
           }
          ],
          "carpet": [
           {
            "aaxis": {
             "endlinecolor": "#2a3f5f",
             "gridcolor": "white",
             "linecolor": "white",
             "minorgridcolor": "white",
             "startlinecolor": "#2a3f5f"
            },
            "baxis": {
             "endlinecolor": "#2a3f5f",
             "gridcolor": "white",
             "linecolor": "white",
             "minorgridcolor": "white",
             "startlinecolor": "#2a3f5f"
            },
            "type": "carpet"
           }
          ],
          "choropleth": [
           {
            "colorbar": {
             "outlinewidth": 0,
             "ticks": ""
            },
            "type": "choropleth"
           }
          ],
          "contour": [
           {
            "colorbar": {
             "outlinewidth": 0,
             "ticks": ""
            },
            "colorscale": [
             [
              0,
              "#0d0887"
             ],
             [
              0.1111111111111111,
              "#46039f"
             ],
             [
              0.2222222222222222,
              "#7201a8"
             ],
             [
              0.3333333333333333,
              "#9c179e"
             ],
             [
              0.4444444444444444,
              "#bd3786"
             ],
             [
              0.5555555555555556,
              "#d8576b"
             ],
             [
              0.6666666666666666,
              "#ed7953"
             ],
             [
              0.7777777777777778,
              "#fb9f3a"
             ],
             [
              0.8888888888888888,
              "#fdca26"
             ],
             [
              1,
              "#f0f921"
             ]
            ],
            "type": "contour"
           }
          ],
          "contourcarpet": [
           {
            "colorbar": {
             "outlinewidth": 0,
             "ticks": ""
            },
            "type": "contourcarpet"
           }
          ],
          "heatmap": [
           {
            "colorbar": {
             "outlinewidth": 0,
             "ticks": ""
            },
            "colorscale": [
             [
              0,
              "#0d0887"
             ],
             [
              0.1111111111111111,
              "#46039f"
             ],
             [
              0.2222222222222222,
              "#7201a8"
             ],
             [
              0.3333333333333333,
              "#9c179e"
             ],
             [
              0.4444444444444444,
              "#bd3786"
             ],
             [
              0.5555555555555556,
              "#d8576b"
             ],
             [
              0.6666666666666666,
              "#ed7953"
             ],
             [
              0.7777777777777778,
              "#fb9f3a"
             ],
             [
              0.8888888888888888,
              "#fdca26"
             ],
             [
              1,
              "#f0f921"
             ]
            ],
            "type": "heatmap"
           }
          ],
          "heatmapgl": [
           {
            "colorbar": {
             "outlinewidth": 0,
             "ticks": ""
            },
            "colorscale": [
             [
              0,
              "#0d0887"
             ],
             [
              0.1111111111111111,
              "#46039f"
             ],
             [
              0.2222222222222222,
              "#7201a8"
             ],
             [
              0.3333333333333333,
              "#9c179e"
             ],
             [
              0.4444444444444444,
              "#bd3786"
             ],
             [
              0.5555555555555556,
              "#d8576b"
             ],
             [
              0.6666666666666666,
              "#ed7953"
             ],
             [
              0.7777777777777778,
              "#fb9f3a"
             ],
             [
              0.8888888888888888,
              "#fdca26"
             ],
             [
              1,
              "#f0f921"
             ]
            ],
            "type": "heatmapgl"
           }
          ],
          "histogram": [
           {
            "marker": {
             "pattern": {
              "fillmode": "overlay",
              "size": 10,
              "solidity": 0.2
             }
            },
            "type": "histogram"
           }
          ],
          "histogram2d": [
           {
            "colorbar": {
             "outlinewidth": 0,
             "ticks": ""
            },
            "colorscale": [
             [
              0,
              "#0d0887"
             ],
             [
              0.1111111111111111,
              "#46039f"
             ],
             [
              0.2222222222222222,
              "#7201a8"
             ],
             [
              0.3333333333333333,
              "#9c179e"
             ],
             [
              0.4444444444444444,
              "#bd3786"
             ],
             [
              0.5555555555555556,
              "#d8576b"
             ],
             [
              0.6666666666666666,
              "#ed7953"
             ],
             [
              0.7777777777777778,
              "#fb9f3a"
             ],
             [
              0.8888888888888888,
              "#fdca26"
             ],
             [
              1,
              "#f0f921"
             ]
            ],
            "type": "histogram2d"
           }
          ],
          "histogram2dcontour": [
           {
            "colorbar": {
             "outlinewidth": 0,
             "ticks": ""
            },
            "colorscale": [
             [
              0,
              "#0d0887"
             ],
             [
              0.1111111111111111,
              "#46039f"
             ],
             [
              0.2222222222222222,
              "#7201a8"
             ],
             [
              0.3333333333333333,
              "#9c179e"
             ],
             [
              0.4444444444444444,
              "#bd3786"
             ],
             [
              0.5555555555555556,
              "#d8576b"
             ],
             [
              0.6666666666666666,
              "#ed7953"
             ],
             [
              0.7777777777777778,
              "#fb9f3a"
             ],
             [
              0.8888888888888888,
              "#fdca26"
             ],
             [
              1,
              "#f0f921"
             ]
            ],
            "type": "histogram2dcontour"
           }
          ],
          "mesh3d": [
           {
            "colorbar": {
             "outlinewidth": 0,
             "ticks": ""
            },
            "type": "mesh3d"
           }
          ],
          "parcoords": [
           {
            "line": {
             "colorbar": {
              "outlinewidth": 0,
              "ticks": ""
             }
            },
            "type": "parcoords"
           }
          ],
          "pie": [
           {
            "automargin": true,
            "type": "pie"
           }
          ],
          "scatter": [
           {
            "fillpattern": {
             "fillmode": "overlay",
             "size": 10,
             "solidity": 0.2
            },
            "type": "scatter"
           }
          ],
          "scatter3d": [
           {
            "line": {
             "colorbar": {
              "outlinewidth": 0,
              "ticks": ""
             }
            },
            "marker": {
             "colorbar": {
              "outlinewidth": 0,
              "ticks": ""
             }
            },
            "type": "scatter3d"
           }
          ],
          "scattercarpet": [
           {
            "marker": {
             "colorbar": {
              "outlinewidth": 0,
              "ticks": ""
             }
            },
            "type": "scattercarpet"
           }
          ],
          "scattergeo": [
           {
            "marker": {
             "colorbar": {
              "outlinewidth": 0,
              "ticks": ""
             }
            },
            "type": "scattergeo"
           }
          ],
          "scattergl": [
           {
            "marker": {
             "colorbar": {
              "outlinewidth": 0,
              "ticks": ""
             }
            },
            "type": "scattergl"
           }
          ],
          "scattermapbox": [
           {
            "marker": {
             "colorbar": {
              "outlinewidth": 0,
              "ticks": ""
             }
            },
            "type": "scattermapbox"
           }
          ],
          "scatterpolar": [
           {
            "marker": {
             "colorbar": {
              "outlinewidth": 0,
              "ticks": ""
             }
            },
            "type": "scatterpolar"
           }
          ],
          "scatterpolargl": [
           {
            "marker": {
             "colorbar": {
              "outlinewidth": 0,
              "ticks": ""
             }
            },
            "type": "scatterpolargl"
           }
          ],
          "scatterternary": [
           {
            "marker": {
             "colorbar": {
              "outlinewidth": 0,
              "ticks": ""
             }
            },
            "type": "scatterternary"
           }
          ],
          "surface": [
           {
            "colorbar": {
             "outlinewidth": 0,
             "ticks": ""
            },
            "colorscale": [
             [
              0,
              "#0d0887"
             ],
             [
              0.1111111111111111,
              "#46039f"
             ],
             [
              0.2222222222222222,
              "#7201a8"
             ],
             [
              0.3333333333333333,
              "#9c179e"
             ],
             [
              0.4444444444444444,
              "#bd3786"
             ],
             [
              0.5555555555555556,
              "#d8576b"
             ],
             [
              0.6666666666666666,
              "#ed7953"
             ],
             [
              0.7777777777777778,
              "#fb9f3a"
             ],
             [
              0.8888888888888888,
              "#fdca26"
             ],
             [
              1,
              "#f0f921"
             ]
            ],
            "type": "surface"
           }
          ],
          "table": [
           {
            "cells": {
             "fill": {
              "color": "#EBF0F8"
             },
             "line": {
              "color": "white"
             }
            },
            "header": {
             "fill": {
              "color": "#C8D4E3"
             },
             "line": {
              "color": "white"
             }
            },
            "type": "table"
           }
          ]
         },
         "layout": {
          "annotationdefaults": {
           "arrowcolor": "#2a3f5f",
           "arrowhead": 0,
           "arrowwidth": 1
          },
          "autotypenumbers": "strict",
          "coloraxis": {
           "colorbar": {
            "outlinewidth": 0,
            "ticks": ""
           }
          },
          "colorscale": {
           "diverging": [
            [
             0,
             "#8e0152"
            ],
            [
             0.1,
             "#c51b7d"
            ],
            [
             0.2,
             "#de77ae"
            ],
            [
             0.3,
             "#f1b6da"
            ],
            [
             0.4,
             "#fde0ef"
            ],
            [
             0.5,
             "#f7f7f7"
            ],
            [
             0.6,
             "#e6f5d0"
            ],
            [
             0.7,
             "#b8e186"
            ],
            [
             0.8,
             "#7fbc41"
            ],
            [
             0.9,
             "#4d9221"
            ],
            [
             1,
             "#276419"
            ]
           ],
           "sequential": [
            [
             0,
             "#0d0887"
            ],
            [
             0.1111111111111111,
             "#46039f"
            ],
            [
             0.2222222222222222,
             "#7201a8"
            ],
            [
             0.3333333333333333,
             "#9c179e"
            ],
            [
             0.4444444444444444,
             "#bd3786"
            ],
            [
             0.5555555555555556,
             "#d8576b"
            ],
            [
             0.6666666666666666,
             "#ed7953"
            ],
            [
             0.7777777777777778,
             "#fb9f3a"
            ],
            [
             0.8888888888888888,
             "#fdca26"
            ],
            [
             1,
             "#f0f921"
            ]
           ],
           "sequentialminus": [
            [
             0,
             "#0d0887"
            ],
            [
             0.1111111111111111,
             "#46039f"
            ],
            [
             0.2222222222222222,
             "#7201a8"
            ],
            [
             0.3333333333333333,
             "#9c179e"
            ],
            [
             0.4444444444444444,
             "#bd3786"
            ],
            [
             0.5555555555555556,
             "#d8576b"
            ],
            [
             0.6666666666666666,
             "#ed7953"
            ],
            [
             0.7777777777777778,
             "#fb9f3a"
            ],
            [
             0.8888888888888888,
             "#fdca26"
            ],
            [
             1,
             "#f0f921"
            ]
           ]
          },
          "colorway": [
           "#636efa",
           "#EF553B",
           "#00cc96",
           "#ab63fa",
           "#FFA15A",
           "#19d3f3",
           "#FF6692",
           "#B6E880",
           "#FF97FF",
           "#FECB52"
          ],
          "font": {
           "color": "#2a3f5f"
          },
          "geo": {
           "bgcolor": "white",
           "lakecolor": "white",
           "landcolor": "#E5ECF6",
           "showlakes": true,
           "showland": true,
           "subunitcolor": "white"
          },
          "hoverlabel": {
           "align": "left"
          },
          "hovermode": "closest",
          "mapbox": {
           "style": "light"
          },
          "paper_bgcolor": "white",
          "plot_bgcolor": "#E5ECF6",
          "polar": {
           "angularaxis": {
            "gridcolor": "white",
            "linecolor": "white",
            "ticks": ""
           },
           "bgcolor": "#E5ECF6",
           "radialaxis": {
            "gridcolor": "white",
            "linecolor": "white",
            "ticks": ""
           }
          },
          "scene": {
           "xaxis": {
            "backgroundcolor": "#E5ECF6",
            "gridcolor": "white",
            "gridwidth": 2,
            "linecolor": "white",
            "showbackground": true,
            "ticks": "",
            "zerolinecolor": "white"
           },
           "yaxis": {
            "backgroundcolor": "#E5ECF6",
            "gridcolor": "white",
            "gridwidth": 2,
            "linecolor": "white",
            "showbackground": true,
            "ticks": "",
            "zerolinecolor": "white"
           },
           "zaxis": {
            "backgroundcolor": "#E5ECF6",
            "gridcolor": "white",
            "gridwidth": 2,
            "linecolor": "white",
            "showbackground": true,
            "ticks": "",
            "zerolinecolor": "white"
           }
          },
          "shapedefaults": {
           "line": {
            "color": "#2a3f5f"
           }
          },
          "ternary": {
           "aaxis": {
            "gridcolor": "white",
            "linecolor": "white",
            "ticks": ""
           },
           "baxis": {
            "gridcolor": "white",
            "linecolor": "white",
            "ticks": ""
           },
           "bgcolor": "#E5ECF6",
           "caxis": {
            "gridcolor": "white",
            "linecolor": "white",
            "ticks": ""
           }
          },
          "title": {
           "x": 0.05
          },
          "xaxis": {
           "automargin": true,
           "gridcolor": "white",
           "linecolor": "white",
           "ticks": "",
           "title": {
            "standoff": 15
           },
           "zerolinecolor": "white",
           "zerolinewidth": 2
          },
          "yaxis": {
           "automargin": true,
           "gridcolor": "white",
           "linecolor": "white",
           "ticks": "",
           "title": {
            "standoff": 15
           },
           "zerolinecolor": "white",
           "zerolinewidth": 2
          }
         }
        },
        "xaxis": {
         "anchor": "y",
         "domain": [
          0,
          1
         ],
         "title": {
          "text": "Date"
         }
        },
        "yaxis": {
         "anchor": "x",
         "domain": [
          0,
          1
         ],
         "title": {
          "text": " TMK"
         }
        }
       }
      }
     },
     "metadata": {},
     "output_type": "display_data"
    },
    {
     "data": {
      "application/vnd.plotly.v1+json": {
       "config": {
        "plotlyServerURL": "https://plot.ly"
       },
       "data": [
        {
         "hovertemplate": "Date=%{x}<br>Revenue=%{y}<extra></extra>",
         "legendgroup": "",
         "line": {
          "color": "#636efa",
          "dash": "solid"
         },
         "marker": {
          "symbol": "circle"
         },
         "mode": "lines",
         "name": "",
         "orientation": "v",
         "showlegend": false,
         "type": "scatter",
         "x": [
          "1994-01-01T00:00:00",
          "1994-02-01T00:00:00",
          "1994-03-01T00:00:00",
          "1994-04-01T00:00:00",
          "1994-05-01T00:00:00",
          "1994-06-01T00:00:00",
          "1994-07-01T00:00:00",
          "1994-08-01T00:00:00",
          "1994-09-01T00:00:00",
          "1994-10-01T00:00:00",
          "1994-11-01T00:00:00",
          "1994-12-01T00:00:00",
          "1995-01-01T00:00:00",
          "1995-02-01T00:00:00",
          "1995-03-01T00:00:00",
          "1995-04-01T00:00:00",
          "1995-05-01T00:00:00",
          "1995-06-01T00:00:00",
          "1995-07-01T00:00:00",
          "1995-08-01T00:00:00",
          "1995-09-01T00:00:00",
          "1995-10-01T00:00:00",
          "1995-11-01T00:00:00",
          "1995-12-01T00:00:00",
          "1996-01-01T00:00:00",
          "1996-02-01T00:00:00",
          "1996-03-01T00:00:00",
          "1996-04-01T00:00:00",
          "1996-05-01T00:00:00",
          "1996-06-01T00:00:00",
          "1996-07-01T00:00:00",
          "1996-08-01T00:00:00",
          "1996-09-01T00:00:00",
          "1996-10-01T00:00:00",
          "1996-11-01T00:00:00",
          "1996-12-01T00:00:00",
          "1997-01-01T00:00:00",
          "1997-02-01T00:00:00",
          "1997-03-01T00:00:00",
          "1997-04-01T00:00:00",
          "1997-05-01T00:00:00",
          "1997-06-01T00:00:00",
          "1997-07-01T00:00:00",
          "1997-08-01T00:00:00",
          "1997-09-01T00:00:00",
          "1997-10-01T00:00:00",
          "1997-11-01T00:00:00",
          "1997-12-01T00:00:00",
          "1998-01-01T00:00:00",
          "1998-02-01T00:00:00",
          "1998-03-01T00:00:00",
          "1998-04-01T00:00:00",
          "1998-05-01T00:00:00",
          "1998-06-01T00:00:00",
          "1998-07-01T00:00:00",
          "1998-08-01T00:00:00",
          "1998-09-01T00:00:00",
          "1998-10-01T00:00:00",
          "1998-11-01T00:00:00",
          "1998-12-01T00:00:00",
          "1999-01-01T00:00:00",
          "1999-02-01T00:00:00",
          "1999-03-01T00:00:00",
          "1999-04-01T00:00:00",
          "1999-05-01T00:00:00",
          "1999-06-01T00:00:00",
          "1999-07-01T00:00:00",
          "1999-08-01T00:00:00",
          "1999-09-01T00:00:00",
          "1999-10-01T00:00:00",
          "1999-11-01T00:00:00",
          "1999-12-01T00:00:00",
          "2000-01-01T00:00:00",
          "2000-02-01T00:00:00",
          "2000-03-01T00:00:00",
          "2000-04-01T00:00:00",
          "2000-05-01T00:00:00",
          "2000-06-01T00:00:00",
          "2000-07-01T00:00:00",
          "2000-08-01T00:00:00",
          "2000-09-01T00:00:00",
          "2000-10-01T00:00:00",
          "2000-11-01T00:00:00",
          "2000-12-01T00:00:00",
          "2001-01-01T00:00:00",
          "2001-02-01T00:00:00",
          "2001-03-01T00:00:00",
          "2001-04-01T00:00:00",
          "2001-05-01T00:00:00",
          "2001-06-01T00:00:00",
          "2001-07-01T00:00:00",
          "2001-08-01T00:00:00",
          "2001-09-01T00:00:00",
          "2001-10-01T00:00:00",
          "2001-11-01T00:00:00",
          "2001-12-01T00:00:00",
          "2002-01-01T00:00:00",
          "2002-02-01T00:00:00",
          "2002-03-01T00:00:00",
          "2002-04-01T00:00:00",
          "2002-05-01T00:00:00",
          "2002-06-01T00:00:00",
          "2002-07-01T00:00:00",
          "2002-08-01T00:00:00",
          "2002-09-01T00:00:00",
          "2002-10-01T00:00:00",
          "2002-11-01T00:00:00",
          "2002-12-01T00:00:00",
          "2003-01-01T00:00:00",
          "2003-02-01T00:00:00",
          "2003-03-01T00:00:00",
          "2003-04-01T00:00:00",
          "2003-05-01T00:00:00",
          "2003-06-01T00:00:00",
          "2003-07-01T00:00:00",
          "2003-08-01T00:00:00",
          "2003-09-01T00:00:00",
          "2003-10-01T00:00:00",
          "2003-11-01T00:00:00",
          "2003-12-01T00:00:00",
          "2004-01-01T00:00:00",
          "2004-02-01T00:00:00",
          "2004-03-01T00:00:00",
          "2004-04-01T00:00:00",
          "2004-05-01T00:00:00",
          "2004-06-01T00:00:00",
          "2004-07-01T00:00:00",
          "2004-08-01T00:00:00",
          "2004-09-01T00:00:00",
          "2004-10-01T00:00:00",
          "2004-11-01T00:00:00",
          "2004-12-01T00:00:00",
          "2005-01-01T00:00:00",
          "2005-02-01T00:00:00",
          "2005-03-01T00:00:00",
          "2005-04-01T00:00:00",
          "2005-05-01T00:00:00",
          "2005-06-01T00:00:00",
          "2005-07-01T00:00:00",
          "2005-08-01T00:00:00",
          "2005-09-01T00:00:00",
          "2005-10-01T00:00:00",
          "2005-11-01T00:00:00",
          "2005-12-01T00:00:00",
          "2006-01-01T00:00:00",
          "2006-02-01T00:00:00",
          "2006-03-01T00:00:00",
          "2006-04-01T00:00:00",
          "2006-05-01T00:00:00",
          "2006-06-01T00:00:00",
          "2006-07-01T00:00:00",
          "2006-08-01T00:00:00",
          "2006-09-01T00:00:00",
          "2006-10-01T00:00:00",
          "2006-11-01T00:00:00",
          "2006-12-01T00:00:00",
          "2007-01-01T00:00:00",
          "2007-02-01T00:00:00",
          "2007-03-01T00:00:00",
          "2007-04-01T00:00:00",
          "2007-05-01T00:00:00",
          "2007-06-01T00:00:00",
          "2007-07-01T00:00:00",
          "2007-08-01T00:00:00",
          "2007-09-01T00:00:00",
          "2007-10-01T00:00:00",
          "2007-11-01T00:00:00",
          "2007-12-01T00:00:00",
          "2008-01-01T00:00:00",
          "2008-02-01T00:00:00",
          "2008-03-01T00:00:00",
          "2008-04-01T00:00:00",
          "2008-05-01T00:00:00",
          "2008-06-01T00:00:00",
          "2008-07-01T00:00:00",
          "2008-08-01T00:00:00",
          "2008-09-01T00:00:00",
          "2008-10-01T00:00:00",
          "2008-11-01T00:00:00",
          "2008-12-01T00:00:00",
          "2009-01-01T00:00:00",
          "2009-02-01T00:00:00",
          "2009-03-01T00:00:00",
          "2009-04-01T00:00:00",
          "2009-05-01T00:00:00",
          "2009-06-01T00:00:00",
          "2009-07-01T00:00:00",
          "2009-08-01T00:00:00",
          "2009-09-01T00:00:00",
          "2009-10-01T00:00:00",
          "2009-11-01T00:00:00",
          "2009-12-01T00:00:00",
          "2010-01-01T00:00:00",
          "2010-02-01T00:00:00",
          "2010-03-01T00:00:00",
          "2010-04-01T00:00:00",
          "2010-05-01T00:00:00",
          "2010-06-01T00:00:00",
          "2010-07-01T00:00:00",
          "2010-08-01T00:00:00",
          "2010-09-01T00:00:00",
          "2010-10-01T00:00:00",
          "2010-11-01T00:00:00",
          "2010-12-01T00:00:00",
          "2011-01-01T00:00:00",
          "2011-02-01T00:00:00",
          "2011-03-01T00:00:00",
          "2011-04-01T00:00:00",
          "2011-05-01T00:00:00",
          "2011-06-01T00:00:00",
          "2011-07-01T00:00:00",
          "2011-08-01T00:00:00",
          "2011-09-01T00:00:00",
          "2011-10-01T00:00:00",
          "2011-11-01T00:00:00",
          "2011-12-01T00:00:00",
          "2012-01-01T00:00:00",
          "2012-02-01T00:00:00",
          "2012-03-01T00:00:00",
          "2012-04-01T00:00:00",
          "2012-05-01T00:00:00",
          "2012-06-01T00:00:00",
          "2012-07-01T00:00:00",
          "2012-08-01T00:00:00",
          "2012-09-01T00:00:00",
          "2012-10-01T00:00:00",
          "2012-11-01T00:00:00",
          "2012-12-01T00:00:00",
          "2013-01-01T00:00:00",
          "2013-02-01T00:00:00",
          "2013-03-01T00:00:00",
          "2013-04-01T00:00:00",
          "2013-05-01T00:00:00",
          "2013-06-01T00:00:00",
          "2013-07-01T00:00:00",
          "2013-08-01T00:00:00",
          "2013-09-01T00:00:00",
          "2013-10-01T00:00:00",
          "2013-11-01T00:00:00",
          "2013-12-01T00:00:00",
          "2014-01-01T00:00:00",
          "2014-02-01T00:00:00",
          "2014-03-01T00:00:00",
          "2014-04-01T00:00:00",
          "2014-05-01T00:00:00",
          "2014-06-01T00:00:00",
          "2014-07-01T00:00:00",
          "2014-08-01T00:00:00",
          "2014-09-01T00:00:00",
          "2014-10-01T00:00:00",
          "2014-11-01T00:00:00",
          "2014-12-01T00:00:00",
          "2015-01-01T00:00:00",
          "2015-02-01T00:00:00",
          "2015-03-01T00:00:00",
          "2015-04-01T00:00:00",
          "2015-05-01T00:00:00",
          "2015-06-01T00:00:00",
          "2015-07-01T00:00:00",
          "2015-08-01T00:00:00",
          "2015-09-01T00:00:00",
          "2015-10-01T00:00:00",
          "2015-11-01T00:00:00",
          "2015-12-01T00:00:00",
          "2016-01-01T00:00:00",
          "2016-02-01T00:00:00",
          "2016-03-01T00:00:00",
          "2016-04-01T00:00:00",
          "2016-05-01T00:00:00",
          "2016-06-01T00:00:00",
          "2016-07-01T00:00:00",
          "2016-08-01T00:00:00",
          "2016-09-01T00:00:00",
          "2016-10-01T00:00:00",
          "2016-11-01T00:00:00",
          "2016-12-01T00:00:00",
          "2017-01-01T00:00:00",
          "2017-02-01T00:00:00",
          "2017-03-01T00:00:00",
          "2017-04-01T00:00:00",
          "2017-05-01T00:00:00",
          "2017-06-01T00:00:00",
          "2017-07-01T00:00:00",
          "2017-08-01T00:00:00",
          "2017-09-01T00:00:00",
          "2017-10-01T00:00:00",
          "2017-11-01T00:00:00",
          "2017-12-01T00:00:00",
          "2018-01-01T00:00:00",
          "2018-02-01T00:00:00",
          "2018-03-01T00:00:00",
          "2018-04-01T00:00:00",
          "2018-05-01T00:00:00",
          "2018-06-01T00:00:00",
          "2018-07-01T00:00:00",
          "2018-08-01T00:00:00",
          "2018-09-01T00:00:00",
          "2018-10-01T00:00:00",
          "2018-11-01T00:00:00",
          "2018-12-01T00:00:00",
          "2019-01-01T00:00:00",
          "2019-02-01T00:00:00",
          "2019-03-01T00:00:00",
          "2019-04-01T00:00:00",
          "2019-05-01T00:00:00",
          "2019-06-01T00:00:00",
          "2019-07-01T00:00:00",
          "2019-08-01T00:00:00",
          "2019-09-01T00:00:00",
          "2019-10-01T00:00:00",
          "2019-11-01T00:00:00",
          "2019-12-01T00:00:00",
          "2020-01-01T00:00:00",
          "2020-02-01T00:00:00",
          "2020-03-01T00:00:00",
          "2020-04-01T00:00:00",
          "2020-05-01T00:00:00",
          "2020-06-01T00:00:00",
          "2020-07-01T00:00:00",
          "2020-08-01T00:00:00",
          "2020-09-01T00:00:00",
          "2020-10-01T00:00:00",
          "2020-11-01T00:00:00",
          "2020-12-01T00:00:00",
          "2021-01-01T00:00:00",
          "2021-02-01T00:00:00",
          "2021-03-01T00:00:00",
          "2021-04-01T00:00:00",
          "2021-05-01T00:00:00",
          "2021-06-01T00:00:00",
          "2021-07-01T00:00:00",
          "2021-08-01T00:00:00",
          "2021-09-01T00:00:00",
          "2021-10-01T00:00:00",
          "2021-11-01T00:00:00",
          "2021-12-01T00:00:00",
          "2022-01-01T00:00:00",
          "2022-02-01T00:00:00",
          "2022-03-01T00:00:00",
          "2022-04-01T00:00:00",
          "2022-05-01T00:00:00",
          "2022-06-01T00:00:00",
          "2022-07-01T00:00:00",
          "2022-08-01T00:00:00",
          "2022-09-01T00:00:00",
          "2022-10-01T00:00:00",
          "2022-11-01T00:00:00",
          "2022-12-01T00:00:00",
          "2023-01-01T00:00:00",
          "2023-02-01T00:00:00",
          "2023-03-01T00:00:00",
          "2023-04-01T00:00:00",
          "2023-05-01T00:00:00",
          "2023-06-01T00:00:00",
          "2023-07-01T00:00:00",
          "2023-08-01T00:00:00",
          "2023-09-01T00:00:00",
          "2023-10-01T00:00:00",
          "2023-11-01T00:00:00",
          "2023-12-01T00:00:00"
         ],
         "xaxis": "x",
         "y": [
          68.4,
          52.2,
          81.8,
          119.4,
          99.7,
          84.7,
          141.9,
          123.7,
          63.6,
          56.7,
          34.8,
          32.5,
          88.4,
          51.5,
          58.5,
          104.2,
          86.8,
          80.8,
          117.5,
          101.7,
          57.5,
          50.1,
          35.6,
          38.4,
          76.7,
          62.2,
          66.2,
          100.1,
          79.3,
          76.2,
          106.7,
          100.6,
          64.9,
          55.2,
          37.9,
          38.9,
          66.9,
          58.1,
          66.8,
          101.2,
          96.3,
          68,
          101.8,
          114,
          79.9,
          56,
          33.4,
          43.7,
          59.1,
          66,
          70.2,
          113.7,
          94.4,
          69,
          92.9,
          103.8,
          68.4,
          50.5,
          30.3,
          36.9,
          56,
          60,
          66.7,
          102.9,
          93.8,
          76.6,
          105.8,
          114.2,
          95.3,
          72.4,
          46.1,
          42.1,
          65.4,
          67.9,
          69.4,
          143,
          103.2,
          99,
          110.3,
          122.8,
          92.9,
          74.8,
          42.6,
          40.4,
          67.5,
          57.8,
          64.5,
          137,
          113.6,
          109.6,
          159.8,
          146.6,
          89,
          74.6,
          45.4,
          41.3,
          68.7,
          65.2,
          85.3,
          138.4,
          121.6,
          117.8,
          145.1,
          153.6,
          88.4,
          69.3,
          41.8,
          42,
          83.8,
          68.5,
          105.5,
          154.7,
          117.6,
          135.2,
          159.8,
          197.4,
          110.7,
          83,
          45.9,
          50.8,
          102.1,
          100.3,
          111.1,
          122,
          115.6,
          117.7,
          137.9,
          178.9,
          105.9,
          74.2,
          29.7,
          34,
          165.5,
          62.5,
          115.8,
          99.3,
          114.4,
          93,
          147.6,
          158.4,
          113.6,
          68.8,
          29.5,
          31.7,
          88.7,
          129.3,
          111.3,
          112.4,
          88.3,
          131.6,
          170.6,
          142.8,
          100.9,
          76.8,
          35.4,
          72.1,
          175.9,
          75.9,
          127.9,
          118,
          104.2,
          115.7,
          142.3,
          157.3,
          109.4,
          80,
          33,
          31.1,
          111.3,
          81.2,
          126.3,
          143,
          150.8,
          121.2,
          176.9,
          181.3,
          143.2,
          90.4,
          40.6,
          40.2,
          120.3,
          60.9,
          104.5,
          134.4,
          123.3,
          133.8,
          189.2,
          195.9,
          111.4,
          87,
          43,
          51.5,
          103.4,
          56.1,
          100.4,
          121.2,
          112,
          122,
          206.1,
          182.8,
          93.5,
          73.1,
          37.9,
          38.4,
          109.9,
          51.4,
          81.2,
          160.7,
          93,
          145.2,
          180.7,
          181.2,
          101.8,
          74.6,
          38.6,
          35.9,
          105.1,
          54.2,
          88.2,
          120.2,
          118.7,
          128.4,
          183,
          197.7,
          109.8,
          80.8,
          40.7,
          41.1,
          103.5,
          48.7,
          79.9,
          87.2,
          106.1,
          110.1,
          187.5,
          192,
          106.2,
          71.6,
          41.3,
          38.8,
          105.9,
          54,
          67.1,
          107,
          90.4,
          141.8,
          177.1,
          193,
          103.1,
          72.2,
          41,
          40.6,
          99.8,
          59.2,
          70.4,
          93.7,
          110.6,
          117.9,
          180.7,
          201.6,
          110.1,
          75,
          39.6,
          41.5,
          100.1,
          59.5,
          86.4,
          96.5,
          127.6,
          112.5,
          194.2,
          202.7,
          120.4,
          75.7,
          35.2,
          39,
          115.3,
          53.2,
          77.1,
          141.2,
          108.8,
          149.1,
          186.3,
          191.5,
          107.9,
          75.9,
          36.5,
          59.4,
          132,
          53.6,
          90.1,
          121.3,
          135.6,
          135,
          195.2,
          193.9,
          122.6,
          87.3,
          41.4,
          56.7,
          114.5,
          62.3,
          102.6,
          136.7,
          106.7,
          162.5,
          190.2,
          192.4,
          121.2,
          84.1,
          46.5,
          43.4,
          112.8,
          65.1,
          68.1,
          80.4,
          79.6,
          153.3,
          192.4,
          212.6,
          148,
          100.2,
          34.5,
          33.8,
          106.7,
          46.2,
          71,
          61.7,
          79.7,
          147.8,
          202.9,
          208.3,
          151.2,
          102.6,
          55,
          49.2,
          105,
          57.6,
          85.3,
          124.3,
          132.7,
          166.1,
          204.5,
          198.7,
          140,
          99.8,
          63.1,
          50.1,
          117.8,
          58.4,
          85.4,
          115.7,
          134.6,
          158.9,
          191.7,
          189.4,
          146.8,
          96.1,
          45.3,
          47.2
         ],
         "yaxis": "y"
        }
       ],
       "layout": {
        "legend": {
         "tracegroupgap": 0
        },
        "margin": {
         "t": 60
        },
        "template": {
         "data": {
          "bar": [
           {
            "error_x": {
             "color": "#2a3f5f"
            },
            "error_y": {
             "color": "#2a3f5f"
            },
            "marker": {
             "line": {
              "color": "#E5ECF6",
              "width": 0.5
             },
             "pattern": {
              "fillmode": "overlay",
              "size": 10,
              "solidity": 0.2
             }
            },
            "type": "bar"
           }
          ],
          "barpolar": [
           {
            "marker": {
             "line": {
              "color": "#E5ECF6",
              "width": 0.5
             },
             "pattern": {
              "fillmode": "overlay",
              "size": 10,
              "solidity": 0.2
             }
            },
            "type": "barpolar"
           }
          ],
          "carpet": [
           {
            "aaxis": {
             "endlinecolor": "#2a3f5f",
             "gridcolor": "white",
             "linecolor": "white",
             "minorgridcolor": "white",
             "startlinecolor": "#2a3f5f"
            },
            "baxis": {
             "endlinecolor": "#2a3f5f",
             "gridcolor": "white",
             "linecolor": "white",
             "minorgridcolor": "white",
             "startlinecolor": "#2a3f5f"
            },
            "type": "carpet"
           }
          ],
          "choropleth": [
           {
            "colorbar": {
             "outlinewidth": 0,
             "ticks": ""
            },
            "type": "choropleth"
           }
          ],
          "contour": [
           {
            "colorbar": {
             "outlinewidth": 0,
             "ticks": ""
            },
            "colorscale": [
             [
              0,
              "#0d0887"
             ],
             [
              0.1111111111111111,
              "#46039f"
             ],
             [
              0.2222222222222222,
              "#7201a8"
             ],
             [
              0.3333333333333333,
              "#9c179e"
             ],
             [
              0.4444444444444444,
              "#bd3786"
             ],
             [
              0.5555555555555556,
              "#d8576b"
             ],
             [
              0.6666666666666666,
              "#ed7953"
             ],
             [
              0.7777777777777778,
              "#fb9f3a"
             ],
             [
              0.8888888888888888,
              "#fdca26"
             ],
             [
              1,
              "#f0f921"
             ]
            ],
            "type": "contour"
           }
          ],
          "contourcarpet": [
           {
            "colorbar": {
             "outlinewidth": 0,
             "ticks": ""
            },
            "type": "contourcarpet"
           }
          ],
          "heatmap": [
           {
            "colorbar": {
             "outlinewidth": 0,
             "ticks": ""
            },
            "colorscale": [
             [
              0,
              "#0d0887"
             ],
             [
              0.1111111111111111,
              "#46039f"
             ],
             [
              0.2222222222222222,
              "#7201a8"
             ],
             [
              0.3333333333333333,
              "#9c179e"
             ],
             [
              0.4444444444444444,
              "#bd3786"
             ],
             [
              0.5555555555555556,
              "#d8576b"
             ],
             [
              0.6666666666666666,
              "#ed7953"
             ],
             [
              0.7777777777777778,
              "#fb9f3a"
             ],
             [
              0.8888888888888888,
              "#fdca26"
             ],
             [
              1,
              "#f0f921"
             ]
            ],
            "type": "heatmap"
           }
          ],
          "heatmapgl": [
           {
            "colorbar": {
             "outlinewidth": 0,
             "ticks": ""
            },
            "colorscale": [
             [
              0,
              "#0d0887"
             ],
             [
              0.1111111111111111,
              "#46039f"
             ],
             [
              0.2222222222222222,
              "#7201a8"
             ],
             [
              0.3333333333333333,
              "#9c179e"
             ],
             [
              0.4444444444444444,
              "#bd3786"
             ],
             [
              0.5555555555555556,
              "#d8576b"
             ],
             [
              0.6666666666666666,
              "#ed7953"
             ],
             [
              0.7777777777777778,
              "#fb9f3a"
             ],
             [
              0.8888888888888888,
              "#fdca26"
             ],
             [
              1,
              "#f0f921"
             ]
            ],
            "type": "heatmapgl"
           }
          ],
          "histogram": [
           {
            "marker": {
             "pattern": {
              "fillmode": "overlay",
              "size": 10,
              "solidity": 0.2
             }
            },
            "type": "histogram"
           }
          ],
          "histogram2d": [
           {
            "colorbar": {
             "outlinewidth": 0,
             "ticks": ""
            },
            "colorscale": [
             [
              0,
              "#0d0887"
             ],
             [
              0.1111111111111111,
              "#46039f"
             ],
             [
              0.2222222222222222,
              "#7201a8"
             ],
             [
              0.3333333333333333,
              "#9c179e"
             ],
             [
              0.4444444444444444,
              "#bd3786"
             ],
             [
              0.5555555555555556,
              "#d8576b"
             ],
             [
              0.6666666666666666,
              "#ed7953"
             ],
             [
              0.7777777777777778,
              "#fb9f3a"
             ],
             [
              0.8888888888888888,
              "#fdca26"
             ],
             [
              1,
              "#f0f921"
             ]
            ],
            "type": "histogram2d"
           }
          ],
          "histogram2dcontour": [
           {
            "colorbar": {
             "outlinewidth": 0,
             "ticks": ""
            },
            "colorscale": [
             [
              0,
              "#0d0887"
             ],
             [
              0.1111111111111111,
              "#46039f"
             ],
             [
              0.2222222222222222,
              "#7201a8"
             ],
             [
              0.3333333333333333,
              "#9c179e"
             ],
             [
              0.4444444444444444,
              "#bd3786"
             ],
             [
              0.5555555555555556,
              "#d8576b"
             ],
             [
              0.6666666666666666,
              "#ed7953"
             ],
             [
              0.7777777777777778,
              "#fb9f3a"
             ],
             [
              0.8888888888888888,
              "#fdca26"
             ],
             [
              1,
              "#f0f921"
             ]
            ],
            "type": "histogram2dcontour"
           }
          ],
          "mesh3d": [
           {
            "colorbar": {
             "outlinewidth": 0,
             "ticks": ""
            },
            "type": "mesh3d"
           }
          ],
          "parcoords": [
           {
            "line": {
             "colorbar": {
              "outlinewidth": 0,
              "ticks": ""
             }
            },
            "type": "parcoords"
           }
          ],
          "pie": [
           {
            "automargin": true,
            "type": "pie"
           }
          ],
          "scatter": [
           {
            "fillpattern": {
             "fillmode": "overlay",
             "size": 10,
             "solidity": 0.2
            },
            "type": "scatter"
           }
          ],
          "scatter3d": [
           {
            "line": {
             "colorbar": {
              "outlinewidth": 0,
              "ticks": ""
             }
            },
            "marker": {
             "colorbar": {
              "outlinewidth": 0,
              "ticks": ""
             }
            },
            "type": "scatter3d"
           }
          ],
          "scattercarpet": [
           {
            "marker": {
             "colorbar": {
              "outlinewidth": 0,
              "ticks": ""
             }
            },
            "type": "scattercarpet"
           }
          ],
          "scattergeo": [
           {
            "marker": {
             "colorbar": {
              "outlinewidth": 0,
              "ticks": ""
             }
            },
            "type": "scattergeo"
           }
          ],
          "scattergl": [
           {
            "marker": {
             "colorbar": {
              "outlinewidth": 0,
              "ticks": ""
             }
            },
            "type": "scattergl"
           }
          ],
          "scattermapbox": [
           {
            "marker": {
             "colorbar": {
              "outlinewidth": 0,
              "ticks": ""
             }
            },
            "type": "scattermapbox"
           }
          ],
          "scatterpolar": [
           {
            "marker": {
             "colorbar": {
              "outlinewidth": 0,
              "ticks": ""
             }
            },
            "type": "scatterpolar"
           }
          ],
          "scatterpolargl": [
           {
            "marker": {
             "colorbar": {
              "outlinewidth": 0,
              "ticks": ""
             }
            },
            "type": "scatterpolargl"
           }
          ],
          "scatterternary": [
           {
            "marker": {
             "colorbar": {
              "outlinewidth": 0,
              "ticks": ""
             }
            },
            "type": "scatterternary"
           }
          ],
          "surface": [
           {
            "colorbar": {
             "outlinewidth": 0,
             "ticks": ""
            },
            "colorscale": [
             [
              0,
              "#0d0887"
             ],
             [
              0.1111111111111111,
              "#46039f"
             ],
             [
              0.2222222222222222,
              "#7201a8"
             ],
             [
              0.3333333333333333,
              "#9c179e"
             ],
             [
              0.4444444444444444,
              "#bd3786"
             ],
             [
              0.5555555555555556,
              "#d8576b"
             ],
             [
              0.6666666666666666,
              "#ed7953"
             ],
             [
              0.7777777777777778,
              "#fb9f3a"
             ],
             [
              0.8888888888888888,
              "#fdca26"
             ],
             [
              1,
              "#f0f921"
             ]
            ],
            "type": "surface"
           }
          ],
          "table": [
           {
            "cells": {
             "fill": {
              "color": "#EBF0F8"
             },
             "line": {
              "color": "white"
             }
            },
            "header": {
             "fill": {
              "color": "#C8D4E3"
             },
             "line": {
              "color": "white"
             }
            },
            "type": "table"
           }
          ]
         },
         "layout": {
          "annotationdefaults": {
           "arrowcolor": "#2a3f5f",
           "arrowhead": 0,
           "arrowwidth": 1
          },
          "autotypenumbers": "strict",
          "coloraxis": {
           "colorbar": {
            "outlinewidth": 0,
            "ticks": ""
           }
          },
          "colorscale": {
           "diverging": [
            [
             0,
             "#8e0152"
            ],
            [
             0.1,
             "#c51b7d"
            ],
            [
             0.2,
             "#de77ae"
            ],
            [
             0.3,
             "#f1b6da"
            ],
            [
             0.4,
             "#fde0ef"
            ],
            [
             0.5,
             "#f7f7f7"
            ],
            [
             0.6,
             "#e6f5d0"
            ],
            [
             0.7,
             "#b8e186"
            ],
            [
             0.8,
             "#7fbc41"
            ],
            [
             0.9,
             "#4d9221"
            ],
            [
             1,
             "#276419"
            ]
           ],
           "sequential": [
            [
             0,
             "#0d0887"
            ],
            [
             0.1111111111111111,
             "#46039f"
            ],
            [
             0.2222222222222222,
             "#7201a8"
            ],
            [
             0.3333333333333333,
             "#9c179e"
            ],
            [
             0.4444444444444444,
             "#bd3786"
            ],
            [
             0.5555555555555556,
             "#d8576b"
            ],
            [
             0.6666666666666666,
             "#ed7953"
            ],
            [
             0.7777777777777778,
             "#fb9f3a"
            ],
            [
             0.8888888888888888,
             "#fdca26"
            ],
            [
             1,
             "#f0f921"
            ]
           ],
           "sequentialminus": [
            [
             0,
             "#0d0887"
            ],
            [
             0.1111111111111111,
             "#46039f"
            ],
            [
             0.2222222222222222,
             "#7201a8"
            ],
            [
             0.3333333333333333,
             "#9c179e"
            ],
            [
             0.4444444444444444,
             "#bd3786"
            ],
            [
             0.5555555555555556,
             "#d8576b"
            ],
            [
             0.6666666666666666,
             "#ed7953"
            ],
            [
             0.7777777777777778,
             "#fb9f3a"
            ],
            [
             0.8888888888888888,
             "#fdca26"
            ],
            [
             1,
             "#f0f921"
            ]
           ]
          },
          "colorway": [
           "#636efa",
           "#EF553B",
           "#00cc96",
           "#ab63fa",
           "#FFA15A",
           "#19d3f3",
           "#FF6692",
           "#B6E880",
           "#FF97FF",
           "#FECB52"
          ],
          "font": {
           "color": "#2a3f5f"
          },
          "geo": {
           "bgcolor": "white",
           "lakecolor": "white",
           "landcolor": "#E5ECF6",
           "showlakes": true,
           "showland": true,
           "subunitcolor": "white"
          },
          "hoverlabel": {
           "align": "left"
          },
          "hovermode": "closest",
          "mapbox": {
           "style": "light"
          },
          "paper_bgcolor": "white",
          "plot_bgcolor": "#E5ECF6",
          "polar": {
           "angularaxis": {
            "gridcolor": "white",
            "linecolor": "white",
            "ticks": ""
           },
           "bgcolor": "#E5ECF6",
           "radialaxis": {
            "gridcolor": "white",
            "linecolor": "white",
            "ticks": ""
           }
          },
          "scene": {
           "xaxis": {
            "backgroundcolor": "#E5ECF6",
            "gridcolor": "white",
            "gridwidth": 2,
            "linecolor": "white",
            "showbackground": true,
            "ticks": "",
            "zerolinecolor": "white"
           },
           "yaxis": {
            "backgroundcolor": "#E5ECF6",
            "gridcolor": "white",
            "gridwidth": 2,
            "linecolor": "white",
            "showbackground": true,
            "ticks": "",
            "zerolinecolor": "white"
           },
           "zaxis": {
            "backgroundcolor": "#E5ECF6",
            "gridcolor": "white",
            "gridwidth": 2,
            "linecolor": "white",
            "showbackground": true,
            "ticks": "",
            "zerolinecolor": "white"
           }
          },
          "shapedefaults": {
           "line": {
            "color": "#2a3f5f"
           }
          },
          "ternary": {
           "aaxis": {
            "gridcolor": "white",
            "linecolor": "white",
            "ticks": ""
           },
           "baxis": {
            "gridcolor": "white",
            "linecolor": "white",
            "ticks": ""
           },
           "bgcolor": "#E5ECF6",
           "caxis": {
            "gridcolor": "white",
            "linecolor": "white",
            "ticks": ""
           }
          },
          "title": {
           "x": 0.05
          },
          "xaxis": {
           "automargin": true,
           "gridcolor": "white",
           "linecolor": "white",
           "ticks": "",
           "title": {
            "standoff": 15
           },
           "zerolinecolor": "white",
           "zerolinewidth": 2
          },
          "yaxis": {
           "automargin": true,
           "gridcolor": "white",
           "linecolor": "white",
           "ticks": "",
           "title": {
            "standoff": 15
           },
           "zerolinecolor": "white",
           "zerolinewidth": 2
          }
         }
        },
        "xaxis": {
         "anchor": "y",
         "domain": [
          0,
          1
         ],
         "title": {
          "text": "Date"
         }
        },
        "yaxis": {
         "anchor": "x",
         "domain": [
          0,
          1
         ],
         "title": {
          "text": "Revenue"
         }
        }
       }
      }
     },
     "metadata": {},
     "output_type": "display_data"
    }
   ],
   "source": [
    "# Darstellung der Temperaturwerte über die Jahre\n",
    "fig_median = px.line(df_merged, x=\"Date\", y=\" TMK\")\n",
    "# Darstellung der Umsätze über die Jahre\n",
    "fig_revenue = px.line(df_merged, x=\"Date\", y=\"Revenue\")\n",
    "fig_median.show()\n",
    "fig_revenue.show()"
   ]
  },
  {
   "cell_type": "markdown",
   "metadata": {},
   "source": [
    "## 3. Relation zwischen Temperatur und Umsätzen (Aufgabe 2a)"
   ]
  },
  {
   "cell_type": "code",
   "execution_count": 11,
   "metadata": {},
   "outputs": [
    {
     "data": {
      "application/vnd.plotly.v1+json": {
       "config": {
        "plotlyServerURL": "https://plot.ly"
       },
       "data": [
        {
         "hovertemplate": "Revenue=%{x}<br> TMK=%{y}<extra></extra>",
         "legendgroup": "",
         "marker": {
          "color": "#636efa",
          "symbol": "circle"
         },
         "mode": "markers",
         "name": "",
         "orientation": "v",
         "showlegend": false,
         "type": "scatter",
         "x": [
          68.4,
          52.2,
          81.8,
          119.4,
          99.7,
          84.7,
          141.9,
          123.7,
          63.6,
          56.7,
          34.8,
          32.5,
          88.4,
          51.5,
          58.5,
          104.2,
          86.8,
          80.8,
          117.5,
          101.7,
          57.5,
          50.1,
          35.6,
          38.4,
          76.7,
          62.2,
          66.2,
          100.1,
          79.3,
          76.2,
          106.7,
          100.6,
          64.9,
          55.2,
          37.9,
          38.9,
          66.9,
          58.1,
          66.8,
          101.2,
          96.3,
          68,
          101.8,
          114,
          79.9,
          56,
          33.4,
          43.7,
          59.1,
          66,
          70.2,
          113.7,
          94.4,
          69,
          92.9,
          103.8,
          68.4,
          50.5,
          30.3,
          36.9,
          56,
          60,
          66.7,
          102.9,
          93.8,
          76.6,
          105.8,
          114.2,
          95.3,
          72.4,
          46.1,
          42.1,
          65.4,
          67.9,
          69.4,
          143,
          103.2,
          99,
          110.3,
          122.8,
          92.9,
          74.8,
          42.6,
          40.4,
          67.5,
          57.8,
          64.5,
          137,
          113.6,
          109.6,
          159.8,
          146.6,
          89,
          74.6,
          45.4,
          41.3,
          68.7,
          65.2,
          85.3,
          138.4,
          121.6,
          117.8,
          145.1,
          153.6,
          88.4,
          69.3,
          41.8,
          42,
          83.8,
          68.5,
          105.5,
          154.7,
          117.6,
          135.2,
          159.8,
          197.4,
          110.7,
          83,
          45.9,
          50.8,
          102.1,
          100.3,
          111.1,
          122,
          115.6,
          117.7,
          137.9,
          178.9,
          105.9,
          74.2,
          29.7,
          34,
          165.5,
          62.5,
          115.8,
          99.3,
          114.4,
          93,
          147.6,
          158.4,
          113.6,
          68.8,
          29.5,
          31.7,
          88.7,
          129.3,
          111.3,
          112.4,
          88.3,
          131.6,
          170.6,
          142.8,
          100.9,
          76.8,
          35.4,
          72.1,
          175.9,
          75.9,
          127.9,
          118,
          104.2,
          115.7,
          142.3,
          157.3,
          109.4,
          80,
          33,
          31.1,
          111.3,
          81.2,
          126.3,
          143,
          150.8,
          121.2,
          176.9,
          181.3,
          143.2,
          90.4,
          40.6,
          40.2,
          120.3,
          60.9,
          104.5,
          134.4,
          123.3,
          133.8,
          189.2,
          195.9,
          111.4,
          87,
          43,
          51.5,
          103.4,
          56.1,
          100.4,
          121.2,
          112,
          122,
          206.1,
          182.8,
          93.5,
          73.1,
          37.9,
          38.4,
          109.9,
          51.4,
          81.2,
          160.7,
          93,
          145.2,
          180.7,
          181.2,
          101.8,
          74.6,
          38.6,
          35.9,
          105.1,
          54.2,
          88.2,
          120.2,
          118.7,
          128.4,
          183,
          197.7,
          109.8,
          80.8,
          40.7,
          41.1,
          103.5,
          48.7,
          79.9,
          87.2,
          106.1,
          110.1,
          187.5,
          192,
          106.2,
          71.6,
          41.3,
          38.8,
          105.9,
          54,
          67.1,
          107,
          90.4,
          141.8,
          177.1,
          193,
          103.1,
          72.2,
          41,
          40.6,
          99.8,
          59.2,
          70.4,
          93.7,
          110.6,
          117.9,
          180.7,
          201.6,
          110.1,
          75,
          39.6,
          41.5,
          100.1,
          59.5,
          86.4,
          96.5,
          127.6,
          112.5,
          194.2,
          202.7,
          120.4,
          75.7,
          35.2,
          39,
          115.3,
          53.2,
          77.1,
          141.2,
          108.8,
          149.1,
          186.3,
          191.5,
          107.9,
          75.9,
          36.5,
          59.4,
          132,
          53.6,
          90.1,
          121.3,
          135.6,
          135,
          195.2,
          193.9,
          122.6,
          87.3,
          41.4,
          56.7,
          114.5,
          62.3,
          102.6,
          136.7,
          106.7,
          162.5,
          190.2,
          192.4,
          121.2,
          84.1,
          46.5,
          43.4,
          112.8,
          65.1,
          68.1,
          80.4,
          79.6,
          153.3,
          192.4,
          212.6,
          148,
          100.2,
          34.5,
          33.8,
          106.7,
          46.2,
          71,
          61.7,
          79.7,
          147.8,
          202.9,
          208.3,
          151.2,
          102.6,
          55,
          49.2,
          105,
          57.6,
          85.3,
          124.3,
          132.7,
          166.1,
          204.5,
          198.7,
          140,
          99.8,
          63.1,
          50.1,
          117.8,
          58.4,
          85.4,
          115.7,
          134.6,
          158.9,
          191.7,
          189.4,
          146.8,
          96.1,
          45.3,
          47.2
         ],
         "xaxis": "x",
         "y": [
          3.6870967741935488,
          -0.4714285714285715,
          6.351612903225806,
          8.863333333333333,
          13.209677419354838,
          16.29,
          22.57903225806452,
          18.200000000000003,
          13.853333333333332,
          8.153225806451612,
          7.786666666666667,
          4.262903225806452,
          1.0258064516129033,
          5.296428571428571,
          3.896774193548387,
          9.004999999999999,
          13.162903225806453,
          15.178333333333333,
          21.05967741935484,
          19.538709677419355,
          13.581666666666669,
          12.275806451612905,
          3.4416666666666664,
          -1.8096774193548384,
          -2.782258064516129,
          -2.043103448275862,
          1.0596774193548388,
          9.383333333333336,
          11.648387096774194,
          15.943333333333332,
          16.66774193548387,
          18.029032258064515,
          11.666666666666666,
          9.96774193548387,
          5.180000000000001,
          -2.083870967741935,
          -2.1193548387096777,
          4.7250000000000005,
          5.84516129032258,
          6.989999999999999,
          13.074193548387097,
          16.196666666666665,
          17.758064516129032,
          20.796774193548387,
          14.033333333333331,
          8.029032258064516,
          4.25,
          2.4838709677419355,
          3.225806451612903,
          5.614285714285714,
          5.800000000000001,
          9.253333333333334,
          14.838709677419354,
          16.223333333333333,
          16.651612903225807,
          16.740322580645163,
          14.075,
          9.127419354838713,
          2.0666666666666664,
          1.5774193548387097,
          3.525806451612904,
          1.6,
          5.948387096774193,
          9.813333333333333,
          14.506451612903223,
          15.78,
          19.88387096774193,
          17.648387096774194,
          17.946666666666665,
          9.919354838709678,
          4.8,
          2.7870967741935484,
          2.0129032258064514,
          4.510344827586208,
          5.693548387096774,
          10.916666666666666,
          15.332258064516129,
          17.326666666666664,
          15.612903225806452,
          17.76451612903226,
          14.466666666666669,
          11.19032258064516,
          7.116666666666666,
          3.4290322580645163,
          1.2483870967741937,
          2.3857142857142857,
          3.6193548387096777,
          7.876666666666667,
          15.148387096774194,
          14.59,
          19.248387096774195,
          18.93548387096774,
          12.753333333333334,
          13.148387096774194,
          4.510000000000001,
          0.4290322580645161,
          2.1903225806451614,
          5.55,
          5.72258064516129,
          8.79,
          14.082258064516129,
          17.714999999999996,
          18.293548387096777,
          19.80806451612904,
          14.468333333333334,
          8.387096774193548,
          5.675,
          -0.1709677419354838,
          0.2774193548387096,
          -1.042857142857143,
          5.054838709677419,
          8.803333333333335,
          14.2,
          19.73333333333333,
          19.606451612903225,
          20.26129032258065,
          14.77,
          6.470967741935484,
          6.48,
          2.883870967741936,
          0.6032258064516128,
          3.4,
          5.087096774193548,
          10.096666666666666,
          12.258064516129032,
          15.93,
          16.596774193548384,
          18.94677419354839,
          14.638333333333332,
          10.54032258064516,
          4.791666666666666,
          1.870967741935484,
          3.0887096774193554,
          -0.1625,
          4.130645161290323,
          10.195,
          13.464516129032258,
          16.825,
          18.501612903225805,
          16.298387096774192,
          15.793333333333331,
          11.551612903225806,
          4.966666666666667,
          1.5903225806451613,
          -1.803225806451613,
          0.225,
          1.846774193548387,
          8.676666666666666,
          13.746774193548386,
          17.656666666666666,
          23.12258064516129,
          16.570967741935483,
          17.711666666666666,
          12.74516129032258,
          7.859999999999999,
          5.058064516129032,
          5.480645161290322,
          4.148214285714285,
          6.97258064516129,
          11.935,
          14.59193548387097,
          17.308333333333334,
          17.289877641824248,
          17.44164746543779,
          13.498333333333337,
          8.966129032258063,
          4.125,
          2.009677419354839,
          4.067741935483871,
          4.5344827586206895,
          4.964516129032258,
          8.273333333333333,
          15.270967741935484,
          16.783333333333335,
          18.009677419354837,
          17.661290322580644,
          13.323333333333332,
          9.62258064516129,
          5.87,
          1.9387096774193548,
          -1.3709677419354838,
          0.975,
          5.296774193548386,
          12.513333333333332,
          14.041935483870969,
          15.33,
          18.39032258064516,
          18.703225806451613,
          14.956666666666669,
          8.525806451612903,
          8.206666666666667,
          1.0870967741935482,
          -3.1193548387096777,
          -0.1642857142857143,
          4.867741935483871,
          9.563333333333333,
          10.548387096774194,
          16.87,
          21.13225806451613,
          17.17096774193548,
          13.096666666666666,
          8.66451612903226,
          5.35,
          -2.903225806451613,
          1.8774193548387093,
          1.3714285714285714,
          4.67741935483871,
          12.31,
          14.361290322580643,
          16.643333333333334,
          16.82903225806452,
          17.693548387096776,
          15.7,
          10.103225806451611,
          4.973333333333333,
          4.6,
          2.606451612903226,
          -1.313793103448276,
          7.670967741935484,
          8.47,
          14.577419354838709,
          15.38,
          17.4741935483871,
          18.53103448275862,
          14.286666666666669,
          9.574193548387097,
          5.9,
          1.8387096774193548,
          0.7838709677419357,
          0.2214285714285714,
          0.7290322580645161,
          8.723333333333333,
          12.14516129032258,
          15.913333333333334,
          19.46451612903226,
          18.532258064516128,
          13.616666666666667,
          11.432258064516128,
          5.510000000000001,
          4.370967741935484,
          2.1451612903225805,
          5.25,
          7.487096774193549,
          11.78,
          12.680645161290323,
          16.026666666666667,
          19.796774193548387,
          16.451612903225808,
          15.46,
          12.71935483870968,
          7.1,
          3.293548387096774,
          3.064516129032258,
          1.7285714285714284,
          5.883870967741935,
          8.96,
          12.525806451612905,
          15.916666666666666,
          19.07741935483871,
          19.361290322580647,
          13.416666666666666,
          9.038709677419355,
          8.063333333333334,
          7.54516129032258,
          0.9580645161290322,
          3.972413793103448,
          4.67741935483871,
          8.29,
          14.406451612903227,
          17.290000000000003,
          19.032258064516128,
          17.980645161290322,
          17.473333333333336,
          9.077419354838709,
          4.253333333333333,
          2.467741935483871,
          -1.2129032258064516,
          2.753571428571429,
          7.27741935483871,
          8.106666666666666,
          14.980645161290322,
          18.48333333333333,
          18.34193548387097,
          17.79032258064516,
          13.546666666666663,
          11.577419354838709,
          5.886666666666667,
          3.612903225806452,
          3.787096774193548,
          -1.1357142857142857,
          2.5129032258064514,
          12.786666666666669,
          16.416129032258063,
          17.816666666666666,
          20.77741935483871,
          19.83225806451613,
          15.536666666666669,
          11.43225806451613,
          5.766666666666667,
          4.601612903225806,
          1.6451612903225803,
          5.074999999999999,
          7.2854838709677425,
          9.983333333333334,
          11.335483870967742,
          19.763333333333332,
          19.145161290322584,
          19.60967741935484,
          14.645,
          11.530645161290323,
          5.885,
          4.4967741935483865,
          4.441935483870967,
          5.934482758620689,
          6.006451612903225,
          10.683333333333334,
          12.395218894009217,
          17.61,
          17.398387096774194,
          20.685483870967744,
          15.238333333333332,
          11.201612903225808,
          7.008333333333333,
          3.6354838709677417,
          1.3419354838709678,
          1.939285714285714,
          5.57741935483871,
          6.573333333333333,
          11.319354838709678,
          19.273333333333333,
          19.05322580645161,
          16.988709677419354,
          15.795,
          10.522580645161293,
          5.3133333333333335,
          3.0370967741935484,
          3.2693548387096776,
          5.191071428571428,
          5.67258064516129,
          8.516666666666666,
          14.86451612903226,
          18.47,
          19.10645161290323,
          20.94677419354839,
          13.98,
          12.90967741935484,
          6.703333333333333,
          2.303225806451613,
          4.498387096774193,
          3.830357142857143,
          6.1161290322580655,
          8.228333333333333,
          13.690322580645162,
          19.351666666666667,
          18.524193548387096,
          18.08870967741936,
          17.98833333333333,
          12.35483870967742,
          6.095000000000001,
          4.530645161290322
         ],
         "yaxis": "y"
        },
        {
         "hovertemplate": "<b>OLS trendline</b><br> TMK = 0.0996813 * Revenue + 0.106407<br>R<sup>2</sup>=0.491566<br><br>Revenue=%{x}<br> TMK=%{y} <b>(trend)</b><extra></extra>",
         "legendgroup": "",
         "marker": {
          "color": "#636efa",
          "symbol": "circle"
         },
         "mode": "lines",
         "name": "",
         "showlegend": false,
         "type": "scatter",
         "x": [
          29.5,
          29.7,
          30.3,
          31.1,
          31.7,
          32.5,
          33,
          33.4,
          33.8,
          34,
          34.5,
          34.8,
          35.2,
          35.4,
          35.6,
          35.9,
          36.5,
          36.9,
          37.9,
          37.9,
          38.4,
          38.4,
          38.6,
          38.8,
          38.9,
          39,
          39.6,
          40.2,
          40.4,
          40.6,
          40.6,
          40.7,
          41,
          41.1,
          41.3,
          41.3,
          41.4,
          41.5,
          41.8,
          42,
          42.1,
          42.6,
          43,
          43.4,
          43.7,
          45.3,
          45.4,
          45.9,
          46.1,
          46.2,
          46.5,
          47.2,
          48.7,
          49.2,
          50.1,
          50.1,
          50.5,
          50.8,
          51.4,
          51.5,
          51.5,
          52.2,
          53.2,
          53.6,
          54,
          54.2,
          55,
          55.2,
          56,
          56,
          56.1,
          56.7,
          56.7,
          57.5,
          57.6,
          57.8,
          58.1,
          58.4,
          58.5,
          59.1,
          59.2,
          59.4,
          59.5,
          60,
          60.9,
          61.7,
          62.2,
          62.3,
          62.5,
          63.1,
          63.6,
          64.5,
          64.9,
          65.1,
          65.2,
          65.4,
          66,
          66.2,
          66.7,
          66.8,
          66.9,
          67.1,
          67.5,
          67.9,
          68,
          68.1,
          68.4,
          68.4,
          68.5,
          68.7,
          68.8,
          69,
          69.3,
          69.4,
          70.2,
          70.4,
          71,
          71.6,
          72.1,
          72.2,
          72.4,
          73.1,
          74.2,
          74.6,
          74.6,
          74.8,
          75,
          75.7,
          75.9,
          75.9,
          76.2,
          76.6,
          76.7,
          76.8,
          77.1,
          79.3,
          79.6,
          79.7,
          79.9,
          79.9,
          80,
          80.4,
          80.8,
          80.8,
          81.2,
          81.2,
          81.8,
          83,
          83.8,
          84.1,
          84.7,
          85.3,
          85.3,
          85.4,
          86.4,
          86.8,
          87,
          87.2,
          87.3,
          88.2,
          88.3,
          88.4,
          88.4,
          88.7,
          89,
          90.1,
          90.4,
          90.4,
          92.9,
          92.9,
          93,
          93,
          93.5,
          93.7,
          93.8,
          94.4,
          95.3,
          96.1,
          96.3,
          96.5,
          99,
          99.3,
          99.7,
          99.8,
          99.8,
          100.1,
          100.1,
          100.2,
          100.3,
          100.4,
          100.6,
          100.9,
          101.2,
          101.7,
          101.8,
          101.8,
          102.1,
          102.6,
          102.6,
          102.9,
          103.1,
          103.2,
          103.4,
          103.5,
          103.8,
          104.2,
          104.2,
          104.5,
          105,
          105.1,
          105.5,
          105.8,
          105.9,
          105.9,
          106.1,
          106.2,
          106.7,
          106.7,
          106.7,
          107,
          107.9,
          108.8,
          109.4,
          109.6,
          109.8,
          109.9,
          110.1,
          110.1,
          110.3,
          110.6,
          110.7,
          111.1,
          111.3,
          111.3,
          111.4,
          112,
          112.4,
          112.5,
          112.8,
          113.6,
          113.6,
          113.7,
          114,
          114.2,
          114.4,
          114.5,
          115.3,
          115.6,
          115.7,
          115.7,
          115.8,
          117.5,
          117.6,
          117.7,
          117.8,
          117.8,
          117.9,
          118,
          118.7,
          119.4,
          120.2,
          120.3,
          120.4,
          121.2,
          121.2,
          121.2,
          121.3,
          121.6,
          122,
          122,
          122.6,
          122.8,
          123.3,
          123.7,
          124.3,
          126.3,
          127.6,
          127.9,
          128.4,
          129.3,
          131.6,
          132,
          132.7,
          133.8,
          134.4,
          134.6,
          135,
          135.2,
          135.6,
          136.7,
          137,
          137.9,
          138.4,
          140,
          141.2,
          141.8,
          141.9,
          142.3,
          142.8,
          143,
          143,
          143.2,
          145.1,
          145.2,
          146.6,
          146.8,
          147.6,
          147.8,
          148,
          149.1,
          150.8,
          151.2,
          153.3,
          153.6,
          154.7,
          157.3,
          158.4,
          158.9,
          159.8,
          159.8,
          160.7,
          162.5,
          165.5,
          166.1,
          170.6,
          175.9,
          176.9,
          177.1,
          178.9,
          180.7,
          180.7,
          181.2,
          181.3,
          182.8,
          183,
          186.3,
          187.5,
          189.2,
          189.4,
          190.2,
          191.5,
          191.7,
          192,
          192.4,
          192.4,
          193,
          193.9,
          194.2,
          195.2,
          195.9,
          197.4,
          197.7,
          198.7,
          201.6,
          202.7,
          202.9,
          204.5,
          206.1,
          208.3,
          212.6
         ],
         "xaxis": "x",
         "y": [
          3.0470050747966964,
          3.0669413314900376,
          3.1267501015700625,
          3.206495128343429,
          3.2663038984234536,
          3.34604892519682,
          3.395889566930174,
          3.435762080316857,
          3.47563459370354,
          3.495570850396882,
          3.5454114921302358,
          3.575315877170248,
          3.6151883905569315,
          3.6351246472502727,
          3.655060903943615,
          3.684965288983627,
          3.744774059063652,
          3.7846465724503346,
          3.8843278559170424,
          3.8843278559170424,
          3.9341684976503966,
          3.9341684976503966,
          3.9541047543437386,
          3.9740410110370794,
          3.9840091393837507,
          3.9939772677304215,
          4.053786037810447,
          4.113594807890472,
          4.133531064583813,
          4.153467321277155,
          4.153467321277155,
          4.163435449623826,
          4.1933398346638375,
          4.203307963010508,
          4.22324421970385,
          4.22324421970385,
          4.233212348050521,
          4.243180476397192,
          4.273084861437204,
          4.293021118130546,
          4.302989246477217,
          4.352829888210571,
          4.392702401597254,
          4.432574914983936,
          4.46247930002395,
          4.621969353570681,
          4.631937481917353,
          4.681778123650706,
          4.701714380344049,
          4.7116825086907195,
          4.741586893730731,
          4.811363792157427,
          4.960885717357489,
          5.010726359090843,
          5.10043951421088,
          5.10043951421088,
          5.140312027597563,
          5.170216412637575,
          5.2300251827176,
          5.2399933110642705,
          5.2399933110642705,
          5.309770209490967,
          5.4094514929576745,
          5.449324006344358,
          5.489196519731041,
          5.509132776424383,
          5.588877803197748,
          5.60881405989109,
          5.688559086664457,
          5.688559086664457,
          5.6985272150111275,
          5.758335985091152,
          5.758335985091152,
          5.838081011864518,
          5.848049140211189,
          5.867985396904531,
          5.897889781944543,
          5.9277941669845555,
          5.937762295331226,
          5.997571065411251,
          6.007539193757922,
          6.027475450451263,
          6.037443578797935,
          6.087284220531288,
          6.176997375651325,
          6.256742402424692,
          6.306583044158046,
          6.316551172504716,
          6.336487429198058,
          6.3962961992780825,
          6.446136841011437,
          6.535849996131474,
          6.575722509518157,
          6.595658766211498,
          6.60562689455817,
          6.625563151251511,
          6.6853719213315355,
          6.705308178024878,
          6.755148819758231,
          6.765116948104902,
          6.775085076451574,
          6.795021333144914,
          6.834893846531598,
          6.874766359918281,
          6.884734488264952,
          6.894702616611622,
          6.924607001651635,
          6.924607001651635,
          6.934575129998305,
          6.954511386691648,
          6.964479515038318,
          6.984415771731659,
          7.014320156771672,
          7.0242882851183435,
          7.104033311891709,
          7.123969568585051,
          7.183778338665075,
          7.2435871087451,
          7.293427750478453,
          7.303395878825125,
          7.323332135518467,
          7.393109033945161,
          7.502758445758541,
          7.542630959145224,
          7.542630959145224,
          7.562567215838565,
          7.582503472531907,
          7.652280370958603,
          7.672216627651944,
          7.672216627651944,
          7.702121012691957,
          7.741993526078639,
          7.751961654425311,
          7.761929782771981,
          7.791834167811993,
          8.01113299143875,
          8.041037376478762,
          8.051005504825435,
          8.070941761518776,
          8.070941761518776,
          8.080909889865445,
          8.12078240325213,
          8.160654916638812,
          8.160654916638812,
          8.200527430025497,
          8.200527430025497,
          8.26033620010552,
          8.37995374026557,
          8.459698767038937,
          8.48960315207895,
          8.549411922158974,
          8.609220692238999,
          8.609220692238999,
          8.61918882058567,
          8.718870104052378,
          8.75874261743906,
          8.778678874132401,
          8.798615130825743,
          8.808583259172414,
          8.898296414292451,
          8.908264542639122,
          8.918232670985793,
          8.918232670985793,
          8.948137056025805,
          8.978041441065818,
          9.087690852879195,
          9.11759523791921,
          9.11759523791921,
          9.36679844658598,
          9.36679844658598,
          9.376766574932649,
          9.376766574932649,
          9.426607216666003,
          9.446543473359345,
          9.456511601706016,
          9.51632037178604,
          9.606033526906078,
          9.685778553679443,
          9.705714810372786,
          9.725651067066128,
          9.974854275732897,
          10.004758660772909,
          10.044631174159592,
          10.054599302506263,
          10.054599302506263,
          10.084503687546276,
          10.084503687546276,
          10.094471815892947,
          10.104439944239617,
          10.114408072586288,
          10.13434432927963,
          10.164248714319642,
          10.194153099359655,
          10.243993741093009,
          10.25396186943968,
          10.25396186943968,
          10.28386625447969,
          10.333706896213045,
          10.333706896213045,
          10.363611281253059,
          10.383547537946399,
          10.393515666293071,
          10.413451922986413,
          10.423420051333082,
          10.453324436373094,
          10.493196949759778,
          10.493196949759778,
          10.52310133479979,
          10.572941976533144,
          10.582910104879815,
          10.622782618266498,
          10.65268700330651,
          10.662655131653182,
          10.662655131653182,
          10.682591388346523,
          10.692559516693194,
          10.742400158426548,
          10.742400158426548,
          10.742400158426548,
          10.77230454346656,
          10.862017698586598,
          10.951730853706634,
          11.01153962378666,
          11.03147588048,
          11.051412137173342,
          11.061380265520015,
          11.081316522213355,
          11.081316522213355,
          11.101252778906696,
          11.131157163946709,
          11.14112529229338,
          11.180997805680063,
          11.200934062373404,
          11.200934062373404,
          11.210902190720075,
          11.2707109608001,
          11.310583474186783,
          11.320551602533454,
          11.350455987573467,
          11.430201014346832,
          11.430201014346832,
          11.440169142693504,
          11.470073527733517,
          11.490009784426858,
          11.5099460411202,
          11.519914169466869,
          11.599659196240236,
          11.629563581280248,
          11.639531709626919,
          11.639531709626919,
          11.64949983797359,
          11.818958019866994,
          11.828926148213665,
          11.838894276560335,
          11.848862404907006,
          11.848862404907006,
          11.858830533253677,
          11.868798661600348,
          11.938575560027044,
          12.00835245845374,
          12.088097485227106,
          12.098065613573775,
          12.108033741920448,
          12.187778768693812,
          12.187778768693812,
          12.187778768693812,
          12.197746897040483,
          12.227651282080496,
          12.267523795467179,
          12.267523795467179,
          12.327332565547204,
          12.347268822240546,
          12.3971094639739,
          12.436981977360583,
          12.496790747440608,
          12.696153314374023,
          12.825738982880743,
          12.855643367920756,
          12.90548400965411,
          12.995197164774147,
          13.224464116747574,
          13.264336630134258,
          13.334113528560954,
          13.443762940374334,
          13.503571710454358,
          13.523507967147697,
          13.563380480534382,
          13.583316737227722,
          13.623189250614406,
          13.732838662427785,
          13.762743047467797,
          13.852456202587836,
          13.902296844321189,
          14.061786897867922,
          14.18140443802797,
          14.241213208107997,
          14.251181336454668,
          14.29105384984135,
          14.340894491574705,
          14.360830748268045,
          14.360830748268045,
          14.380767004961386,
          14.570161443548132,
          14.580129571894801,
          14.719683368748193,
          14.739619625441536,
          14.819364652214901,
          14.839300908908244,
          14.859237165601584,
          14.968886577414963,
          15.138344759308369,
          15.178217272695049,
          15.387547967975138,
          15.417452353015149,
          15.527101764828528,
          15.786273101841969,
          15.895922513655348,
          15.945763155388702,
          16.035476310508738,
          16.035476310508738,
          16.12518946562877,
          16.304615775868847,
          16.60365962626897,
          16.663468396348996,
          17.112034171949183,
          17.640344974322733,
          17.74002625778944,
          17.759962514482783,
          17.939388824722858,
          18.11881513496293,
          18.11881513496293,
          18.168655776696284,
          18.178623905042958,
          18.32814583024302,
          18.348082086936362,
          18.6770303223765,
          18.796647862536545,
          18.96610604442995,
          18.98604230112329,
          19.065787327896658,
          19.19537299640338,
          19.215309253096716,
          19.245213638136732,
          19.285086151523416,
          19.285086151523416,
          19.34489492160344,
          19.434608076723478,
          19.464512461763487,
          19.564193745230195,
          19.633970643656895,
          19.783492568856953,
          19.813396953896966,
          19.913078237363674,
          20.202153959417128,
          20.311803371230504,
          20.33173962792385,
          20.491229681470582,
          20.65071973501731,
          20.870018558644073,
          21.298648077550915
         ],
         "yaxis": "y"
        }
       ],
       "layout": {
        "legend": {
         "tracegroupgap": 0
        },
        "margin": {
         "t": 60
        },
        "template": {
         "data": {
          "bar": [
           {
            "error_x": {
             "color": "#2a3f5f"
            },
            "error_y": {
             "color": "#2a3f5f"
            },
            "marker": {
             "line": {
              "color": "#E5ECF6",
              "width": 0.5
             },
             "pattern": {
              "fillmode": "overlay",
              "size": 10,
              "solidity": 0.2
             }
            },
            "type": "bar"
           }
          ],
          "barpolar": [
           {
            "marker": {
             "line": {
              "color": "#E5ECF6",
              "width": 0.5
             },
             "pattern": {
              "fillmode": "overlay",
              "size": 10,
              "solidity": 0.2
             }
            },
            "type": "barpolar"
           }
          ],
          "carpet": [
           {
            "aaxis": {
             "endlinecolor": "#2a3f5f",
             "gridcolor": "white",
             "linecolor": "white",
             "minorgridcolor": "white",
             "startlinecolor": "#2a3f5f"
            },
            "baxis": {
             "endlinecolor": "#2a3f5f",
             "gridcolor": "white",
             "linecolor": "white",
             "minorgridcolor": "white",
             "startlinecolor": "#2a3f5f"
            },
            "type": "carpet"
           }
          ],
          "choropleth": [
           {
            "colorbar": {
             "outlinewidth": 0,
             "ticks": ""
            },
            "type": "choropleth"
           }
          ],
          "contour": [
           {
            "colorbar": {
             "outlinewidth": 0,
             "ticks": ""
            },
            "colorscale": [
             [
              0,
              "#0d0887"
             ],
             [
              0.1111111111111111,
              "#46039f"
             ],
             [
              0.2222222222222222,
              "#7201a8"
             ],
             [
              0.3333333333333333,
              "#9c179e"
             ],
             [
              0.4444444444444444,
              "#bd3786"
             ],
             [
              0.5555555555555556,
              "#d8576b"
             ],
             [
              0.6666666666666666,
              "#ed7953"
             ],
             [
              0.7777777777777778,
              "#fb9f3a"
             ],
             [
              0.8888888888888888,
              "#fdca26"
             ],
             [
              1,
              "#f0f921"
             ]
            ],
            "type": "contour"
           }
          ],
          "contourcarpet": [
           {
            "colorbar": {
             "outlinewidth": 0,
             "ticks": ""
            },
            "type": "contourcarpet"
           }
          ],
          "heatmap": [
           {
            "colorbar": {
             "outlinewidth": 0,
             "ticks": ""
            },
            "colorscale": [
             [
              0,
              "#0d0887"
             ],
             [
              0.1111111111111111,
              "#46039f"
             ],
             [
              0.2222222222222222,
              "#7201a8"
             ],
             [
              0.3333333333333333,
              "#9c179e"
             ],
             [
              0.4444444444444444,
              "#bd3786"
             ],
             [
              0.5555555555555556,
              "#d8576b"
             ],
             [
              0.6666666666666666,
              "#ed7953"
             ],
             [
              0.7777777777777778,
              "#fb9f3a"
             ],
             [
              0.8888888888888888,
              "#fdca26"
             ],
             [
              1,
              "#f0f921"
             ]
            ],
            "type": "heatmap"
           }
          ],
          "heatmapgl": [
           {
            "colorbar": {
             "outlinewidth": 0,
             "ticks": ""
            },
            "colorscale": [
             [
              0,
              "#0d0887"
             ],
             [
              0.1111111111111111,
              "#46039f"
             ],
             [
              0.2222222222222222,
              "#7201a8"
             ],
             [
              0.3333333333333333,
              "#9c179e"
             ],
             [
              0.4444444444444444,
              "#bd3786"
             ],
             [
              0.5555555555555556,
              "#d8576b"
             ],
             [
              0.6666666666666666,
              "#ed7953"
             ],
             [
              0.7777777777777778,
              "#fb9f3a"
             ],
             [
              0.8888888888888888,
              "#fdca26"
             ],
             [
              1,
              "#f0f921"
             ]
            ],
            "type": "heatmapgl"
           }
          ],
          "histogram": [
           {
            "marker": {
             "pattern": {
              "fillmode": "overlay",
              "size": 10,
              "solidity": 0.2
             }
            },
            "type": "histogram"
           }
          ],
          "histogram2d": [
           {
            "colorbar": {
             "outlinewidth": 0,
             "ticks": ""
            },
            "colorscale": [
             [
              0,
              "#0d0887"
             ],
             [
              0.1111111111111111,
              "#46039f"
             ],
             [
              0.2222222222222222,
              "#7201a8"
             ],
             [
              0.3333333333333333,
              "#9c179e"
             ],
             [
              0.4444444444444444,
              "#bd3786"
             ],
             [
              0.5555555555555556,
              "#d8576b"
             ],
             [
              0.6666666666666666,
              "#ed7953"
             ],
             [
              0.7777777777777778,
              "#fb9f3a"
             ],
             [
              0.8888888888888888,
              "#fdca26"
             ],
             [
              1,
              "#f0f921"
             ]
            ],
            "type": "histogram2d"
           }
          ],
          "histogram2dcontour": [
           {
            "colorbar": {
             "outlinewidth": 0,
             "ticks": ""
            },
            "colorscale": [
             [
              0,
              "#0d0887"
             ],
             [
              0.1111111111111111,
              "#46039f"
             ],
             [
              0.2222222222222222,
              "#7201a8"
             ],
             [
              0.3333333333333333,
              "#9c179e"
             ],
             [
              0.4444444444444444,
              "#bd3786"
             ],
             [
              0.5555555555555556,
              "#d8576b"
             ],
             [
              0.6666666666666666,
              "#ed7953"
             ],
             [
              0.7777777777777778,
              "#fb9f3a"
             ],
             [
              0.8888888888888888,
              "#fdca26"
             ],
             [
              1,
              "#f0f921"
             ]
            ],
            "type": "histogram2dcontour"
           }
          ],
          "mesh3d": [
           {
            "colorbar": {
             "outlinewidth": 0,
             "ticks": ""
            },
            "type": "mesh3d"
           }
          ],
          "parcoords": [
           {
            "line": {
             "colorbar": {
              "outlinewidth": 0,
              "ticks": ""
             }
            },
            "type": "parcoords"
           }
          ],
          "pie": [
           {
            "automargin": true,
            "type": "pie"
           }
          ],
          "scatter": [
           {
            "fillpattern": {
             "fillmode": "overlay",
             "size": 10,
             "solidity": 0.2
            },
            "type": "scatter"
           }
          ],
          "scatter3d": [
           {
            "line": {
             "colorbar": {
              "outlinewidth": 0,
              "ticks": ""
             }
            },
            "marker": {
             "colorbar": {
              "outlinewidth": 0,
              "ticks": ""
             }
            },
            "type": "scatter3d"
           }
          ],
          "scattercarpet": [
           {
            "marker": {
             "colorbar": {
              "outlinewidth": 0,
              "ticks": ""
             }
            },
            "type": "scattercarpet"
           }
          ],
          "scattergeo": [
           {
            "marker": {
             "colorbar": {
              "outlinewidth": 0,
              "ticks": ""
             }
            },
            "type": "scattergeo"
           }
          ],
          "scattergl": [
           {
            "marker": {
             "colorbar": {
              "outlinewidth": 0,
              "ticks": ""
             }
            },
            "type": "scattergl"
           }
          ],
          "scattermapbox": [
           {
            "marker": {
             "colorbar": {
              "outlinewidth": 0,
              "ticks": ""
             }
            },
            "type": "scattermapbox"
           }
          ],
          "scatterpolar": [
           {
            "marker": {
             "colorbar": {
              "outlinewidth": 0,
              "ticks": ""
             }
            },
            "type": "scatterpolar"
           }
          ],
          "scatterpolargl": [
           {
            "marker": {
             "colorbar": {
              "outlinewidth": 0,
              "ticks": ""
             }
            },
            "type": "scatterpolargl"
           }
          ],
          "scatterternary": [
           {
            "marker": {
             "colorbar": {
              "outlinewidth": 0,
              "ticks": ""
             }
            },
            "type": "scatterternary"
           }
          ],
          "surface": [
           {
            "colorbar": {
             "outlinewidth": 0,
             "ticks": ""
            },
            "colorscale": [
             [
              0,
              "#0d0887"
             ],
             [
              0.1111111111111111,
              "#46039f"
             ],
             [
              0.2222222222222222,
              "#7201a8"
             ],
             [
              0.3333333333333333,
              "#9c179e"
             ],
             [
              0.4444444444444444,
              "#bd3786"
             ],
             [
              0.5555555555555556,
              "#d8576b"
             ],
             [
              0.6666666666666666,
              "#ed7953"
             ],
             [
              0.7777777777777778,
              "#fb9f3a"
             ],
             [
              0.8888888888888888,
              "#fdca26"
             ],
             [
              1,
              "#f0f921"
             ]
            ],
            "type": "surface"
           }
          ],
          "table": [
           {
            "cells": {
             "fill": {
              "color": "#EBF0F8"
             },
             "line": {
              "color": "white"
             }
            },
            "header": {
             "fill": {
              "color": "#C8D4E3"
             },
             "line": {
              "color": "white"
             }
            },
            "type": "table"
           }
          ]
         },
         "layout": {
          "annotationdefaults": {
           "arrowcolor": "#2a3f5f",
           "arrowhead": 0,
           "arrowwidth": 1
          },
          "autotypenumbers": "strict",
          "coloraxis": {
           "colorbar": {
            "outlinewidth": 0,
            "ticks": ""
           }
          },
          "colorscale": {
           "diverging": [
            [
             0,
             "#8e0152"
            ],
            [
             0.1,
             "#c51b7d"
            ],
            [
             0.2,
             "#de77ae"
            ],
            [
             0.3,
             "#f1b6da"
            ],
            [
             0.4,
             "#fde0ef"
            ],
            [
             0.5,
             "#f7f7f7"
            ],
            [
             0.6,
             "#e6f5d0"
            ],
            [
             0.7,
             "#b8e186"
            ],
            [
             0.8,
             "#7fbc41"
            ],
            [
             0.9,
             "#4d9221"
            ],
            [
             1,
             "#276419"
            ]
           ],
           "sequential": [
            [
             0,
             "#0d0887"
            ],
            [
             0.1111111111111111,
             "#46039f"
            ],
            [
             0.2222222222222222,
             "#7201a8"
            ],
            [
             0.3333333333333333,
             "#9c179e"
            ],
            [
             0.4444444444444444,
             "#bd3786"
            ],
            [
             0.5555555555555556,
             "#d8576b"
            ],
            [
             0.6666666666666666,
             "#ed7953"
            ],
            [
             0.7777777777777778,
             "#fb9f3a"
            ],
            [
             0.8888888888888888,
             "#fdca26"
            ],
            [
             1,
             "#f0f921"
            ]
           ],
           "sequentialminus": [
            [
             0,
             "#0d0887"
            ],
            [
             0.1111111111111111,
             "#46039f"
            ],
            [
             0.2222222222222222,
             "#7201a8"
            ],
            [
             0.3333333333333333,
             "#9c179e"
            ],
            [
             0.4444444444444444,
             "#bd3786"
            ],
            [
             0.5555555555555556,
             "#d8576b"
            ],
            [
             0.6666666666666666,
             "#ed7953"
            ],
            [
             0.7777777777777778,
             "#fb9f3a"
            ],
            [
             0.8888888888888888,
             "#fdca26"
            ],
            [
             1,
             "#f0f921"
            ]
           ]
          },
          "colorway": [
           "#636efa",
           "#EF553B",
           "#00cc96",
           "#ab63fa",
           "#FFA15A",
           "#19d3f3",
           "#FF6692",
           "#B6E880",
           "#FF97FF",
           "#FECB52"
          ],
          "font": {
           "color": "#2a3f5f"
          },
          "geo": {
           "bgcolor": "white",
           "lakecolor": "white",
           "landcolor": "#E5ECF6",
           "showlakes": true,
           "showland": true,
           "subunitcolor": "white"
          },
          "hoverlabel": {
           "align": "left"
          },
          "hovermode": "closest",
          "mapbox": {
           "style": "light"
          },
          "paper_bgcolor": "white",
          "plot_bgcolor": "#E5ECF6",
          "polar": {
           "angularaxis": {
            "gridcolor": "white",
            "linecolor": "white",
            "ticks": ""
           },
           "bgcolor": "#E5ECF6",
           "radialaxis": {
            "gridcolor": "white",
            "linecolor": "white",
            "ticks": ""
           }
          },
          "scene": {
           "xaxis": {
            "backgroundcolor": "#E5ECF6",
            "gridcolor": "white",
            "gridwidth": 2,
            "linecolor": "white",
            "showbackground": true,
            "ticks": "",
            "zerolinecolor": "white"
           },
           "yaxis": {
            "backgroundcolor": "#E5ECF6",
            "gridcolor": "white",
            "gridwidth": 2,
            "linecolor": "white",
            "showbackground": true,
            "ticks": "",
            "zerolinecolor": "white"
           },
           "zaxis": {
            "backgroundcolor": "#E5ECF6",
            "gridcolor": "white",
            "gridwidth": 2,
            "linecolor": "white",
            "showbackground": true,
            "ticks": "",
            "zerolinecolor": "white"
           }
          },
          "shapedefaults": {
           "line": {
            "color": "#2a3f5f"
           }
          },
          "ternary": {
           "aaxis": {
            "gridcolor": "white",
            "linecolor": "white",
            "ticks": ""
           },
           "baxis": {
            "gridcolor": "white",
            "linecolor": "white",
            "ticks": ""
           },
           "bgcolor": "#E5ECF6",
           "caxis": {
            "gridcolor": "white",
            "linecolor": "white",
            "ticks": ""
           }
          },
          "title": {
           "x": 0.05
          },
          "xaxis": {
           "automargin": true,
           "gridcolor": "white",
           "linecolor": "white",
           "ticks": "",
           "title": {
            "standoff": 15
           },
           "zerolinecolor": "white",
           "zerolinewidth": 2
          },
          "yaxis": {
           "automargin": true,
           "gridcolor": "white",
           "linecolor": "white",
           "ticks": "",
           "title": {
            "standoff": 15
           },
           "zerolinecolor": "white",
           "zerolinewidth": 2
          }
         }
        },
        "xaxis": {
         "anchor": "y",
         "domain": [
          0,
          1
         ],
         "title": {
          "text": "Revenue"
         }
        },
        "yaxis": {
         "anchor": "x",
         "domain": [
          0,
          1
         ],
         "title": {
          "text": " TMK"
         }
        }
       }
      }
     },
     "metadata": {},
     "output_type": "display_data"
    }
   ],
   "source": [
    "# Scatter ploten zwischen Temperatur und Umsatz mit linearen Zusammhang\n",
    "fig_relation = px.scatter(df_merged, x=\"Revenue\", y=\" TMK\", trendline=\"ols\")\n",
    "fig_relation"
   ]
  },
  {
   "cell_type": "code",
   "execution_count": 12,
   "metadata": {},
   "outputs": [
    {
     "name": "stdout",
     "output_type": "stream",
     "text": [
      "Korrelationskoeffizient zwischen Temperatur und Jahresumsatz: 0.7011176373036047\n"
     ]
    }
   ],
   "source": [
    "# Korrelationskoeffizient zwischen Umsatz und Temperatur\n",
    "correlation = df_merged['Revenue'].corr(df_merged[\" TMK\"])\n",
    "\n",
    "print(\"Korrelationskoeffizient zwischen Temperatur und Jahresumsatz:\", correlation)"
   ]
  },
  {
   "cell_type": "markdown",
   "metadata": {},
   "source": [
    "## 4. Relation mit zeitlicher Verzögerung (Aufgabe 2b)"
   ]
  },
  {
   "cell_type": "code",
   "execution_count": 13,
   "metadata": {},
   "outputs": [
    {
     "name": "stdout",
     "output_type": "stream",
     "text": [
      "Maximale Korrelation mit Lag von 11 Monaten: 0.6837989548940359\n"
     ]
    }
   ],
   "source": [
    "# Prüfen auf einen Zusammenhang mit zeitlicher Verzögerung\n",
    "lags = range(1, 12)  # Mögliche Verzögerungen von 1 bis 12 Monaten\n",
    "correlation_with_lags = []\n",
    "ac = []\n",
    "for lag in lags:\n",
    "    # Verzögerte Durchschnittstemperatur um `lag` Monate\n",
    "    df_merged['TMK_delayed'] = df_merged[\" TMK\"].shift(periods=lag)\n",
    "    # Berechnen der Korrelation zwischen verzögerter Durchschnittstemperatur und Umsatz\n",
    "    correlation_with_lags.append(df_merged['Revenue'].corr(df_merged['TMK_delayed']))\n",
    "    ac.append(df_merged.Revenue.autocorr(lag))\n",
    "\n",
    "# Ermitteln des Lags mit der höchsten Korrelation\n",
    "max_correlation_index = np.argmax(correlation_with_lags)\n",
    "lag_with_max_correlation = lags[max_correlation_index]\n",
    "max_correlation = correlation_with_lags[max_correlation_index]\n",
    "\n",
    "print(\"Maximale Korrelation mit Lag von\", lag_with_max_correlation, \"Monaten:\", max_correlation)"
   ]
  },
  {
   "cell_type": "code",
   "execution_count": 14,
   "metadata": {},
   "outputs": [
    {
     "data": {
      "text/plain": [
       "[<matplotlib.lines.Line2D at 0x29494baa8d0>]"
      ]
     },
     "execution_count": 14,
     "metadata": {},
     "output_type": "execute_result"
    },
    {
     "data": {
      "image/png": "[encoded data removed]",
      "text/plain": [
       "<Figure size 640x480 with 1 Axes>"
      ]
     },
     "metadata": {},
     "output_type": "display_data"
    }
   ],
   "source": [
    "# Übersicht der Autokorrelation über 11 Monate\n",
    "plt.plot(ac)"
   ]
  },
  {
   "cell_type": "code",
   "execution_count": 15,
   "metadata": {},
   "outputs": [
    {
     "data": {
      "image/png": "[encoded data removed]",
      "text/plain": [
       "<Figure size 640x480 with 1 Axes>"
      ]
     },
     "execution_count": 15,
     "metadata": {},
     "output_type": "execute_result"
    },
    {
     "data": {
      "image/png": "[encoded data removed]",
      "text/plain": [
       "<Figure size 640x480 with 1 Axes>"
      ]
     },
     "metadata": {},
     "output_type": "display_data"
    }
   ],
   "source": [
    "# Autokorrelation über zwei Jahre zum Vergleich\n",
    "sm.graphics.tsa.plot_acf(df_merged.Revenue.dropna(), lags=24)"
   ]
  },
  {
   "cell_type": "markdown",
   "metadata": {},
   "source": [
    "## 5. Relation zu allen Wettermesswerten (Aufgabe 2c)"
   ]
  },
  {
   "cell_type": "code",
   "execution_count": 16,
   "metadata": {},
   "outputs": [
    {
     "data": {
      "application/vnd.plotly.v1+json": {
       "config": {
        "plotlyServerURL": "https://plot.ly"
       },
       "data": [
        {
         "coloraxis": "coloraxis",
         "hovertemplate": "x: %{x}<br>y: %{y}<br>color: %{z}<extra></extra>",
         "name": "0",
         "type": "heatmap",
         "x": [
          "Revenue",
          "Datum",
          "  FX",
          "  FM",
          " RSK",
          "RSKF",
          " SDK",
          "SHK_TAG",
          "  NM",
          " VPM",
          "  PM",
          " TMK",
          " UPM",
          " TXK",
          " TNK",
          " TGK",
          "Date",
          "TMK_delayed"
         ],
         "xaxis": "x",
         "y": [
          "Revenue",
          "Datum",
          "  FX",
          "  FM",
          " RSK",
          "RSKF",
          " SDK",
          "SHK_TAG",
          "  NM",
          " VPM",
          "  PM",
          " TMK",
          " UPM",
          " TXK",
          " TNK",
          " TGK",
          "Date",
          "TMK_delayed"
         ],
         "yaxis": "y",
         "z": [
          [
           1,
           0.25,
           0.04,
           -0.25,
           0.12,
           -0.34,
           0.68,
           -0.16,
           -0.47,
           0.66,
           0,
           0.7,
           -0.62,
           0.72,
           0.67,
           0.64,
           0.25,
           0.68
          ],
          [
           0.25,
           1,
           -0.06,
           -0.01,
           -0.05,
           -0.47,
           0.05,
           -0.05,
           0.12,
           0.04,
           0.07,
           0.07,
           -0.06,
           0.08,
           0.04,
           -0.01,
           1,
           0.05
          ],
          [
           0.04,
           -0.06,
           1,
           0.81,
           0.37,
           0.34,
           -0.04,
           -0.11,
           0.17,
           -0.12,
           -0.31,
           -0.05,
           -0.17,
           -0.05,
           -0.05,
           -0.04,
           -0.06,
           0.1
          ],
          [
           -0.25,
           -0.01,
           0.81,
           1,
           0.16,
           0.43,
           -0.41,
           0.1,
           0.41,
           -0.53,
           -0.17,
           -0.48,
           0.17,
           -0.48,
           -0.47,
           -0.46,
           -0.01,
           -0.3
          ],
          [
           0.12,
           -0.05,
           0.37,
           0.16,
           1,
           0.49,
           -0.12,
           -0.06,
           0.36,
           0.3,
           -0.61,
           0.2,
           0.19,
           0.15,
           0.28,
           0.33,
           -0.05,
           0.12
          ],
          [
           -0.34,
           -0.47,
           0.34,
           0.43,
           0.49,
           1,
           -0.59,
           0.31,
           0.62,
           -0.34,
           -0.52,
           -0.44,
           0.51,
           -0.48,
           -0.37,
           -0.3,
           -0.47,
           -0.35
          ],
          [
           0.68,
           0.05,
           -0.04,
           -0.41,
           -0.12,
           -0.59,
           1,
           -0.31,
           -0.86,
           0.71,
           0.19,
           0.84,
           -0.91,
           0.88,
           0.76,
           0.72,
           0.05,
           0.86
          ],
          [
           -0.16,
           -0.05,
           -0.11,
           0.1,
           -0.06,
           0.31,
           -0.31,
           1,
           0.28,
           -0.35,
           -0.08,
           -0.41,
           0.28,
           -0.41,
           -0.42,
           -0.41,
           -0.05,
           -0.3
          ],
          [
           -0.47,
           0.12,
           0.17,
           0.41,
           0.36,
           0.62,
           -0.86,
           0.28,
           1,
           -0.5,
           -0.4,
           -0.62,
           0.77,
           -0.67,
           -0.54,
           -0.48,
           0.12,
           -0.57
          ],
          [
           0.66,
           0.04,
           -0.12,
           -0.53,
           0.3,
           -0.34,
           0.71,
           -0.35,
           -0.5,
           1,
           -0.04,
           0.96,
           -0.47,
           0.94,
           0.98,
           0.98,
           0.04,
           0.71
          ],
          [
           0,
           0.07,
           -0.31,
           -0.17,
           -0.61,
           -0.52,
           0.19,
           -0.08,
           -0.4,
           -0.04,
           1,
           0,
           -0.17,
           0.03,
           -0.06,
           -0.08,
           0.07,
           0
          ],
          [
           0.7,
           0.07,
           -0.05,
           -0.48,
           0.2,
           -0.44,
           0.84,
           -0.41,
           -0.62,
           0.96,
           0,
           1,
           -0.66,
           0.99,
           0.99,
           0.97,
           0.07,
           0.8
          ],
          [
           -0.62,
           -0.06,
           -0.17,
           0.17,
           0.19,
           0.51,
           -0.91,
           0.28,
           0.77,
           -0.47,
           -0.17,
           -0.66,
           1,
           -0.72,
           -0.57,
           -0.52,
           -0.06,
           -0.8
          ],
          [
           0.72,
           0.08,
           -0.05,
           -0.48,
           0.15,
           -0.48,
           0.88,
           -0.41,
           -0.67,
           0.94,
           0.03,
           0.99,
           -0.72,
           1,
           0.97,
           0.95,
           0.08,
           0.83
          ],
          [
           0.67,
           0.04,
           -0.05,
           -0.47,
           0.28,
           -0.37,
           0.76,
           -0.42,
           -0.54,
           0.98,
           -0.06,
           0.99,
           -0.57,
           0.97,
           1,
           0.99,
           0.04,
           0.76
          ],
          [
           0.64,
           -0.01,
           -0.04,
           -0.46,
           0.33,
           -0.3,
           0.72,
           -0.41,
           -0.48,
           0.98,
           -0.08,
           0.97,
           -0.52,
           0.95,
           0.99,
           1,
           -0.01,
           0.73
          ],
          [
           0.25,
           1,
           -0.06,
           -0.01,
           -0.05,
           -0.47,
           0.05,
           -0.05,
           0.12,
           0.04,
           0.07,
           0.07,
           -0.06,
           0.08,
           0.04,
           -0.01,
           1,
           0.05
          ],
          [
           0.68,
           0.05,
           0.1,
           -0.3,
           0.12,
           -0.35,
           0.86,
           -0.3,
           -0.57,
           0.71,
           0,
           0.8,
           -0.8,
           0.83,
           0.76,
           0.73,
           0.05,
           1
          ]
         ]
        }
       ],
       "layout": {
        "coloraxis": {
         "colorscale": [
          [
           0,
           "rgb(158,1,66)"
          ],
          [
           0.1,
           "rgb(213,62,79)"
          ],
          [
           0.2,
           "rgb(244,109,67)"
          ],
          [
           0.3,
           "rgb(253,174,97)"
          ],
          [
           0.4,
           "rgb(254,224,139)"
          ],
          [
           0.5,
           "rgb(255,255,191)"
          ],
          [
           0.6,
           "rgb(230,245,152)"
          ],
          [
           0.7,
           "rgb(171,221,164)"
          ],
          [
           0.8,
           "rgb(102,194,165)"
          ],
          [
           0.9,
           "rgb(50,136,189)"
          ],
          [
           1,
           "rgb(94,79,162)"
          ]
         ]
        },
        "height": 500,
        "template": {
         "data": {
          "bar": [
           {
            "error_x": {
             "color": "#2a3f5f"
            },
            "error_y": {
             "color": "#2a3f5f"
            },
            "marker": {
             "line": {
              "color": "#E5ECF6",
              "width": 0.5
             },
             "pattern": {
              "fillmode": "overlay",
              "size": 10,
              "solidity": 0.2
             }
            },
            "type": "bar"
           }
          ],
          "barpolar": [
           {
            "marker": {
             "line": {
              "color": "#E5ECF6",
              "width": 0.5
             },
             "pattern": {
              "fillmode": "overlay",
              "size": 10,
              "solidity": 0.2
             }
            },
            "type": "barpolar"
           }
          ],
          "carpet": [
           {
            "aaxis": {
             "endlinecolor": "#2a3f5f",
             "gridcolor": "white",
             "linecolor": "white",
             "minorgridcolor": "white",
             "startlinecolor": "#2a3f5f"
            },
            "baxis": {
             "endlinecolor": "#2a3f5f",
             "gridcolor": "white",
             "linecolor": "white",
             "minorgridcolor": "white",
             "startlinecolor": "#2a3f5f"
            },
            "type": "carpet"
           }
          ],
          "choropleth": [
           {
            "colorbar": {
             "outlinewidth": 0,
             "ticks": ""
            },
            "type": "choropleth"
           }
          ],
          "contour": [
           {
            "colorbar": {
             "outlinewidth": 0,
             "ticks": ""
            },
            "colorscale": [
             [
              0,
              "#0d0887"
             ],
             [
              0.1111111111111111,
              "#46039f"
             ],
             [
              0.2222222222222222,
              "#7201a8"
             ],
             [
              0.3333333333333333,
              "#9c179e"
             ],
             [
              0.4444444444444444,
              "#bd3786"
             ],
             [
              0.5555555555555556,
              "#d8576b"
             ],
             [
              0.6666666666666666,
              "#ed7953"
             ],
             [
              0.7777777777777778,
              "#fb9f3a"
             ],
             [
              0.8888888888888888,
              "#fdca26"
             ],
             [
              1,
              "#f0f921"
             ]
            ],
            "type": "contour"
           }
          ],
          "contourcarpet": [
           {
            "colorbar": {
             "outlinewidth": 0,
             "ticks": ""
            },
            "type": "contourcarpet"
           }
          ],
          "heatmap": [
           {
            "colorbar": {
             "outlinewidth": 0,
             "ticks": ""
            },
            "colorscale": [
             [
              0,
              "#0d0887"
             ],
             [
              0.1111111111111111,
              "#46039f"
             ],
             [
              0.2222222222222222,
              "#7201a8"
             ],
             [
              0.3333333333333333,
              "#9c179e"
             ],
             [
              0.4444444444444444,
              "#bd3786"
             ],
             [
              0.5555555555555556,
              "#d8576b"
             ],
             [
              0.6666666666666666,
              "#ed7953"
             ],
             [
              0.7777777777777778,
              "#fb9f3a"
             ],
             [
              0.8888888888888888,
              "#fdca26"
             ],
             [
              1,
              "#f0f921"
             ]
            ],
            "type": "heatmap"
           }
          ],
          "heatmapgl": [
           {
            "colorbar": {
             "outlinewidth": 0,
             "ticks": ""
            },
            "colorscale": [
             [
              0,
              "#0d0887"
             ],
             [
              0.1111111111111111,
              "#46039f"
             ],
             [
              0.2222222222222222,
              "#7201a8"
             ],
             [
              0.3333333333333333,
              "#9c179e"
             ],
             [
              0.4444444444444444,
              "#bd3786"
             ],
             [
              0.5555555555555556,
              "#d8576b"
             ],
             [
              0.6666666666666666,
              "#ed7953"
             ],
             [
              0.7777777777777778,
              "#fb9f3a"
             ],
             [
              0.8888888888888888,
              "#fdca26"
             ],
             [
              1,
              "#f0f921"
             ]
            ],
            "type": "heatmapgl"
           }
          ],
          "histogram": [
           {
            "marker": {
             "pattern": {
              "fillmode": "overlay",
              "size": 10,
              "solidity": 0.2
             }
            },
            "type": "histogram"
           }
          ],
          "histogram2d": [
           {
            "colorbar": {
             "outlinewidth": 0,
             "ticks": ""
            },
            "colorscale": [
             [
              0,
              "#0d0887"
             ],
             [
              0.1111111111111111,
              "#46039f"
             ],
             [
              0.2222222222222222,
              "#7201a8"
             ],
             [
              0.3333333333333333,
              "#9c179e"
             ],
             [
              0.4444444444444444,
              "#bd3786"
             ],
             [
              0.5555555555555556,
              "#d8576b"
             ],
             [
              0.6666666666666666,
              "#ed7953"
             ],
             [
              0.7777777777777778,
              "#fb9f3a"
             ],
             [
              0.8888888888888888,
              "#fdca26"
             ],
             [
              1,
              "#f0f921"
             ]
            ],
            "type": "histogram2d"
           }
          ],
          "histogram2dcontour": [
           {
            "colorbar": {
             "outlinewidth": 0,
             "ticks": ""
            },
            "colorscale": [
             [
              0,
              "#0d0887"
             ],
             [
              0.1111111111111111,
              "#46039f"
             ],
             [
              0.2222222222222222,
              "#7201a8"
             ],
             [
              0.3333333333333333,
              "#9c179e"
             ],
             [
              0.4444444444444444,
              "#bd3786"
             ],
             [
              0.5555555555555556,
              "#d8576b"
             ],
             [
              0.6666666666666666,
              "#ed7953"
             ],
             [
              0.7777777777777778,
              "#fb9f3a"
             ],
             [
              0.8888888888888888,
              "#fdca26"
             ],
             [
              1,
              "#f0f921"
             ]
            ],
            "type": "histogram2dcontour"
           }
          ],
          "mesh3d": [
           {
            "colorbar": {
             "outlinewidth": 0,
             "ticks": ""
            },
            "type": "mesh3d"
           }
          ],
          "parcoords": [
           {
            "line": {
             "colorbar": {
              "outlinewidth": 0,
              "ticks": ""
             }
            },
            "type": "parcoords"
           }
          ],
          "pie": [
           {
            "automargin": true,
            "type": "pie"
           }
          ],
          "scatter": [
           {
            "fillpattern": {
             "fillmode": "overlay",
             "size": 10,
             "solidity": 0.2
            },
            "type": "scatter"
           }
          ],
          "scatter3d": [
           {
            "line": {
             "colorbar": {
              "outlinewidth": 0,
              "ticks": ""
             }
            },
            "marker": {
             "colorbar": {
              "outlinewidth": 0,
              "ticks": ""
             }
            },
            "type": "scatter3d"
           }
          ],
          "scattercarpet": [
           {
            "marker": {
             "colorbar": {
              "outlinewidth": 0,
              "ticks": ""
             }
            },
            "type": "scattercarpet"
           }
          ],
          "scattergeo": [
           {
            "marker": {
             "colorbar": {
              "outlinewidth": 0,
              "ticks": ""
             }
            },
            "type": "scattergeo"
           }
          ],
          "scattergl": [
           {
            "marker": {
             "colorbar": {
              "outlinewidth": 0,
              "ticks": ""
             }
            },
            "type": "scattergl"
           }
          ],
          "scattermapbox": [
           {
            "marker": {
             "colorbar": {
              "outlinewidth": 0,
              "ticks": ""
             }
            },
            "type": "scattermapbox"
           }
          ],
          "scatterpolar": [
           {
            "marker": {
             "colorbar": {
              "outlinewidth": 0,
              "ticks": ""
             }
            },
            "type": "scatterpolar"
           }
          ],
          "scatterpolargl": [
           {
            "marker": {
             "colorbar": {
              "outlinewidth": 0,
              "ticks": ""
             }
            },
            "type": "scatterpolargl"
           }
          ],
          "scatterternary": [
           {
            "marker": {
             "colorbar": {
              "outlinewidth": 0,
              "ticks": ""
             }
            },
            "type": "scatterternary"
           }
          ],
          "surface": [
           {
            "colorbar": {
             "outlinewidth": 0,
             "ticks": ""
            },
            "colorscale": [
             [
              0,
              "#0d0887"
             ],
             [
              0.1111111111111111,
              "#46039f"
             ],
             [
              0.2222222222222222,
              "#7201a8"
             ],
             [
              0.3333333333333333,
              "#9c179e"
             ],
             [
              0.4444444444444444,
              "#bd3786"
             ],
             [
              0.5555555555555556,
              "#d8576b"
             ],
             [
              0.6666666666666666,
              "#ed7953"
             ],
             [
              0.7777777777777778,
              "#fb9f3a"
             ],
             [
              0.8888888888888888,
              "#fdca26"
             ],
             [
              1,
              "#f0f921"
             ]
            ],
            "type": "surface"
           }
          ],
          "table": [
           {
            "cells": {
             "fill": {
              "color": "#EBF0F8"
             },
             "line": {
              "color": "white"
             }
            },
            "header": {
             "fill": {
              "color": "#C8D4E3"
             },
             "line": {
              "color": "white"
             }
            },
            "type": "table"
           }
          ]
         },
         "layout": {
          "annotationdefaults": {
           "arrowcolor": "#2a3f5f",
           "arrowhead": 0,
           "arrowwidth": 1
          },
          "autotypenumbers": "strict",
          "coloraxis": {
           "colorbar": {
            "outlinewidth": 0,
            "ticks": ""
           }
          },
          "colorscale": {
           "diverging": [
            [
             0,
             "#8e0152"
            ],
            [
             0.1,
             "#c51b7d"
            ],
            [
             0.2,
             "#de77ae"
            ],
            [
             0.3,
             "#f1b6da"
            ],
            [
             0.4,
             "#fde0ef"
            ],
            [
             0.5,
             "#f7f7f7"
            ],
            [
             0.6,
             "#e6f5d0"
            ],
            [
             0.7,
             "#b8e186"
            ],
            [
             0.8,
             "#7fbc41"
            ],
            [
             0.9,
             "#4d9221"
            ],
            [
             1,
             "#276419"
            ]
           ],
           "sequential": [
            [
             0,
             "#0d0887"
            ],
            [
             0.1111111111111111,
             "#46039f"
            ],
            [
             0.2222222222222222,
             "#7201a8"
            ],
            [
             0.3333333333333333,
             "#9c179e"
            ],
            [
             0.4444444444444444,
             "#bd3786"
            ],
            [
             0.5555555555555556,
             "#d8576b"
            ],
            [
             0.6666666666666666,
             "#ed7953"
            ],
            [
             0.7777777777777778,
             "#fb9f3a"
            ],
            [
             0.8888888888888888,
             "#fdca26"
            ],
            [
             1,
             "#f0f921"
            ]
           ],
           "sequentialminus": [
            [
             0,
             "#0d0887"
            ],
            [
             0.1111111111111111,
             "#46039f"
            ],
            [
             0.2222222222222222,
             "#7201a8"
            ],
            [
             0.3333333333333333,
             "#9c179e"
            ],
            [
             0.4444444444444444,
             "#bd3786"
            ],
            [
             0.5555555555555556,
             "#d8576b"
            ],
            [
             0.6666666666666666,
             "#ed7953"
            ],
            [
             0.7777777777777778,
             "#fb9f3a"
            ],
            [
             0.8888888888888888,
             "#fdca26"
            ],
            [
             1,
             "#f0f921"
            ]
           ]
          },
          "colorway": [
           "#636efa",
           "#EF553B",
           "#00cc96",
           "#ab63fa",
           "#FFA15A",
           "#19d3f3",
           "#FF6692",
           "#B6E880",
           "#FF97FF",
           "#FECB52"
          ],
          "font": {
           "color": "#2a3f5f"
          },
          "geo": {
           "bgcolor": "white",
           "lakecolor": "white",
           "landcolor": "#E5ECF6",
           "showlakes": true,
           "showland": true,
           "subunitcolor": "white"
          },
          "hoverlabel": {
           "align": "left"
          },
          "hovermode": "closest",
          "mapbox": {
           "style": "light"
          },
          "paper_bgcolor": "white",
          "plot_bgcolor": "#E5ECF6",
          "polar": {
           "angularaxis": {
            "gridcolor": "white",
            "linecolor": "white",
            "ticks": ""
           },
           "bgcolor": "#E5ECF6",
           "radialaxis": {
            "gridcolor": "white",
            "linecolor": "white",
            "ticks": ""
           }
          },
          "scene": {
           "xaxis": {
            "backgroundcolor": "#E5ECF6",
            "gridcolor": "white",
            "gridwidth": 2,
            "linecolor": "white",
            "showbackground": true,
            "ticks": "",
            "zerolinecolor": "white"
           },
           "yaxis": {
            "backgroundcolor": "#E5ECF6",
            "gridcolor": "white",
            "gridwidth": 2,
            "linecolor": "white",
            "showbackground": true,
            "ticks": "",
            "zerolinecolor": "white"
           },
           "zaxis": {
            "backgroundcolor": "#E5ECF6",
            "gridcolor": "white",
            "gridwidth": 2,
            "linecolor": "white",
            "showbackground": true,
            "ticks": "",
            "zerolinecolor": "white"
           }
          },
          "shapedefaults": {
           "line": {
            "color": "#2a3f5f"
           }
          },
          "ternary": {
           "aaxis": {
            "gridcolor": "white",
            "linecolor": "white",
            "ticks": ""
           },
           "baxis": {
            "gridcolor": "white",
            "linecolor": "white",
            "ticks": ""
           },
           "bgcolor": "#E5ECF6",
           "caxis": {
            "gridcolor": "white",
            "linecolor": "white",
            "ticks": ""
           }
          },
          "title": {
           "x": 0.05
          },
          "xaxis": {
           "automargin": true,
           "gridcolor": "white",
           "linecolor": "white",
           "ticks": "",
           "title": {
            "standoff": 15
           },
           "zerolinecolor": "white",
           "zerolinewidth": 2
          },
          "yaxis": {
           "automargin": true,
           "gridcolor": "white",
           "linecolor": "white",
           "ticks": "",
           "title": {
            "standoff": 15
           },
           "zerolinecolor": "white",
           "zerolinewidth": 2
          }
         }
        },
        "title": {
         "text": "Correlation matrix"
        },
        "width": 500,
        "xaxis": {
         "anchor": "y",
         "constrain": "domain",
         "domain": [
          0,
          1
         ],
         "scaleanchor": "y"
        },
        "yaxis": {
         "anchor": "x",
         "autorange": "reversed",
         "constrain": "domain",
         "domain": [
          0,
          1
         ]
        }
       }
      }
     },
     "metadata": {},
     "output_type": "display_data"
    }
   ],
   "source": [
    "# Korrelationsmatrix aus allen Werten erstellen\n",
    "df_merged.corr()\n",
    "# Rundung auf zwei Nachkommastellen\n",
    "corr = round(df_merged.corr(),2)\n",
    "# Visualisierung mit Plotly\n",
    "fig2 = px.imshow(corr,\n",
    "                x=corr.columns,\n",
    "                y=corr.columns,\n",
    "                color_continuous_scale='Spectral',\n",
    "                title='Correlation matrix',\n",
    "                width=500,\n",
    "                height=500)\n",
    "fig2.show()"
   ]
  },
  {
   "cell_type": "code",
   "execution_count": 17,
   "metadata": {},
   "outputs": [
    {
     "data": {
      "text/plain": [
       "Revenue        1.00\n",
       " TXK           0.72\n",
       " TMK           0.70\n",
       " SDK           0.68\n",
       "TMK_delayed    0.68\n",
       " TNK           0.67\n",
       " VPM           0.66\n",
       " TGK           0.64\n",
       "Datum          0.25\n",
       "Date           0.25\n",
       " RSK           0.12\n",
       "  FX           0.04\n",
       "  PM           0.00\n",
       "SHK_TAG       -0.16\n",
       "  FM          -0.25\n",
       "RSKF          -0.34\n",
       "  NM          -0.47\n",
       " UPM          -0.62\n",
       "Name: Revenue, dtype: float64"
      ]
     },
     "execution_count": 17,
     "metadata": {},
     "output_type": "execute_result"
    }
   ],
   "source": [
    "# Nur Korrelation mit Umsatz\n",
    "corr = corr.Revenue\n",
    "# Sortieren nach korrelationskoeffizienten Wert\n",
    "revenue_corr = corr.sort_values(ascending=False)\n",
    "revenue_corr"
   ]
  },
  {
   "cell_type": "code",
   "execution_count": 18,
   "metadata": {},
   "outputs": [
    {
     "data": {
      "image/png": "[encoded data removed]",
      "text/plain": [
       "<Figure size 1000x600 with 1 Axes>"
      ]
     },
     "metadata": {},
     "output_type": "display_data"
    }
   ],
   "source": [
    "# Plot der sortierten Korrelationen\n",
    "plt.figure(figsize=(10, 6))\n",
    "revenue_corr.plot(kind='bar', color='skyblue')\n",
    "plt.title('Korrelation der Wetterdaten mit Campingumsätzen')\n",
    "plt.xlabel('Wettervariablen')\n",
    "plt.ylabel('Korrelationskoeffizient')\n",
    "plt.show()"
   ]
  },
  {
   "cell_type": "markdown",
   "metadata": {},
   "source": [
    "## 6. Saison- und Trendbereinigung (Aufgabe 2d)"
   ]
  },
  {
   "cell_type": "code",
   "execution_count": 25,
   "metadata": {},
   "outputs": [
    {
     "data": {
      "text/plain": [
       "Text(0.5, 1.0, 'Detrending Revenue by subtracting the least squares fit')"
      ]
     },
     "execution_count": 25,
     "metadata": {},
     "output_type": "execute_result"
    },
    {
     "data": {
      "image/png": "[encoded data removed]",
      "text/plain": [
       "<Figure size 640x480 with 1 Axes>"
      ]
     },
     "metadata": {},
     "output_type": "display_data"
    }
   ],
   "source": [
    "from scipy import signal\n",
    "detrended = signal.detrend(df_merged['Revenue'].values)\n",
    "plt.plot(df_merged.Revenue)\n",
    "plt.plot(detrended)\n",
    "plt.title('Detrending Revenue by subtracting the least squares fit', fontsize=16)"
   ]
  },
  {
   "cell_type": "code",
   "execution_count": 30,
   "metadata": {},
   "outputs": [
    {
     "data": {
      "application/vnd.plotly.v1+json": {
       "config": {
        "plotlyServerURL": "https://plot.ly"
       },
       "data": [
        {
         "hovertemplate": "Date=%{x}<br>Revenue=%{y}<extra></extra>",
         "legendgroup": "",
         "marker": {
          "color": "#636efa",
          "symbol": "circle"
         },
         "mode": "markers",
         "name": "",
         "orientation": "v",
         "showlegend": false,
         "type": "scatter",
         "x": [
          "1994-01-01T00:00:00",
          "1994-02-01T00:00:00",
          "1994-03-01T00:00:00",
          "1994-04-01T00:00:00",
          "1994-05-01T00:00:00",
          "1994-06-01T00:00:00",
          "1994-07-01T00:00:00",
          "1994-08-01T00:00:00",
          "1994-09-01T00:00:00",
          "1994-10-01T00:00:00",
          "1994-11-01T00:00:00",
          "1994-12-01T00:00:00",
          "1995-01-01T00:00:00",
          "1995-02-01T00:00:00",
          "1995-03-01T00:00:00",
          "1995-04-01T00:00:00",
          "1995-05-01T00:00:00",
          "1995-06-01T00:00:00",
          "1995-07-01T00:00:00",
          "1995-08-01T00:00:00",
          "1995-09-01T00:00:00",
          "1995-10-01T00:00:00",
          "1995-11-01T00:00:00",
          "1995-12-01T00:00:00",
          "1996-01-01T00:00:00",
          "1996-02-01T00:00:00",
          "1996-03-01T00:00:00",
          "1996-04-01T00:00:00",
          "1996-05-01T00:00:00",
          "1996-06-01T00:00:00",
          "1996-07-01T00:00:00",
          "1996-08-01T00:00:00",
          "1996-09-01T00:00:00",
          "1996-10-01T00:00:00",
          "1996-11-01T00:00:00",
          "1996-12-01T00:00:00",
          "1997-01-01T00:00:00",
          "1997-02-01T00:00:00",
          "1997-03-01T00:00:00",
          "1997-04-01T00:00:00",
          "1997-05-01T00:00:00",
          "1997-06-01T00:00:00",
          "1997-07-01T00:00:00",
          "1997-08-01T00:00:00",
          "1997-09-01T00:00:00",
          "1997-10-01T00:00:00",
          "1997-11-01T00:00:00",
          "1997-12-01T00:00:00",
          "1998-01-01T00:00:00",
          "1998-02-01T00:00:00",
          "1998-03-01T00:00:00",
          "1998-04-01T00:00:00",
          "1998-05-01T00:00:00",
          "1998-06-01T00:00:00",
          "1998-07-01T00:00:00",
          "1998-08-01T00:00:00",
          "1998-09-01T00:00:00",
          "1998-10-01T00:00:00",
          "1998-11-01T00:00:00",
          "1998-12-01T00:00:00",
          "1999-01-01T00:00:00",
          "1999-02-01T00:00:00",
          "1999-03-01T00:00:00",
          "1999-04-01T00:00:00",
          "1999-05-01T00:00:00",
          "1999-06-01T00:00:00",
          "1999-07-01T00:00:00",
          "1999-08-01T00:00:00",
          "1999-09-01T00:00:00",
          "1999-10-01T00:00:00",
          "1999-11-01T00:00:00",
          "1999-12-01T00:00:00",
          "2000-01-01T00:00:00",
          "2000-02-01T00:00:00",
          "2000-03-01T00:00:00",
          "2000-04-01T00:00:00",
          "2000-05-01T00:00:00",
          "2000-06-01T00:00:00",
          "2000-07-01T00:00:00",
          "2000-08-01T00:00:00",
          "2000-09-01T00:00:00",
          "2000-10-01T00:00:00",
          "2000-11-01T00:00:00",
          "2000-12-01T00:00:00",
          "2001-01-01T00:00:00",
          "2001-02-01T00:00:00",
          "2001-03-01T00:00:00",
          "2001-04-01T00:00:00",
          "2001-05-01T00:00:00",
          "2001-06-01T00:00:00",
          "2001-07-01T00:00:00",
          "2001-08-01T00:00:00",
          "2001-09-01T00:00:00",
          "2001-10-01T00:00:00",
          "2001-11-01T00:00:00",
          "2001-12-01T00:00:00",
          "2002-01-01T00:00:00",
          "2002-02-01T00:00:00",
          "2002-03-01T00:00:00",
          "2002-04-01T00:00:00",
          "2002-05-01T00:00:00",
          "2002-06-01T00:00:00",
          "2002-07-01T00:00:00",
          "2002-08-01T00:00:00",
          "2002-09-01T00:00:00",
          "2002-10-01T00:00:00",
          "2002-11-01T00:00:00",
          "2002-12-01T00:00:00",
          "2003-01-01T00:00:00",
          "2003-02-01T00:00:00",
          "2003-03-01T00:00:00",
          "2003-04-01T00:00:00",
          "2003-05-01T00:00:00",
          "2003-06-01T00:00:00",
          "2003-07-01T00:00:00",
          "2003-08-01T00:00:00",
          "2003-09-01T00:00:00",
          "2003-10-01T00:00:00",
          "2003-11-01T00:00:00",
          "2003-12-01T00:00:00",
          "2004-01-01T00:00:00",
          "2004-02-01T00:00:00",
          "2004-03-01T00:00:00",
          "2004-04-01T00:00:00",
          "2004-05-01T00:00:00",
          "2004-06-01T00:00:00",
          "2004-07-01T00:00:00",
          "2004-08-01T00:00:00",
          "2004-09-01T00:00:00",
          "2004-10-01T00:00:00",
          "2004-11-01T00:00:00",
          "2004-12-01T00:00:00",
          "2005-01-01T00:00:00",
          "2005-02-01T00:00:00",
          "2005-03-01T00:00:00",
          "2005-04-01T00:00:00",
          "2005-05-01T00:00:00",
          "2005-06-01T00:00:00",
          "2005-07-01T00:00:00",
          "2005-08-01T00:00:00",
          "2005-09-01T00:00:00",
          "2005-10-01T00:00:00",
          "2005-11-01T00:00:00",
          "2005-12-01T00:00:00",
          "2006-01-01T00:00:00",
          "2006-02-01T00:00:00",
          "2006-03-01T00:00:00",
          "2006-04-01T00:00:00",
          "2006-05-01T00:00:00",
          "2006-06-01T00:00:00",
          "2006-07-01T00:00:00",
          "2006-08-01T00:00:00",
          "2006-09-01T00:00:00",
          "2006-10-01T00:00:00",
          "2006-11-01T00:00:00",
          "2006-12-01T00:00:00",
          "2007-01-01T00:00:00",
          "2007-02-01T00:00:00",
          "2007-03-01T00:00:00",
          "2007-04-01T00:00:00",
          "2007-05-01T00:00:00",
          "2007-06-01T00:00:00",
          "2007-07-01T00:00:00",
          "2007-08-01T00:00:00",
          "2007-09-01T00:00:00",
          "2007-10-01T00:00:00",
          "2007-11-01T00:00:00",
          "2007-12-01T00:00:00",
          "2008-01-01T00:00:00",
          "2008-02-01T00:00:00",
          "2008-03-01T00:00:00",
          "2008-04-01T00:00:00",
          "2008-05-01T00:00:00",
          "2008-06-01T00:00:00",
          "2008-07-01T00:00:00",
          "2008-08-01T00:00:00",
          "2008-09-01T00:00:00",
          "2008-10-01T00:00:00",
          "2008-11-01T00:00:00",
          "2008-12-01T00:00:00",
          "2009-01-01T00:00:00",
          "2009-02-01T00:00:00",
          "2009-03-01T00:00:00",
          "2009-04-01T00:00:00",
          "2009-05-01T00:00:00",
          "2009-06-01T00:00:00",
          "2009-07-01T00:00:00",
          "2009-08-01T00:00:00",
          "2009-09-01T00:00:00",
          "2009-10-01T00:00:00",
          "2009-11-01T00:00:00",
          "2009-12-01T00:00:00",
          "2010-01-01T00:00:00",
          "2010-02-01T00:00:00",
          "2010-03-01T00:00:00",
          "2010-04-01T00:00:00",
          "2010-05-01T00:00:00",
          "2010-06-01T00:00:00",
          "2010-07-01T00:00:00",
          "2010-08-01T00:00:00",
          "2010-09-01T00:00:00",
          "2010-10-01T00:00:00",
          "2010-11-01T00:00:00",
          "2010-12-01T00:00:00",
          "2011-01-01T00:00:00",
          "2011-02-01T00:00:00",
          "2011-03-01T00:00:00",
          "2011-04-01T00:00:00",
          "2011-05-01T00:00:00",
          "2011-06-01T00:00:00",
          "2011-07-01T00:00:00",
          "2011-08-01T00:00:00",
          "2011-09-01T00:00:00",
          "2011-10-01T00:00:00",
          "2011-11-01T00:00:00",
          "2011-12-01T00:00:00",
          "2012-01-01T00:00:00",
          "2012-02-01T00:00:00",
          "2012-03-01T00:00:00",
          "2012-04-01T00:00:00",
          "2012-05-01T00:00:00",
          "2012-06-01T00:00:00",
          "2012-07-01T00:00:00",
          "2012-08-01T00:00:00",
          "2012-09-01T00:00:00",
          "2012-10-01T00:00:00",
          "2012-11-01T00:00:00",
          "2012-12-01T00:00:00",
          "2013-01-01T00:00:00",
          "2013-02-01T00:00:00",
          "2013-03-01T00:00:00",
          "2013-04-01T00:00:00",
          "2013-05-01T00:00:00",
          "2013-06-01T00:00:00",
          "2013-07-01T00:00:00",
          "2013-08-01T00:00:00",
          "2013-09-01T00:00:00",
          "2013-10-01T00:00:00",
          "2013-11-01T00:00:00",
          "2013-12-01T00:00:00",
          "2014-01-01T00:00:00",
          "2014-02-01T00:00:00",
          "2014-03-01T00:00:00",
          "2014-04-01T00:00:00",
          "2014-05-01T00:00:00",
          "2014-06-01T00:00:00",
          "2014-07-01T00:00:00",
          "2014-08-01T00:00:00",
          "2014-09-01T00:00:00",
          "2014-10-01T00:00:00",
          "2014-11-01T00:00:00",
          "2014-12-01T00:00:00",
          "2015-01-01T00:00:00",
          "2015-02-01T00:00:00",
          "2015-03-01T00:00:00",
          "2015-04-01T00:00:00",
          "2015-05-01T00:00:00",
          "2015-06-01T00:00:00",
          "2015-07-01T00:00:00",
          "2015-08-01T00:00:00",
          "2015-09-01T00:00:00",
          "2015-10-01T00:00:00",
          "2015-11-01T00:00:00",
          "2015-12-01T00:00:00",
          "2016-01-01T00:00:00",
          "2016-02-01T00:00:00",
          "2016-03-01T00:00:00",
          "2016-04-01T00:00:00",
          "2016-05-01T00:00:00",
          "2016-06-01T00:00:00",
          "2016-07-01T00:00:00",
          "2016-08-01T00:00:00",
          "2016-09-01T00:00:00",
          "2016-10-01T00:00:00",
          "2016-11-01T00:00:00",
          "2016-12-01T00:00:00",
          "2017-01-01T00:00:00",
          "2017-02-01T00:00:00",
          "2017-03-01T00:00:00",
          "2017-04-01T00:00:00",
          "2017-05-01T00:00:00",
          "2017-06-01T00:00:00",
          "2017-07-01T00:00:00",
          "2017-08-01T00:00:00",
          "2017-09-01T00:00:00",
          "2017-10-01T00:00:00",
          "2017-11-01T00:00:00",
          "2017-12-01T00:00:00",
          "2018-01-01T00:00:00",
          "2018-02-01T00:00:00",
          "2018-03-01T00:00:00",
          "2018-04-01T00:00:00",
          "2018-05-01T00:00:00",
          "2018-06-01T00:00:00",
          "2018-07-01T00:00:00",
          "2018-08-01T00:00:00",
          "2018-09-01T00:00:00",
          "2018-10-01T00:00:00",
          "2018-11-01T00:00:00",
          "2018-12-01T00:00:00",
          "2019-01-01T00:00:00",
          "2019-02-01T00:00:00",
          "2019-03-01T00:00:00",
          "2019-04-01T00:00:00",
          "2019-05-01T00:00:00",
          "2019-06-01T00:00:00",
          "2019-07-01T00:00:00",
          "2019-08-01T00:00:00",
          "2019-09-01T00:00:00",
          "2019-10-01T00:00:00",
          "2019-11-01T00:00:00",
          "2019-12-01T00:00:00",
          "2020-01-01T00:00:00",
          "2020-02-01T00:00:00",
          "2020-03-01T00:00:00",
          "2020-04-01T00:00:00",
          "2020-05-01T00:00:00",
          "2020-06-01T00:00:00",
          "2020-07-01T00:00:00",
          "2020-08-01T00:00:00",
          "2020-09-01T00:00:00",
          "2020-10-01T00:00:00",
          "2020-11-01T00:00:00",
          "2020-12-01T00:00:00",
          "2021-01-01T00:00:00",
          "2021-02-01T00:00:00",
          "2021-03-01T00:00:00",
          "2021-04-01T00:00:00",
          "2021-05-01T00:00:00",
          "2021-06-01T00:00:00",
          "2021-07-01T00:00:00",
          "2021-08-01T00:00:00",
          "2021-09-01T00:00:00",
          "2021-10-01T00:00:00",
          "2021-11-01T00:00:00",
          "2021-12-01T00:00:00",
          "2022-01-01T00:00:00",
          "2022-02-01T00:00:00",
          "2022-03-01T00:00:00",
          "2022-04-01T00:00:00",
          "2022-05-01T00:00:00",
          "2022-06-01T00:00:00",
          "2022-07-01T00:00:00",
          "2022-08-01T00:00:00",
          "2022-09-01T00:00:00",
          "2022-10-01T00:00:00",
          "2022-11-01T00:00:00",
          "2022-12-01T00:00:00",
          "2023-01-01T00:00:00",
          "2023-02-01T00:00:00",
          "2023-03-01T00:00:00",
          "2023-04-01T00:00:00",
          "2023-05-01T00:00:00",
          "2023-06-01T00:00:00",
          "2023-07-01T00:00:00",
          "2023-08-01T00:00:00",
          "2023-09-01T00:00:00",
          "2023-10-01T00:00:00",
          "2023-11-01T00:00:00",
          "2023-12-01T00:00:00"
         ],
         "xaxis": "x",
         "y": [
          68.4,
          52.2,
          81.8,
          119.4,
          99.7,
          84.7,
          141.9,
          123.7,
          63.6,
          56.7,
          34.8,
          32.5,
          88.4,
          51.5,
          58.5,
          104.2,
          86.8,
          80.8,
          117.5,
          101.7,
          57.5,
          50.1,
          35.6,
          38.4,
          76.7,
          62.2,
          66.2,
          100.1,
          79.3,
          76.2,
          106.7,
          100.6,
          64.9,
          55.2,
          37.9,
          38.9,
          66.9,
          58.1,
          66.8,
          101.2,
          96.3,
          68,
          101.8,
          114,
          79.9,
          56,
          33.4,
          43.7,
          59.1,
          66,
          70.2,
          113.7,
          94.4,
          69,
          92.9,
          103.8,
          68.4,
          50.5,
          30.3,
          36.9,
          56,
          60,
          66.7,
          102.9,
          93.8,
          76.6,
          105.8,
          114.2,
          95.3,
          72.4,
          46.1,
          42.1,
          65.4,
          67.9,
          69.4,
          143,
          103.2,
          99,
          110.3,
          122.8,
          92.9,
          74.8,
          42.6,
          40.4,
          67.5,
          57.8,
          64.5,
          137,
          113.6,
          109.6,
          159.8,
          146.6,
          89,
          74.6,
          45.4,
          41.3,
          68.7,
          65.2,
          85.3,
          138.4,
          121.6,
          117.8,
          145.1,
          153.6,
          88.4,
          69.3,
          41.8,
          42,
          83.8,
          68.5,
          105.5,
          154.7,
          117.6,
          135.2,
          159.8,
          197.4,
          110.7,
          83,
          45.9,
          50.8,
          102.1,
          100.3,
          111.1,
          122,
          115.6,
          117.7,
          137.9,
          178.9,
          105.9,
          74.2,
          29.7,
          34,
          165.5,
          62.5,
          115.8,
          99.3,
          114.4,
          93,
          147.6,
          158.4,
          113.6,
          68.8,
          29.5,
          31.7,
          88.7,
          129.3,
          111.3,
          112.4,
          88.3,
          131.6,
          170.6,
          142.8,
          100.9,
          76.8,
          35.4,
          72.1,
          175.9,
          75.9,
          127.9,
          118,
          104.2,
          115.7,
          142.3,
          157.3,
          109.4,
          80,
          33,
          31.1,
          111.3,
          81.2,
          126.3,
          143,
          150.8,
          121.2,
          176.9,
          181.3,
          143.2,
          90.4,
          40.6,
          40.2,
          120.3,
          60.9,
          104.5,
          134.4,
          123.3,
          133.8,
          189.2,
          195.9,
          111.4,
          87,
          43,
          51.5,
          103.4,
          56.1,
          100.4,
          121.2,
          112,
          122,
          206.1,
          182.8,
          93.5,
          73.1,
          37.9,
          38.4,
          109.9,
          51.4,
          81.2,
          160.7,
          93,
          145.2,
          180.7,
          181.2,
          101.8,
          74.6,
          38.6,
          35.9,
          105.1,
          54.2,
          88.2,
          120.2,
          118.7,
          128.4,
          183,
          197.7,
          109.8,
          80.8,
          40.7,
          41.1,
          103.5,
          48.7,
          79.9,
          87.2,
          106.1,
          110.1,
          187.5,
          192,
          106.2,
          71.6,
          41.3,
          38.8,
          105.9,
          54,
          67.1,
          107,
          90.4,
          141.8,
          177.1,
          193,
          103.1,
          72.2,
          41,
          40.6,
          99.8,
          59.2,
          70.4,
          93.7,
          110.6,
          117.9,
          180.7,
          201.6,
          110.1,
          75,
          39.6,
          41.5,
          100.1,
          59.5,
          86.4,
          96.5,
          127.6,
          112.5,
          194.2,
          202.7,
          120.4,
          75.7,
          35.2,
          39,
          115.3,
          53.2,
          77.1,
          141.2,
          108.8,
          149.1,
          186.3,
          191.5,
          107.9,
          75.9,
          36.5,
          59.4,
          132,
          53.6,
          90.1,
          121.3,
          135.6,
          135,
          195.2,
          193.9,
          122.6,
          87.3,
          41.4,
          56.7,
          114.5,
          62.3,
          102.6,
          136.7,
          106.7,
          162.5,
          190.2,
          192.4,
          121.2,
          84.1,
          46.5,
          43.4,
          112.8,
          65.1,
          68.1,
          80.4,
          79.6,
          153.3,
          192.4,
          212.6,
          148,
          100.2,
          34.5,
          33.8,
          106.7,
          46.2,
          71,
          61.7,
          79.7,
          147.8,
          202.9,
          208.3,
          151.2,
          102.6,
          55,
          49.2,
          105,
          57.6,
          85.3,
          124.3,
          132.7,
          166.1,
          204.5,
          198.7,
          140,
          99.8,
          63.1,
          50.1,
          117.8,
          58.4,
          85.4,
          115.7,
          134.6,
          158.9,
          191.7,
          189.4,
          146.8,
          96.1,
          45.3,
          47.2
         ],
         "yaxis": "y"
        },
        {
         "hovertemplate": "<b>OLS trendline</b><br>Revenue = 4.10864e-08 * Date + 48.5779<br>R<sup>2</sup>=0.061667<br><br>Date=%{x}<br>Revenue=%{y} <b>(trend)</b><extra></extra>",
         "legendgroup": "",
         "marker": {
          "color": "#636efa",
          "symbol": "circle"
         },
         "mode": "lines",
         "name": "",
         "showlegend": false,
         "type": "scatter",
         "x": [
          "1994-01-01T00:00:00",
          "1994-02-01T00:00:00",
          "1994-03-01T00:00:00",
          "1994-04-01T00:00:00",
          "1994-05-01T00:00:00",
          "1994-06-01T00:00:00",
          "1994-07-01T00:00:00",
          "1994-08-01T00:00:00",
          "1994-09-01T00:00:00",
          "1994-10-01T00:00:00",
          "1994-11-01T00:00:00",
          "1994-12-01T00:00:00",
          "1995-01-01T00:00:00",
          "1995-02-01T00:00:00",
          "1995-03-01T00:00:00",
          "1995-04-01T00:00:00",
          "1995-05-01T00:00:00",
          "1995-06-01T00:00:00",
          "1995-07-01T00:00:00",
          "1995-08-01T00:00:00",
          "1995-09-01T00:00:00",
          "1995-10-01T00:00:00",
          "1995-11-01T00:00:00",
          "1995-12-01T00:00:00",
          "1996-01-01T00:00:00",
          "1996-02-01T00:00:00",
          "1996-03-01T00:00:00",
          "1996-04-01T00:00:00",
          "1996-05-01T00:00:00",
          "1996-06-01T00:00:00",
          "1996-07-01T00:00:00",
          "1996-08-01T00:00:00",
          "1996-09-01T00:00:00",
          "1996-10-01T00:00:00",
          "1996-11-01T00:00:00",
          "1996-12-01T00:00:00",
          "1997-01-01T00:00:00",
          "1997-02-01T00:00:00",
          "1997-03-01T00:00:00",
          "1997-04-01T00:00:00",
          "1997-05-01T00:00:00",
          "1997-06-01T00:00:00",
          "1997-07-01T00:00:00",
          "1997-08-01T00:00:00",
          "1997-09-01T00:00:00",
          "1997-10-01T00:00:00",
          "1997-11-01T00:00:00",
          "1997-12-01T00:00:00",
          "1998-01-01T00:00:00",
          "1998-02-01T00:00:00",
          "1998-03-01T00:00:00",
          "1998-04-01T00:00:00",
          "1998-05-01T00:00:00",
          "1998-06-01T00:00:00",
          "1998-07-01T00:00:00",
          "1998-08-01T00:00:00",
          "1998-09-01T00:00:00",
          "1998-10-01T00:00:00",
          "1998-11-01T00:00:00",
          "1998-12-01T00:00:00",
          "1999-01-01T00:00:00",
          "1999-02-01T00:00:00",
          "1999-03-01T00:00:00",
          "1999-04-01T00:00:00",
          "1999-05-01T00:00:00",
          "1999-06-01T00:00:00",
          "1999-07-01T00:00:00",
          "1999-08-01T00:00:00",
          "1999-09-01T00:00:00",
          "1999-10-01T00:00:00",
          "1999-11-01T00:00:00",
          "1999-12-01T00:00:00",
          "2000-01-01T00:00:00",
          "2000-02-01T00:00:00",
          "2000-03-01T00:00:00",
          "2000-04-01T00:00:00",
          "2000-05-01T00:00:00",
          "2000-06-01T00:00:00",
          "2000-07-01T00:00:00",
          "2000-08-01T00:00:00",
          "2000-09-01T00:00:00",
          "2000-10-01T00:00:00",
          "2000-11-01T00:00:00",
          "2000-12-01T00:00:00",
          "2001-01-01T00:00:00",
          "2001-02-01T00:00:00",
          "2001-03-01T00:00:00",
          "2001-04-01T00:00:00",
          "2001-05-01T00:00:00",
          "2001-06-01T00:00:00",
          "2001-07-01T00:00:00",
          "2001-08-01T00:00:00",
          "2001-09-01T00:00:00",
          "2001-10-01T00:00:00",
          "2001-11-01T00:00:00",
          "2001-12-01T00:00:00",
          "2002-01-01T00:00:00",
          "2002-02-01T00:00:00",
          "2002-03-01T00:00:00",
          "2002-04-01T00:00:00",
          "2002-05-01T00:00:00",
          "2002-06-01T00:00:00",
          "2002-07-01T00:00:00",
          "2002-08-01T00:00:00",
          "2002-09-01T00:00:00",
          "2002-10-01T00:00:00",
          "2002-11-01T00:00:00",
          "2002-12-01T00:00:00",
          "2003-01-01T00:00:00",
          "2003-02-01T00:00:00",
          "2003-03-01T00:00:00",
          "2003-04-01T00:00:00",
          "2003-05-01T00:00:00",
          "2003-06-01T00:00:00",
          "2003-07-01T00:00:00",
          "2003-08-01T00:00:00",
          "2003-09-01T00:00:00",
          "2003-10-01T00:00:00",
          "2003-11-01T00:00:00",
          "2003-12-01T00:00:00",
          "2004-01-01T00:00:00",
          "2004-02-01T00:00:00",
          "2004-03-01T00:00:00",
          "2004-04-01T00:00:00",
          "2004-05-01T00:00:00",
          "2004-06-01T00:00:00",
          "2004-07-01T00:00:00",
          "2004-08-01T00:00:00",
          "2004-09-01T00:00:00",
          "2004-10-01T00:00:00",
          "2004-11-01T00:00:00",
          "2004-12-01T00:00:00",
          "2005-01-01T00:00:00",
          "2005-02-01T00:00:00",
          "2005-03-01T00:00:00",
          "2005-04-01T00:00:00",
          "2005-05-01T00:00:00",
          "2005-06-01T00:00:00",
          "2005-07-01T00:00:00",
          "2005-08-01T00:00:00",
          "2005-09-01T00:00:00",
          "2005-10-01T00:00:00",
          "2005-11-01T00:00:00",
          "2005-12-01T00:00:00",
          "2006-01-01T00:00:00",
          "2006-02-01T00:00:00",
          "2006-03-01T00:00:00",
          "2006-04-01T00:00:00",
          "2006-05-01T00:00:00",
          "2006-06-01T00:00:00",
          "2006-07-01T00:00:00",
          "2006-08-01T00:00:00",
          "2006-09-01T00:00:00",
          "2006-10-01T00:00:00",
          "2006-11-01T00:00:00",
          "2006-12-01T00:00:00",
          "2007-01-01T00:00:00",
          "2007-02-01T00:00:00",
          "2007-03-01T00:00:00",
          "2007-04-01T00:00:00",
          "2007-05-01T00:00:00",
          "2007-06-01T00:00:00",
          "2007-07-01T00:00:00",
          "2007-08-01T00:00:00",
          "2007-09-01T00:00:00",
          "2007-10-01T00:00:00",
          "2007-11-01T00:00:00",
          "2007-12-01T00:00:00",
          "2008-01-01T00:00:00",
          "2008-02-01T00:00:00",
          "2008-03-01T00:00:00",
          "2008-04-01T00:00:00",
          "2008-05-01T00:00:00",
          "2008-06-01T00:00:00",
          "2008-07-01T00:00:00",
          "2008-08-01T00:00:00",
          "2008-09-01T00:00:00",
          "2008-10-01T00:00:00",
          "2008-11-01T00:00:00",
          "2008-12-01T00:00:00",
          "2009-01-01T00:00:00",
          "2009-02-01T00:00:00",
          "2009-03-01T00:00:00",
          "2009-04-01T00:00:00",
          "2009-05-01T00:00:00",
          "2009-06-01T00:00:00",
          "2009-07-01T00:00:00",
          "2009-08-01T00:00:00",
          "2009-09-01T00:00:00",
          "2009-10-01T00:00:00",
          "2009-11-01T00:00:00",
          "2009-12-01T00:00:00",
          "2010-01-01T00:00:00",
          "2010-02-01T00:00:00",
          "2010-03-01T00:00:00",
          "2010-04-01T00:00:00",
          "2010-05-01T00:00:00",
          "2010-06-01T00:00:00",
          "2010-07-01T00:00:00",
          "2010-08-01T00:00:00",
          "2010-09-01T00:00:00",
          "2010-10-01T00:00:00",
          "2010-11-01T00:00:00",
          "2010-12-01T00:00:00",
          "2011-01-01T00:00:00",
          "2011-02-01T00:00:00",
          "2011-03-01T00:00:00",
          "2011-04-01T00:00:00",
          "2011-05-01T00:00:00",
          "2011-06-01T00:00:00",
          "2011-07-01T00:00:00",
          "2011-08-01T00:00:00",
          "2011-09-01T00:00:00",
          "2011-10-01T00:00:00",
          "2011-11-01T00:00:00",
          "2011-12-01T00:00:00",
          "2012-01-01T00:00:00",
          "2012-02-01T00:00:00",
          "2012-03-01T00:00:00",
          "2012-04-01T00:00:00",
          "2012-05-01T00:00:00",
          "2012-06-01T00:00:00",
          "2012-07-01T00:00:00",
          "2012-08-01T00:00:00",
          "2012-09-01T00:00:00",
          "2012-10-01T00:00:00",
          "2012-11-01T00:00:00",
          "2012-12-01T00:00:00",
          "2013-01-01T00:00:00",
          "2013-02-01T00:00:00",
          "2013-03-01T00:00:00",
          "2013-04-01T00:00:00",
          "2013-05-01T00:00:00",
          "2013-06-01T00:00:00",
          "2013-07-01T00:00:00",
          "2013-08-01T00:00:00",
          "2013-09-01T00:00:00",
          "2013-10-01T00:00:00",
          "2013-11-01T00:00:00",
          "2013-12-01T00:00:00",
          "2014-01-01T00:00:00",
          "2014-02-01T00:00:00",
          "2014-03-01T00:00:00",
          "2014-04-01T00:00:00",
          "2014-05-01T00:00:00",
          "2014-06-01T00:00:00",
          "2014-07-01T00:00:00",
          "2014-08-01T00:00:00",
          "2014-09-01T00:00:00",
          "2014-10-01T00:00:00",
          "2014-11-01T00:00:00",
          "2014-12-01T00:00:00",
          "2015-01-01T00:00:00",
          "2015-02-01T00:00:00",
          "2015-03-01T00:00:00",
          "2015-04-01T00:00:00",
          "2015-05-01T00:00:00",
          "2015-06-01T00:00:00",
          "2015-07-01T00:00:00",
          "2015-08-01T00:00:00",
          "2015-09-01T00:00:00",
          "2015-10-01T00:00:00",
          "2015-11-01T00:00:00",
          "2015-12-01T00:00:00",
          "2016-01-01T00:00:00",
          "2016-02-01T00:00:00",
          "2016-03-01T00:00:00",
          "2016-04-01T00:00:00",
          "2016-05-01T00:00:00",
          "2016-06-01T00:00:00",
          "2016-07-01T00:00:00",
          "2016-08-01T00:00:00",
          "2016-09-01T00:00:00",
          "2016-10-01T00:00:00",
          "2016-11-01T00:00:00",
          "2016-12-01T00:00:00",
          "2017-01-01T00:00:00",
          "2017-02-01T00:00:00",
          "2017-03-01T00:00:00",
          "2017-04-01T00:00:00",
          "2017-05-01T00:00:00",
          "2017-06-01T00:00:00",
          "2017-07-01T00:00:00",
          "2017-08-01T00:00:00",
          "2017-09-01T00:00:00",
          "2017-10-01T00:00:00",
          "2017-11-01T00:00:00",
          "2017-12-01T00:00:00",
          "2018-01-01T00:00:00",
          "2018-02-01T00:00:00",
          "2018-03-01T00:00:00",
          "2018-04-01T00:00:00",
          "2018-05-01T00:00:00",
          "2018-06-01T00:00:00",
          "2018-07-01T00:00:00",
          "2018-08-01T00:00:00",
          "2018-09-01T00:00:00",
          "2018-10-01T00:00:00",
          "2018-11-01T00:00:00",
          "2018-12-01T00:00:00",
          "2019-01-01T00:00:00",
          "2019-02-01T00:00:00",
          "2019-03-01T00:00:00",
          "2019-04-01T00:00:00",
          "2019-05-01T00:00:00",
          "2019-06-01T00:00:00",
          "2019-07-01T00:00:00",
          "2019-08-01T00:00:00",
          "2019-09-01T00:00:00",
          "2019-10-01T00:00:00",
          "2019-11-01T00:00:00",
          "2019-12-01T00:00:00",
          "2020-01-01T00:00:00",
          "2020-02-01T00:00:00",
          "2020-03-01T00:00:00",
          "2020-04-01T00:00:00",
          "2020-05-01T00:00:00",
          "2020-06-01T00:00:00",
          "2020-07-01T00:00:00",
          "2020-08-01T00:00:00",
          "2020-09-01T00:00:00",
          "2020-10-01T00:00:00",
          "2020-11-01T00:00:00",
          "2020-12-01T00:00:00",
          "2021-01-01T00:00:00",
          "2021-02-01T00:00:00",
          "2021-03-01T00:00:00",
          "2021-04-01T00:00:00",
          "2021-05-01T00:00:00",
          "2021-06-01T00:00:00",
          "2021-07-01T00:00:00",
          "2021-08-01T00:00:00",
          "2021-09-01T00:00:00",
          "2021-10-01T00:00:00",
          "2021-11-01T00:00:00",
          "2021-12-01T00:00:00",
          "2022-01-01T00:00:00",
          "2022-02-01T00:00:00",
          "2022-03-01T00:00:00",
          "2022-04-01T00:00:00",
          "2022-05-01T00:00:00",
          "2022-06-01T00:00:00",
          "2022-07-01T00:00:00",
          "2022-08-01T00:00:00",
          "2022-09-01T00:00:00",
          "2022-10-01T00:00:00",
          "2022-11-01T00:00:00",
          "2022-12-01T00:00:00",
          "2023-01-01T00:00:00",
          "2023-02-01T00:00:00",
          "2023-03-01T00:00:00",
          "2023-04-01T00:00:00",
          "2023-05-01T00:00:00",
          "2023-06-01T00:00:00",
          "2023-07-01T00:00:00",
          "2023-08-01T00:00:00",
          "2023-09-01T00:00:00",
          "2023-10-01T00:00:00",
          "2023-11-01T00:00:00",
          "2023-12-01T00:00:00"
         ],
         "xaxis": "x",
         "y": [
          79.69596014440934,
          79.80600590163557,
          79.90540206945282,
          80.01544782667905,
          80.12194372076895,
          80.23198947799519,
          80.33848537208509,
          80.44853112931132,
          80.55857688653755,
          80.66507278062745,
          80.77511853785369,
          80.88161443194359,
          80.99166018916983,
          81.10170594639607,
          81.2011021142133,
          81.31114787143953,
          81.41764376552943,
          81.52768952275568,
          81.63418541684558,
          81.74423117407181,
          81.85427693129805,
          81.96077282538795,
          82.07081858261418,
          82.17731447670408,
          82.28736023393031,
          82.39740599115655,
          82.50035202211012,
          82.61039777933635,
          82.71689367342626,
          82.82693943065249,
          82.93343532474239,
          83.04348108196862,
          83.15352683919485,
          83.26002273328476,
          83.37006849051099,
          83.47656438460089,
          83.58661014182712,
          83.69665589905335,
          83.7960520668706,
          83.90609782409683,
          84.01259371818674,
          84.12263947541297,
          84.22913536950287,
          84.3391811267291,
          84.44922688395533,
          84.55572277804524,
          84.66576853527147,
          84.77226442936137,
          84.8823101865876,
          84.99235594381383,
          85.09175211163108,
          85.20179786885731,
          85.30829376294722,
          85.41833952017345,
          85.52483541426335,
          85.63488117148958,
          85.74492692871581,
          85.85142282280572,
          85.96146858003195,
          86.06796447412185,
          86.1780102313481,
          86.28805598857433,
          86.38745215639156,
          86.49749791361779,
          86.6039938077077,
          86.71403956493394,
          86.82053545902384,
          86.93058121625008,
          87.04062697347631,
          87.14712286756621,
          87.25716862479244,
          87.36366451888235,
          87.47371027610858,
          87.58375603333482,
          87.68670206428838,
          87.79674782151461,
          87.90324371560452,
          88.01328947283076,
          88.11978536692067,
          88.2298311241469,
          88.33987688137313,
          88.44637277546303,
          88.55641853268926,
          88.66291442677917,
          88.7729601840054,
          88.88300594123163,
          88.98240210904888,
          89.09244786627511,
          89.19894376036501,
          89.30898951759124,
          89.41548541168115,
          89.52553116890738,
          89.63557692613361,
          89.74207282022351,
          89.85211857744974,
          89.95861447153965,
          90.06866022876588,
          90.17870598599211,
          90.27810215380936,
          90.38814791103559,
          90.49464380512549,
          90.60468956235172,
          90.71118545644163,
          90.82123121366786,
          90.93127697089409,
          91.03777286498399,
          91.14781862221022,
          91.25431451630013,
          91.36436027352636,
          91.47440603075259,
          91.57380219856984,
          91.68384795579607,
          91.79034384988597,
          91.9003896071122,
          92.0068855012021,
          92.11693125842834,
          92.22697701565457,
          92.33347290974447,
          92.4435186669707,
          92.5500145610606,
          92.66006031828684,
          92.77010607551308,
          92.87305210646664,
          92.98309786369288,
          93.08959375778278,
          93.19963951500903,
          93.30613540909893,
          93.41618116632516,
          93.52622692355139,
          93.6327228176413,
          93.74276857486753,
          93.84926446895743,
          93.95931022618366,
          94.06935598340989,
          94.16875215122714,
          94.27879790845337,
          94.38529380254327,
          94.4953395597695,
          94.60183545385941,
          94.71188121108564,
          94.82192696831189,
          94.92842286240179,
          95.03846861962802,
          95.14496451371792,
          95.25501027094415,
          95.36505602817039,
          95.46445219598763,
          95.57449795321386,
          95.68099384730377,
          95.79103960453,
          95.8975354986199,
          96.00758125584613,
          96.11762701307237,
          96.22412290716227,
          96.3341686643885,
          96.4406645584784,
          96.55071031570463,
          96.66075607293087,
          96.76015224074811,
          96.87019799797434,
          96.97669389206425,
          97.08673964929048,
          97.19323554338038,
          97.30328130060661,
          97.41332705783284,
          97.51982295192275,
          97.62986870914898,
          97.73636460323888,
          97.84641036046511,
          97.95645611769135,
          98.05940214864492,
          98.16944790587115,
          98.27594379996106,
          98.38598955718729,
          98.49248545127719,
          98.60253120850342,
          98.71257696572965,
          98.81907285981956,
          98.92911861704579,
          99.03561451113569,
          99.14566026836192,
          99.25570602558815,
          99.3551021934054,
          99.46514795063163,
          99.57164384472154,
          99.68168960194777,
          99.78818549603767,
          99.8982312532639,
          100.00827701049015,
          100.11477290458005,
          100.22481866180628,
          100.33131455589618,
          100.44136031312242,
          100.55140607034865,
          100.6508022381659,
          100.76084799539213,
          100.86734388948203,
          100.97738964670826,
          101.08388554079816,
          101.1939312980244,
          101.30397705525063,
          101.41047294934053,
          101.52051870656676,
          101.62701460065666,
          101.73706035788291,
          101.84710611510914,
          101.94650228292637,
          102.0565480401526,
          102.16304393424251,
          102.27308969146875,
          102.37958558555866,
          102.48963134278489,
          102.59967710001112,
          102.70617299410102,
          102.81621875132726,
          102.92271464541716,
          103.03276040264339,
          103.14280615986962,
          103.2457521908232,
          103.35579794804943,
          103.46229384213933,
          103.57233959936556,
          103.67883549345547,
          103.7888812506817,
          103.89892700790793,
          104.00542290199783,
          104.11546865922406,
          104.22196455331397,
          104.3320103105402,
          104.44205606776643,
          104.54145223558368,
          104.65149799280991,
          104.75799388689981,
          104.86803964412604,
          104.97453553821595,
          105.08458129544218,
          105.19462705266841,
          105.30112294675831,
          105.41116870398454,
          105.51766459807445,
          105.62771035530068,
          105.73775611252691,
          105.83715228034416,
          105.94719803757039,
          106.05369393166029,
          106.16373968888652,
          106.27023558297643,
          106.38028134020266,
          106.49032709742889,
          106.59682299151879,
          106.70686874874502,
          106.81336464283493,
          106.92341040006117,
          107.0334561572874,
          107.13285232510464,
          107.24289808233087,
          107.34939397642077,
          107.45943973364702,
          107.56593562773692,
          107.67598138496315,
          107.78602714218938,
          107.89252303627929,
          108.00256879350552,
          108.10906468759542,
          108.21911044482165,
          108.3291562020479,
          108.43210223300146,
          108.54214799022769,
          108.6486438843176,
          108.75868964154384,
          108.86518553563374,
          108.97523129285997,
          109.0852770500862,
          109.19177294417611,
          109.30181870140234,
          109.40831459549224,
          109.51836035271847,
          109.6284061099447,
          109.72780227776195,
          109.83784803498818,
          109.94434392907809,
          110.05438968630432,
          110.16088558039422,
          110.27093133762045,
          110.38097709484668,
          110.48747298893659,
          110.59751874616282,
          110.70401464025272,
          110.81406039747895,
          110.92410615470519,
          111.02350232252243,
          111.13354807974866,
          111.24004397383857,
          111.3500897310648,
          111.4565856251547,
          111.56663138238093,
          111.67667713960716,
          111.78317303369707,
          111.8932187909233,
          111.9997146850132,
          112.10976044223943,
          112.21980619946567,
          112.31920236728291,
          112.42924812450914,
          112.53574401859905,
          112.64578977582528,
          112.75228566991518,
          112.86233142714141,
          112.97237718436764,
          113.07887307845755,
          113.1889188356838,
          113.2954147297737,
          113.40546048699993,
          113.51550624422616,
          113.61845227517973,
          113.72849803240597,
          113.83499392649587,
          113.9450396837221,
          114.051535577812,
          114.16158133503824,
          114.27162709226447,
          114.37812298635437,
          114.4881687435806,
          114.5946646376705,
          114.70471039489674,
          114.81475615212297,
          114.91415231994021,
          115.02419807716645,
          115.13069397125635,
          115.24073972848258,
          115.34723562257248,
          115.45728137979872,
          115.56732713702495,
          115.67382303111485,
          115.78386878834108,
          115.89036468243098,
          116.00041043965722,
          116.11045619688346,
          116.2098523647007,
          116.31989812192693,
          116.42639401601683,
          116.53643977324306,
          116.64293566733296,
          116.75298142455921,
          116.86302718178544,
          116.96952307587534,
          117.07956883310158,
          117.18606472719148,
          117.29611048441771,
          117.40615624164394,
          117.50555240946119,
          117.61559816668742,
          117.72209406077732,
          117.83213981800355,
          117.93863571209346,
          118.04868146931969,
          118.15872722654592,
          118.26522312063582,
          118.37526887786206,
          118.48176477195196
         ],
         "yaxis": "y"
        }
       ],
       "layout": {
        "legend": {
         "tracegroupgap": 0
        },
        "margin": {
         "t": 60
        },
        "template": {
         "data": {
          "bar": [
           {
            "error_x": {
             "color": "#2a3f5f"
            },
            "error_y": {
             "color": "#2a3f5f"
            },
            "marker": {
             "line": {
              "color": "#E5ECF6",
              "width": 0.5
             },
             "pattern": {
              "fillmode": "overlay",
              "size": 10,
              "solidity": 0.2
             }
            },
            "type": "bar"
           }
          ],
          "barpolar": [
           {
            "marker": {
             "line": {
              "color": "#E5ECF6",
              "width": 0.5
             },
             "pattern": {
              "fillmode": "overlay",
              "size": 10,
              "solidity": 0.2
             }
            },
            "type": "barpolar"
           }
          ],
          "carpet": [
           {
            "aaxis": {
             "endlinecolor": "#2a3f5f",
             "gridcolor": "white",
             "linecolor": "white",
             "minorgridcolor": "white",
             "startlinecolor": "#2a3f5f"
            },
            "baxis": {
             "endlinecolor": "#2a3f5f",
             "gridcolor": "white",
             "linecolor": "white",
             "minorgridcolor": "white",
             "startlinecolor": "#2a3f5f"
            },
            "type": "carpet"
           }
          ],
          "choropleth": [
           {
            "colorbar": {
             "outlinewidth": 0,
             "ticks": ""
            },
            "type": "choropleth"
           }
          ],
          "contour": [
           {
            "colorbar": {
             "outlinewidth": 0,
             "ticks": ""
            },
            "colorscale": [
             [
              0,
              "#0d0887"
             ],
             [
              0.1111111111111111,
              "#46039f"
             ],
             [
              0.2222222222222222,
              "#7201a8"
             ],
             [
              0.3333333333333333,
              "#9c179e"
             ],
             [
              0.4444444444444444,
              "#bd3786"
             ],
             [
              0.5555555555555556,
              "#d8576b"
             ],
             [
              0.6666666666666666,
              "#ed7953"
             ],
             [
              0.7777777777777778,
              "#fb9f3a"
             ],
             [
              0.8888888888888888,
              "#fdca26"
             ],
             [
              1,
              "#f0f921"
             ]
            ],
            "type": "contour"
           }
          ],
          "contourcarpet": [
           {
            "colorbar": {
             "outlinewidth": 0,
             "ticks": ""
            },
            "type": "contourcarpet"
           }
          ],
          "heatmap": [
           {
            "colorbar": {
             "outlinewidth": 0,
             "ticks": ""
            },
            "colorscale": [
             [
              0,
              "#0d0887"
             ],
             [
              0.1111111111111111,
              "#46039f"
             ],
             [
              0.2222222222222222,
              "#7201a8"
             ],
             [
              0.3333333333333333,
              "#9c179e"
             ],
             [
              0.4444444444444444,
              "#bd3786"
             ],
             [
              0.5555555555555556,
              "#d8576b"
             ],
             [
              0.6666666666666666,
              "#ed7953"
             ],
             [
              0.7777777777777778,
              "#fb9f3a"
             ],
             [
              0.8888888888888888,
              "#fdca26"
             ],
             [
              1,
              "#f0f921"
             ]
            ],
            "type": "heatmap"
           }
          ],
          "heatmapgl": [
           {
            "colorbar": {
             "outlinewidth": 0,
             "ticks": ""
            },
            "colorscale": [
             [
              0,
              "#0d0887"
             ],
             [
              0.1111111111111111,
              "#46039f"
             ],
             [
              0.2222222222222222,
              "#7201a8"
             ],
             [
              0.3333333333333333,
              "#9c179e"
             ],
             [
              0.4444444444444444,
              "#bd3786"
             ],
             [
              0.5555555555555556,
              "#d8576b"
             ],
             [
              0.6666666666666666,
              "#ed7953"
             ],
             [
              0.7777777777777778,
              "#fb9f3a"
             ],
             [
              0.8888888888888888,
              "#fdca26"
             ],
             [
              1,
              "#f0f921"
             ]
            ],
            "type": "heatmapgl"
           }
          ],
          "histogram": [
           {
            "marker": {
             "pattern": {
              "fillmode": "overlay",
              "size": 10,
              "solidity": 0.2
             }
            },
            "type": "histogram"
           }
          ],
          "histogram2d": [
           {
            "colorbar": {
             "outlinewidth": 0,
             "ticks": ""
            },
            "colorscale": [
             [
              0,
              "#0d0887"
             ],
             [
              0.1111111111111111,
              "#46039f"
             ],
             [
              0.2222222222222222,
              "#7201a8"
             ],
             [
              0.3333333333333333,
              "#9c179e"
             ],
             [
              0.4444444444444444,
              "#bd3786"
             ],
             [
              0.5555555555555556,
              "#d8576b"
             ],
             [
              0.6666666666666666,
              "#ed7953"
             ],
             [
              0.7777777777777778,
              "#fb9f3a"
             ],
             [
              0.8888888888888888,
              "#fdca26"
             ],
             [
              1,
              "#f0f921"
             ]
            ],
            "type": "histogram2d"
           }
          ],
          "histogram2dcontour": [
           {
            "colorbar": {
             "outlinewidth": 0,
             "ticks": ""
            },
            "colorscale": [
             [
              0,
              "#0d0887"
             ],
             [
              0.1111111111111111,
              "#46039f"
             ],
             [
              0.2222222222222222,
              "#7201a8"
             ],
             [
              0.3333333333333333,
              "#9c179e"
             ],
             [
              0.4444444444444444,
              "#bd3786"
             ],
             [
              0.5555555555555556,
              "#d8576b"
             ],
             [
              0.6666666666666666,
              "#ed7953"
             ],
             [
              0.7777777777777778,
              "#fb9f3a"
             ],
             [
              0.8888888888888888,
              "#fdca26"
             ],
             [
              1,
              "#f0f921"
             ]
            ],
            "type": "histogram2dcontour"
           }
          ],
          "mesh3d": [
           {
            "colorbar": {
             "outlinewidth": 0,
             "ticks": ""
            },
            "type": "mesh3d"
           }
          ],
          "parcoords": [
           {
            "line": {
             "colorbar": {
              "outlinewidth": 0,
              "ticks": ""
             }
            },
            "type": "parcoords"
           }
          ],
          "pie": [
           {
            "automargin": true,
            "type": "pie"
           }
          ],
          "scatter": [
           {
            "fillpattern": {
             "fillmode": "overlay",
             "size": 10,
             "solidity": 0.2
            },
            "type": "scatter"
           }
          ],
          "scatter3d": [
           {
            "line": {
             "colorbar": {
              "outlinewidth": 0,
              "ticks": ""
             }
            },
            "marker": {
             "colorbar": {
              "outlinewidth": 0,
              "ticks": ""
             }
            },
            "type": "scatter3d"
           }
          ],
          "scattercarpet": [
           {
            "marker": {
             "colorbar": {
              "outlinewidth": 0,
              "ticks": ""
             }
            },
            "type": "scattercarpet"
           }
          ],
          "scattergeo": [
           {
            "marker": {
             "colorbar": {
              "outlinewidth": 0,
              "ticks": ""
             }
            },
            "type": "scattergeo"
           }
          ],
          "scattergl": [
           {
            "marker": {
             "colorbar": {
              "outlinewidth": 0,
              "ticks": ""
             }
            },
            "type": "scattergl"
           }
          ],
          "scattermapbox": [
           {
            "marker": {
             "colorbar": {
              "outlinewidth": 0,
              "ticks": ""
             }
            },
            "type": "scattermapbox"
           }
          ],
          "scatterpolar": [
           {
            "marker": {
             "colorbar": {
              "outlinewidth": 0,
              "ticks": ""
             }
            },
            "type": "scatterpolar"
           }
          ],
          "scatterpolargl": [
           {
            "marker": {
             "colorbar": {
              "outlinewidth": 0,
              "ticks": ""
             }
            },
            "type": "scatterpolargl"
           }
          ],
          "scatterternary": [
           {
            "marker": {
             "colorbar": {
              "outlinewidth": 0,
              "ticks": ""
             }
            },
            "type": "scatterternary"
           }
          ],
          "surface": [
           {
            "colorbar": {
             "outlinewidth": 0,
             "ticks": ""
            },
            "colorscale": [
             [
              0,
              "#0d0887"
             ],
             [
              0.1111111111111111,
              "#46039f"
             ],
             [
              0.2222222222222222,
              "#7201a8"
             ],
             [
              0.3333333333333333,
              "#9c179e"
             ],
             [
              0.4444444444444444,
              "#bd3786"
             ],
             [
              0.5555555555555556,
              "#d8576b"
             ],
             [
              0.6666666666666666,
              "#ed7953"
             ],
             [
              0.7777777777777778,
              "#fb9f3a"
             ],
             [
              0.8888888888888888,
              "#fdca26"
             ],
             [
              1,
              "#f0f921"
             ]
            ],
            "type": "surface"
           }
          ],
          "table": [
           {
            "cells": {
             "fill": {
              "color": "#EBF0F8"
             },
             "line": {
              "color": "white"
             }
            },
            "header": {
             "fill": {
              "color": "#C8D4E3"
             },
             "line": {
              "color": "white"
             }
            },
            "type": "table"
           }
          ]
         },
         "layout": {
          "annotationdefaults": {
           "arrowcolor": "#2a3f5f",
           "arrowhead": 0,
           "arrowwidth": 1
          },
          "autotypenumbers": "strict",
          "coloraxis": {
           "colorbar": {
            "outlinewidth": 0,
            "ticks": ""
           }
          },
          "colorscale": {
           "diverging": [
            [
             0,
             "#8e0152"
            ],
            [
             0.1,
             "#c51b7d"
            ],
            [
             0.2,
             "#de77ae"
            ],
            [
             0.3,
             "#f1b6da"
            ],
            [
             0.4,
             "#fde0ef"
            ],
            [
             0.5,
             "#f7f7f7"
            ],
            [
             0.6,
             "#e6f5d0"
            ],
            [
             0.7,
             "#b8e186"
            ],
            [
             0.8,
             "#7fbc41"
            ],
            [
             0.9,
             "#4d9221"
            ],
            [
             1,
             "#276419"
            ]
           ],
           "sequential": [
            [
             0,
             "#0d0887"
            ],
            [
             0.1111111111111111,
             "#46039f"
            ],
            [
             0.2222222222222222,
             "#7201a8"
            ],
            [
             0.3333333333333333,
             "#9c179e"
            ],
            [
             0.4444444444444444,
             "#bd3786"
            ],
            [
             0.5555555555555556,
             "#d8576b"
            ],
            [
             0.6666666666666666,
             "#ed7953"
            ],
            [
             0.7777777777777778,
             "#fb9f3a"
            ],
            [
             0.8888888888888888,
             "#fdca26"
            ],
            [
             1,
             "#f0f921"
            ]
           ],
           "sequentialminus": [
            [
             0,
             "#0d0887"
            ],
            [
             0.1111111111111111,
             "#46039f"
            ],
            [
             0.2222222222222222,
             "#7201a8"
            ],
            [
             0.3333333333333333,
             "#9c179e"
            ],
            [
             0.4444444444444444,
             "#bd3786"
            ],
            [
             0.5555555555555556,
             "#d8576b"
            ],
            [
             0.6666666666666666,
             "#ed7953"
            ],
            [
             0.7777777777777778,
             "#fb9f3a"
            ],
            [
             0.8888888888888888,
             "#fdca26"
            ],
            [
             1,
             "#f0f921"
            ]
           ]
          },
          "colorway": [
           "#636efa",
           "#EF553B",
           "#00cc96",
           "#ab63fa",
           "#FFA15A",
           "#19d3f3",
           "#FF6692",
           "#B6E880",
           "#FF97FF",
           "#FECB52"
          ],
          "font": {
           "color": "#2a3f5f"
          },
          "geo": {
           "bgcolor": "white",
           "lakecolor": "white",
           "landcolor": "#E5ECF6",
           "showlakes": true,
           "showland": true,
           "subunitcolor": "white"
          },
          "hoverlabel": {
           "align": "left"
          },
          "hovermode": "closest",
          "mapbox": {
           "style": "light"
          },
          "paper_bgcolor": "white",
          "plot_bgcolor": "#E5ECF6",
          "polar": {
           "angularaxis": {
            "gridcolor": "white",
            "linecolor": "white",
            "ticks": ""
           },
           "bgcolor": "#E5ECF6",
           "radialaxis": {
            "gridcolor": "white",
            "linecolor": "white",
            "ticks": ""
           }
          },
          "scene": {
           "xaxis": {
            "backgroundcolor": "#E5ECF6",
            "gridcolor": "white",
            "gridwidth": 2,
            "linecolor": "white",
            "showbackground": true,
            "ticks": "",
            "zerolinecolor": "white"
           },
           "yaxis": {
            "backgroundcolor": "#E5ECF6",
            "gridcolor": "white",
            "gridwidth": 2,
            "linecolor": "white",
            "showbackground": true,
            "ticks": "",
            "zerolinecolor": "white"
           },
           "zaxis": {
            "backgroundcolor": "#E5ECF6",
            "gridcolor": "white",
            "gridwidth": 2,
            "linecolor": "white",
            "showbackground": true,
            "ticks": "",
            "zerolinecolor": "white"
           }
          },
          "shapedefaults": {
           "line": {
            "color": "#2a3f5f"
           }
          },
          "ternary": {
           "aaxis": {
            "gridcolor": "white",
            "linecolor": "white",
            "ticks": ""
           },
           "baxis": {
            "gridcolor": "white",
            "linecolor": "white",
            "ticks": ""
           },
           "bgcolor": "#E5ECF6",
           "caxis": {
            "gridcolor": "white",
            "linecolor": "white",
            "ticks": ""
           }
          },
          "title": {
           "x": 0.05
          },
          "xaxis": {
           "automargin": true,
           "gridcolor": "white",
           "linecolor": "white",
           "ticks": "",
           "title": {
            "standoff": 15
           },
           "zerolinecolor": "white",
           "zerolinewidth": 2
          },
          "yaxis": {
           "automargin": true,
           "gridcolor": "white",
           "linecolor": "white",
           "ticks": "",
           "title": {
            "standoff": 15
           },
           "zerolinecolor": "white",
           "zerolinewidth": 2
          }
         }
        },
        "xaxis": {
         "anchor": "y",
         "domain": [
          0,
          1
         ],
         "title": {
          "text": "Date"
         }
        },
        "yaxis": {
         "anchor": "x",
         "domain": [
          0,
          1
         ],
         "title": {
          "text": "Revenue"
         }
        }
       }
      }
     },
     "metadata": {},
     "output_type": "display_data"
    },
    {
     "data": {
      "application/vnd.plotly.v1+json": {
       "config": {
        "plotlyServerURL": "https://plot.ly"
       },
       "data": [
        {
         "hovertemplate": "variable=0<br>index=%{x}<br>value=%{y}<extra></extra>",
         "legendgroup": "0",
         "marker": {
          "color": "#636efa",
          "symbol": "circle"
         },
         "mode": "markers",
         "name": "0",
         "orientation": "v",
         "showlegend": true,
         "type": "scatter",
         "x": [
          0,
          1,
          2,
          3,
          4,
          5,
          6,
          7,
          8,
          9,
          10,
          11,
          12,
          13,
          14,
          15,
          16,
          17,
          18,
          19,
          20,
          21,
          22,
          23,
          24,
          25,
          26,
          27,
          28,
          29,
          30,
          31,
          32,
          33,
          34,
          35,
          36,
          37,
          38,
          39,
          40,
          41,
          42,
          43,
          44,
          45,
          46,
          47,
          48,
          49,
          50,
          51,
          52,
          53,
          54,
          55,
          56,
          57,
          58,
          59,
          60,
          61,
          62,
          63,
          64,
          65,
          66,
          67,
          68,
          69,
          70,
          71,
          72,
          73,
          74,
          75,
          76,
          77,
          78,
          79,
          80,
          81,
          82,
          83,
          84,
          85,
          86,
          87,
          88,
          89,
          90,
          91,
          92,
          93,
          94,
          95,
          96,
          97,
          98,
          99,
          100,
          101,
          102,
          103,
          104,
          105,
          106,
          107,
          108,
          109,
          110,
          111,
          112,
          113,
          114,
          115,
          116,
          117,
          118,
          119,
          120,
          121,
          122,
          123,
          124,
          125,
          126,
          127,
          128,
          129,
          130,
          131,
          132,
          133,
          134,
          135,
          136,
          137,
          138,
          139,
          140,
          141,
          142,
          143,
          144,
          145,
          146,
          147,
          148,
          149,
          150,
          151,
          152,
          153,
          154,
          155,
          156,
          157,
          158,
          159,
          160,
          161,
          162,
          163,
          164,
          165,
          166,
          167,
          168,
          169,
          170,
          171,
          172,
          173,
          174,
          175,
          176,
          177,
          178,
          179,
          180,
          181,
          182,
          183,
          184,
          185,
          186,
          187,
          188,
          189,
          190,
          191,
          192,
          193,
          194,
          195,
          196,
          197,
          198,
          199,
          200,
          201,
          202,
          203,
          204,
          205,
          206,
          207,
          208,
          209,
          210,
          211,
          212,
          213,
          214,
          215,
          216,
          217,
          218,
          219,
          220,
          221,
          222,
          223,
          224,
          225,
          226,
          227,
          228,
          229,
          230,
          231,
          232,
          233,
          234,
          235,
          236,
          237,
          238,
          239,
          240,
          241,
          242,
          243,
          244,
          245,
          246,
          247,
          248,
          249,
          250,
          251,
          252,
          253,
          254,
          255,
          256,
          257,
          258,
          259,
          260,
          261,
          262,
          263,
          264,
          265,
          266,
          267,
          268,
          269,
          270,
          271,
          272,
          273,
          274,
          275,
          276,
          277,
          278,
          279,
          280,
          281,
          282,
          283,
          284,
          285,
          286,
          287,
          288,
          289,
          290,
          291,
          292,
          293,
          294,
          295,
          296,
          297,
          298,
          299,
          300,
          301,
          302,
          303,
          304,
          305,
          306,
          307,
          308,
          309,
          310,
          311,
          312,
          313,
          314,
          315,
          316,
          317,
          318,
          319,
          320,
          321,
          322,
          323,
          324,
          325,
          326,
          327,
          328,
          329,
          330,
          331,
          332,
          333,
          334,
          335,
          336,
          337,
          338,
          339,
          340,
          341,
          342,
          343,
          344,
          345,
          346,
          347,
          348,
          349,
          350,
          351,
          352,
          353,
          354,
          355,
          356,
          357,
          358,
          359
         ],
         "xaxis": "x",
         "y": [
          -11.286563558017733,
          -27.594648316902195,
          1.8972669242133549,
          39.389182165328904,
          19.581097406444442,
          4.473012647559983,
          61.56492788867553,
          43.256843129791065,
          -16.95124162909338,
          -23.95932638797784,
          -45.967411146862304,
          -48.37549590574676,
          7.416419335368786,
          -29.59166542351568,
          -22.699750182400123,
          22.89216505871542,
          5.384080299830956,
          -0.7240044590535035,
          35.86791078206204,
          19.959826023177584,
          -24.348258735706864,
          -31.85634349459132,
          -46.46442825347578,
          -43.77251301236024,
          -5.5805977712446975,
          -20.188682530129157,
          -16.2967672890136,
          17.49514795210193,
          -3.4129368067825254,
          -6.621021565666979,
          23.770893675448562,
          17.56280891656411,
          -18.24527584232034,
          -28.0533606012048,
          -45.461445360089265,
          -44.569530118973724,
          -16.677614877858176,
          -25.585699636742625,
          -16.993784395627088,
          17.29813084548846,
          12.290046086603994,
          -16.118038672280463,
          17.573876568835075,
          29.665791809950633,
          -4.54229294893382,
          -28.550377707818285,
          -51.258462466702746,
          -41.0665472255872,
          -25.77463198447166,
          -18.982716743356107,
          -14.890801502240564,
          28.501113738874977,
          9.093028979990521,
          -16.415055778893944,
          7.376859462221603,
          18.16877470333715,
          -17.3393100555473,
          -35.347394814431766,
          -55.65547957331623,
          -49.163564332200686,
          -30.171649091085143,
          -26.27973384996959,
          -19.687818608854045,
          16.4040966322615,
          7.1960118733770315,
          -10.11207288550743,
          18.979842355608127,
          27.271757596723674,
          8.26367283783921,
          -14.744411921045241,
          -41.152496679929705,
          -45.260581438814164,
          -22.068666197698604,
          -19.676750956583064,
          -18.284835715467523,
          55.20707952564801,
          15.298994766763556,
          10.990910007879094,
          22.182825248994646,
          34.57474049011019,
          4.566655731225737,
          -13.64142902765873,
          -45.949513786543186,
          -48.25759854542765,
          -21.26568330431209,
          -31.073768063196553,
          -24.48185282208101,
          47.91006241903453,
          24.401977660150067,
          20.29389290126562,
          70.38580814238118,
          57.0777233834967,
          -0.63036137538775,
          -15.138446134272215,
          -44.44653089315667,
          -48.654615652041116,
          -21.36270041092557,
          -24.97078516981003,
          -4.978869928694493,
          48.013045312421056,
          31.104960553536586,
          27.196875794652144,
          54.38879103576768,
          62.78070627688322,
          -2.5273784820012253,
          -21.735463240885693,
          -49.34354799977015,
          -49.251632758654594,
          -7.559717517539056,
          -22.967802276423512,
          13.924112964692029,
          63.01602820580756,
          25.807943446923105,
          43.299858688038654,
          67.79177392915422,
          105.28368917026975,
          18.47560441138529,
          -9.332480347499171,
          -46.54056510638362,
          -41.74864986526808,
          9.44326537584746,
          7.535180616963004,
          18.227095858078542,
          29.01901109919409,
          22.510926340309638,
          24.502841581425187,
          44.59475682254073,
          85.48667206365627,
          12.378587304771813,
          -19.42949745411265,
          -64.0375822129971,
          -59.845666971881556,
          71.54624826923398,
          -31.561836489650474,
          21.630078751465064,
          5.0219939925806045,
          20.013909233696168,
          -1.4941755251882967,
          52.99773971592724,
          63.68965495704279,
          18.78157019815832,
          -26.126514560726136,
          -65.53459931961058,
          -63.442684078495034,
          -6.5507688373794934,
          33.941146403736056,
          15.833061644851583,
          16.824976885967146,
          -7.383107872917321,
          35.80880736819822,
          74.70072260931376,
          46.792637850429315,
          4.784553091544851,
          -19.423531667339603,
          -60.93161642622406,
          -24.339701185108524,
          79.35221405600703,
          -20.75587070287743,
          31.13604453823811,
          21.12795977935366,
          7.219875020469203,
          18.611790261584744,
          45.10370550270029,
          59.995620743815834,
          11.98753598493137,
          -17.52054877395308,
          -64.62863353283754,
          -66.63671829172199,
          13.455196949393539,
          -16.752887809490915,
          28.239027431624635,
          44.83094267274018,
          52.52285791385573,
          22.814773154971263,
          78.4066883960868,
          82.69860363720235,
          44.490518878317886,
          -8.417565880566556,
          -58.32565063945102,
          -58.83373539833548,
          21.158179842780058,
          -38.3499049161044,
          5.142010325011157,
          34.9339255661267,
          23.725840807242236,
          34.11775604835779,
          89.40967128947331,
          96.00158653058887,
          11.393501771704408,
          -13.114582987180043,
          -57.2226677460645,
          -48.83075250494896,
          2.9611627361665853,
          -44.44692202271788,
          -0.2550067816023187,
          20.43690845951322,
          11.128823700628757,
          21.0207389417443,
          105.01265418285983,
          81.60456942397539,
          -7.803515334909065,
          -28.31160009379353,
          -63.619684852677985,
          -63.227769611562444,
          8.164145629553104,
          -50.44393912933135,
          -20.752023888215803,
          58.639891352899724,
          -9.168193405984724,
          42.923721835130806,
          78.31563707624635,
          78.70755231736189,
          -0.8005324415225488,
          -28.10861720040701,
          -64.21670195929147,
          -67.02478671817593,
          2.067128522939612,
          -48.940956235944824,
          -15.049040994829284,
          16.842874246286257,
          15.234789487401798,
          24.826704728517342,
          79.31861996963288,
          93.91053521074842,
          5.90245045186397,
          -23.20563430702049,
          -63.41371906590494,
          -63.1218038247894,
          -0.8298885836738492,
          -55.737973342558305,
          -24.64605810144276,
          -17.454142860327224,
          1.3377723807883086,
          5.2296876219038495,
          82.5216028630194,
          86.91351810413495,
          1.0054333452504949,
          -33.70265141363397,
          -64.11073617251843,
          -66.71882093140289,
          0.27309430971267545,
          -51.73499044917179,
          -38.743075208056254,
          1.0488400330592924,
          -15.659244725825161,
          35.632670515290386,
          70.82458575640592,
          86.61650099752147,
          -3.3915837613629947,
          -34.399668520247445,
          -65.70775327913191,
          -66.21583803801636,
          -7.123922796900814,
          -47.83200755578527,
          -36.740092314669724,
          -13.548177073554186,
          3.2437381675613466,
          10.435653408676899,
          73.12756864979244,
          93.91948389090798,
          2.3113991320235243,
          -32.89668562686093,
          -68.4047703857454,
          -66.61285514462983,
          -8.120939903514298,
          -48.82902466239875,
          -22.037109421283205,
          -12.04519418016767,
          18.946721060947866,
          3.738636302063412,
          85.33055154317896,
          93.7224667842945,
          11.314382025410055,
          -33.49370273347441,
          -74.10178749235887,
          -70.40987225124333,
          5.782042989872224,
          -56.42604176901223,
          -32.6341265278967,
          31.357788713218838,
          -1.1502960456656126,
          39.04161919544994,
          76.1335344365655,
          81.22544967768103,
          -2.4826350812034264,
          -34.590719840087885,
          -74.09880459897235,
          -51.30688935785681,
          21.185025883258746,
          -57.32305887562571,
          -20.93114363451018,
          10.160771606605365,
          24.352686847720904,
          23.644602088836464,
          83.736517329952,
          82.32843257106755,
          10.920347812183081,
          -24.487736946701375,
          -70.49582170558583,
          -55.30390646447027,
          2.3880087766452647,
          -49.9200759822392,
          -9.72816074112366,
          24.263754499991876,
          -5.844330258892555,
          49.84758498222298,
          77.43950022333851,
          79.53141546445407,
          8.223330705569609,
          -28.98475405331486,
          -66.69283881219931,
          -69.90092357108375,
          -0.6090083299682192,
          -48.41709308885268,
          -45.52517784773714,
          -33.33326260662159,
          -34.241347365506044,
          39.350567875609514,
          78.34248311672505,
          98.43439835784058,
          33.726313598956125,
          -14.181771159928331,
          -79.98985591881278,
          -80.79794067769724,
          -8.006025436581695,
          -68.61411019546615,
          -43.922194954350616,
          -53.33027971323506,
          -35.43836447211952,
          32.55355076899603,
          87.54546601011157,
          92.83738125122711,
          35.62929649234263,
          -13.078788266541821,
          -60.78687302542626,
          -66.69495778431072,
          -11.003042543195178,
          -58.511127302079636,
          -30.9192120609641,
          7.972703180151456,
          16.264618421266988,
          49.556533662382535,
          87.84844890349808,
          81.94036414461361,
          23.132279385729163,
          -17.175805373155285,
          -53.98389013203974,
          -67.0919748909242,
          0.49994035019133776,
          -59.00814440869312,
          -32.11622916757756,
          -1.9243139264620197,
          16.867601314653513,
          41.059516555769065,
          73.75143179688459,
          71.34334703800015,
          28.635262279115693,
          -22.17282247976877,
          -73.08090723865323,
          -71.28899199753768
         ],
         "yaxis": "y"
        },
        {
         "hovertemplate": "<b>OLS trendline</b><br>value = -2.77556e-16 * index + 1.15519e-13<br>R<sup>2</sup>=-0.000000<br><br>variable=0<br>index=%{x}<br>value=%{y} <b>(trend)</b><extra></extra>",
         "legendgroup": "0",
         "marker": {
          "color": "#636efa",
          "symbol": "circle"
         },
         "mode": "lines",
         "name": "0",
         "showlegend": false,
         "type": "scatter",
         "x": [
          0,
          1,
          2,
          3,
          4,
          5,
          6,
          7,
          8,
          9,
          10,
          11,
          12,
          13,
          14,
          15,
          16,
          17,
          18,
          19,
          20,
          21,
          22,
          23,
          24,
          25,
          26,
          27,
          28,
          29,
          30,
          31,
          32,
          33,
          34,
          35,
          36,
          37,
          38,
          39,
          40,
          41,
          42,
          43,
          44,
          45,
          46,
          47,
          48,
          49,
          50,
          51,
          52,
          53,
          54,
          55,
          56,
          57,
          58,
          59,
          60,
          61,
          62,
          63,
          64,
          65,
          66,
          67,
          68,
          69,
          70,
          71,
          72,
          73,
          74,
          75,
          76,
          77,
          78,
          79,
          80,
          81,
          82,
          83,
          84,
          85,
          86,
          87,
          88,
          89,
          90,
          91,
          92,
          93,
          94,
          95,
          96,
          97,
          98,
          99,
          100,
          101,
          102,
          103,
          104,
          105,
          106,
          107,
          108,
          109,
          110,
          111,
          112,
          113,
          114,
          115,
          116,
          117,
          118,
          119,
          120,
          121,
          122,
          123,
          124,
          125,
          126,
          127,
          128,
          129,
          130,
          131,
          132,
          133,
          134,
          135,
          136,
          137,
          138,
          139,
          140,
          141,
          142,
          143,
          144,
          145,
          146,
          147,
          148,
          149,
          150,
          151,
          152,
          153,
          154,
          155,
          156,
          157,
          158,
          159,
          160,
          161,
          162,
          163,
          164,
          165,
          166,
          167,
          168,
          169,
          170,
          171,
          172,
          173,
          174,
          175,
          176,
          177,
          178,
          179,
          180,
          181,
          182,
          183,
          184,
          185,
          186,
          187,
          188,
          189,
          190,
          191,
          192,
          193,
          194,
          195,
          196,
          197,
          198,
          199,
          200,
          201,
          202,
          203,
          204,
          205,
          206,
          207,
          208,
          209,
          210,
          211,
          212,
          213,
          214,
          215,
          216,
          217,
          218,
          219,
          220,
          221,
          222,
          223,
          224,
          225,
          226,
          227,
          228,
          229,
          230,
          231,
          232,
          233,
          234,
          235,
          236,
          237,
          238,
          239,
          240,
          241,
          242,
          243,
          244,
          245,
          246,
          247,
          248,
          249,
          250,
          251,
          252,
          253,
          254,
          255,
          256,
          257,
          258,
          259,
          260,
          261,
          262,
          263,
          264,
          265,
          266,
          267,
          268,
          269,
          270,
          271,
          272,
          273,
          274,
          275,
          276,
          277,
          278,
          279,
          280,
          281,
          282,
          283,
          284,
          285,
          286,
          287,
          288,
          289,
          290,
          291,
          292,
          293,
          294,
          295,
          296,
          297,
          298,
          299,
          300,
          301,
          302,
          303,
          304,
          305,
          306,
          307,
          308,
          309,
          310,
          311,
          312,
          313,
          314,
          315,
          316,
          317,
          318,
          319,
          320,
          321,
          322,
          323,
          324,
          325,
          326,
          327,
          328,
          329,
          330,
          331,
          332,
          333,
          334,
          335,
          336,
          337,
          338,
          339,
          340,
          341,
          342,
          343,
          344,
          345,
          346,
          347,
          348,
          349,
          350,
          351,
          352,
          353,
          354,
          355,
          356,
          357,
          358,
          359
         ],
         "xaxis": "x",
         "y": [
          1.1551870571224754e-13,
          1.1524114995609125e-13,
          1.1496359419993496e-13,
          1.1468603844377867e-13,
          1.1440848268762238e-13,
          1.141309269314661e-13,
          1.138533711753098e-13,
          1.1357581541915351e-13,
          1.1329825966299722e-13,
          1.1302070390684094e-13,
          1.1274314815068465e-13,
          1.1246559239452836e-13,
          1.1218803663837207e-13,
          1.1191048088221578e-13,
          1.1163292512605949e-13,
          1.113553693699032e-13,
          1.1107781361374691e-13,
          1.1080025785759062e-13,
          1.1052270210143433e-13,
          1.1024514634527804e-13,
          1.0996759058912176e-13,
          1.0969003483296547e-13,
          1.0941247907680918e-13,
          1.0913492332065289e-13,
          1.088573675644966e-13,
          1.0857981180834031e-13,
          1.0830225605218402e-13,
          1.0802470029602773e-13,
          1.0774714453987144e-13,
          1.0746958878371515e-13,
          1.0719203302755886e-13,
          1.0691447727140257e-13,
          1.0663692151524629e-13,
          1.0635936575909e-13,
          1.0608181000293371e-13,
          1.0580425424677742e-13,
          1.0552669849062113e-13,
          1.0524914273446484e-13,
          1.0497158697830855e-13,
          1.0469403122215226e-13,
          1.0441647546599597e-13,
          1.0413891970983968e-13,
          1.038613639536834e-13,
          1.035838081975271e-13,
          1.0330625244137082e-13,
          1.0302869668521453e-13,
          1.0275114092905824e-13,
          1.0247358517290195e-13,
          1.0219602941674566e-13,
          1.0191847366058937e-13,
          1.0164091790443308e-13,
          1.0136336214827679e-13,
          1.010858063921205e-13,
          1.0080825063596421e-13,
          1.0053069487980792e-13,
          1.0025313912365164e-13,
          9.997558336749535e-14,
          9.969802761133906e-14,
          9.942047185518277e-14,
          9.914291609902648e-14,
          9.886536034287019e-14,
          9.85878045867139e-14,
          9.831024883055761e-14,
          9.803269307440132e-14,
          9.775513731824503e-14,
          9.747758156208874e-14,
          9.720002580593246e-14,
          9.692247004977617e-14,
          9.664491429361988e-14,
          9.636735853746359e-14,
          9.60898027813073e-14,
          9.581224702515101e-14,
          9.553469126899472e-14,
          9.525713551283843e-14,
          9.497957975668214e-14,
          9.470202400052585e-14,
          9.442446824436956e-14,
          9.414691248821327e-14,
          9.386935673205699e-14,
          9.35918009759007e-14,
          9.331424521974441e-14,
          9.303668946358812e-14,
          9.275913370743183e-14,
          9.248157795127554e-14,
          9.220402219511925e-14,
          9.192646643896296e-14,
          9.164891068280667e-14,
          9.137135492665038e-14,
          9.10937991704941e-14,
          9.08162434143378e-14,
          9.053868765818152e-14,
          9.026113190202523e-14,
          8.998357614586894e-14,
          8.970602038971265e-14,
          8.942846463355636e-14,
          8.915090887740007e-14,
          8.887335312124378e-14,
          8.859579736508749e-14,
          8.83182416089312e-14,
          8.804068585277491e-14,
          8.776313009661862e-14,
          8.748557434046234e-14,
          8.720801858430605e-14,
          8.693046282814976e-14,
          8.665290707199347e-14,
          8.637535131583718e-14,
          8.609779555968089e-14,
          8.58202398035246e-14,
          8.554268404736831e-14,
          8.526512829121202e-14,
          8.498757253505573e-14,
          8.471001677889944e-14,
          8.443246102274315e-14,
          8.415490526658687e-14,
          8.387734951043058e-14,
          8.359979375427429e-14,
          8.3322237998118e-14,
          8.304468224196171e-14,
          8.276712648580542e-14,
          8.248957072964913e-14,
          8.221201497349284e-14,
          8.193445921733655e-14,
          8.165690346118026e-14,
          8.137934770502397e-14,
          8.110179194886769e-14,
          8.08242361927114e-14,
          8.054668043655511e-14,
          8.026912468039882e-14,
          7.999156892424253e-14,
          7.971401316808624e-14,
          7.943645741192995e-14,
          7.915890165577366e-14,
          7.888134589961737e-14,
          7.860379014346108e-14,
          7.83262343873048e-14,
          7.80486786311485e-14,
          7.777112287499222e-14,
          7.749356711883593e-14,
          7.721601136267964e-14,
          7.693845560652335e-14,
          7.666089985036706e-14,
          7.638334409421077e-14,
          7.610578833805448e-14,
          7.582823258189819e-14,
          7.55506768257419e-14,
          7.527312106958561e-14,
          7.499556531342932e-14,
          7.471800955727304e-14,
          7.444045380111675e-14,
          7.416289804496046e-14,
          7.388534228880417e-14,
          7.360778653264788e-14,
          7.333023077649159e-14,
          7.30526750203353e-14,
          7.277511926417901e-14,
          7.249756350802272e-14,
          7.222000775186643e-14,
          7.194245199571014e-14,
          7.166489623955385e-14,
          7.138734048339757e-14,
          7.110978472724128e-14,
          7.083222897108499e-14,
          7.05546732149287e-14,
          7.027711745877241e-14,
          6.999956170261612e-14,
          6.972200594645983e-14,
          6.944445019030354e-14,
          6.916689443414725e-14,
          6.888933867799096e-14,
          6.861178292183467e-14,
          6.833422716567839e-14,
          6.80566714095221e-14,
          6.777911565336581e-14,
          6.750155989720952e-14,
          6.722400414105323e-14,
          6.694644838489694e-14,
          6.666889262874065e-14,
          6.639133687258436e-14,
          6.611378111642807e-14,
          6.583622536027178e-14,
          6.55586696041155e-14,
          6.52811138479592e-14,
          6.500355809180292e-14,
          6.472600233564663e-14,
          6.444844657949034e-14,
          6.417089082333405e-14,
          6.389333506717776e-14,
          6.361577931102147e-14,
          6.333822355486518e-14,
          6.306066779870889e-14,
          6.27831120425526e-14,
          6.250555628639631e-14,
          6.222800053024002e-14,
          6.195044477408373e-14,
          6.167288901792745e-14,
          6.139533326177116e-14,
          6.111777750561487e-14,
          6.084022174945858e-14,
          6.056266599330229e-14,
          6.0285110237146e-14,
          6.000755448098971e-14,
          5.972999872483342e-14,
          5.945244296867713e-14,
          5.917488721252084e-14,
          5.889733145636455e-14,
          5.861977570020827e-14,
          5.834221994405198e-14,
          5.806466418789569e-14,
          5.77871084317394e-14,
          5.750955267558311e-14,
          5.723199691942682e-14,
          5.695444116327053e-14,
          5.667688540711424e-14,
          5.639932965095795e-14,
          5.612177389480166e-14,
          5.5844218138645374e-14,
          5.5566662382489085e-14,
          5.5289106626332796e-14,
          5.5011550870176507e-14,
          5.473399511402022e-14,
          5.445643935786393e-14,
          5.417888360170764e-14,
          5.390132784555135e-14,
          5.362377208939506e-14,
          5.334621633323877e-14,
          5.306866057708248e-14,
          5.2791104820926193e-14,
          5.2513549064769904e-14,
          5.2235993308613615e-14,
          5.1958437552457326e-14,
          5.168088179630104e-14,
          5.140332604014475e-14,
          5.112577028398846e-14,
          5.084821452783217e-14,
          5.057065877167588e-14,
          5.029310301551959e-14,
          5.00155472593633e-14,
          4.973799150320701e-14,
          4.9460435747050724e-14,
          4.9182879990894435e-14,
          4.8905324234738146e-14,
          4.8627768478581856e-14,
          4.835021272242557e-14,
          4.807265696626928e-14,
          4.779510121011299e-14,
          4.75175454539567e-14,
          4.723998969780041e-14,
          4.696243394164412e-14,
          4.668487818548783e-14,
          4.6407322429331543e-14,
          4.6129766673175254e-14,
          4.5852210917018965e-14,
          4.5574655160862676e-14,
          4.529709940470639e-14,
          4.50195436485501e-14,
          4.474198789239381e-14,
          4.446443213623752e-14,
          4.418687638008123e-14,
          4.390932062392494e-14,
          4.363176486776865e-14,
          4.335420911161236e-14,
          4.3076653355456074e-14,
          4.2799097599299785e-14,
          4.2521541843143495e-14,
          4.2243986086987206e-14,
          4.196643033083092e-14,
          4.168887457467463e-14,
          4.141131881851834e-14,
          4.113376306236205e-14,
          4.085620730620576e-14,
          4.057865155004947e-14,
          4.030109579389318e-14,
          4.0023540037736893e-14,
          3.9745984281580604e-14,
          3.9468428525424315e-14,
          3.9190872769268026e-14,
          3.8913317013111737e-14,
          3.863576125695545e-14,
          3.835820550079916e-14,
          3.808064974464287e-14,
          3.780309398848658e-14,
          3.752553823233029e-14,
          3.7247982476174e-14,
          3.697042672001771e-14,
          3.6692870963861424e-14,
          3.6415315207705135e-14,
          3.6137759451548845e-14,
          3.5860203695392556e-14,
          3.558264793923627e-14,
          3.530509218307998e-14,
          3.502753642692369e-14,
          3.47499806707674e-14,
          3.447242491461111e-14,
          3.419486915845482e-14,
          3.391731340229853e-14,
          3.3639757646142243e-14,
          3.3362201889985954e-14,
          3.3084646133829665e-14,
          3.2807090377673376e-14,
          3.2529534621517087e-14,
          3.22519788653608e-14,
          3.197442310920451e-14,
          3.169686735304822e-14,
          3.141931159689193e-14,
          3.114175584073564e-14,
          3.086420008457935e-14,
          3.058664432842306e-14,
          3.0309088572266774e-14,
          3.0031532816110484e-14,
          2.9753977059954195e-14,
          2.9476421303797906e-14,
          2.919886554764162e-14,
          2.892130979148533e-14,
          2.864375403532904e-14,
          2.836619827917275e-14,
          2.808864252301646e-14,
          2.781108676686017e-14,
          2.7533531010703882e-14,
          2.7255975254547593e-14,
          2.6978419498391304e-14,
          2.6700863742235015e-14,
          2.6423307986078726e-14,
          2.6145752229922437e-14,
          2.5868196473766147e-14,
          2.5590640717609858e-14,
          2.531308496145357e-14,
          2.503552920529728e-14,
          2.475797344914099e-14,
          2.4480417692984702e-14,
          2.4202861936828413e-14,
          2.3925306180672123e-14,
          2.3647750424515834e-14,
          2.3370194668359545e-14,
          2.3092638912203256e-14,
          2.2815083156046967e-14,
          2.2537527399890678e-14,
          2.225997164373439e-14,
          2.19824158875781e-14,
          2.170486013142181e-14,
          2.142730437526552e-14,
          2.1149748619109232e-14,
          2.0872192862952943e-14,
          2.0594637106796654e-14,
          2.0317081350640365e-14,
          2.0039525594484076e-14,
          1.9761969838327786e-14,
          1.9484414082171497e-14,
          1.9206858326015208e-14,
          1.892930256985892e-14,
          1.865174681370263e-14,
          1.837419105754634e-14,
          1.8096635301390052e-14,
          1.7819079545233762e-14,
          1.7541523789077473e-14,
          1.7263968032921184e-14,
          1.6986412276764895e-14,
          1.6708856520608606e-14,
          1.6431300764452317e-14,
          1.6153745008296028e-14,
          1.587618925213974e-14
         ],
         "yaxis": "y"
        }
       ],
       "layout": {
        "legend": {
         "title": {
          "text": "variable"
         },
         "tracegroupgap": 0
        },
        "margin": {
         "t": 60
        },
        "template": {
         "data": {
          "bar": [
           {
            "error_x": {
             "color": "#2a3f5f"
            },
            "error_y": {
             "color": "#2a3f5f"
            },
            "marker": {
             "line": {
              "color": "#E5ECF6",
              "width": 0.5
             },
             "pattern": {
              "fillmode": "overlay",
              "size": 10,
              "solidity": 0.2
             }
            },
            "type": "bar"
           }
          ],
          "barpolar": [
           {
            "marker": {
             "line": {
              "color": "#E5ECF6",
              "width": 0.5
             },
             "pattern": {
              "fillmode": "overlay",
              "size": 10,
              "solidity": 0.2
             }
            },
            "type": "barpolar"
           }
          ],
          "carpet": [
           {
            "aaxis": {
             "endlinecolor": "#2a3f5f",
             "gridcolor": "white",
             "linecolor": "white",
             "minorgridcolor": "white",
             "startlinecolor": "#2a3f5f"
            },
            "baxis": {
             "endlinecolor": "#2a3f5f",
             "gridcolor": "white",
             "linecolor": "white",
             "minorgridcolor": "white",
             "startlinecolor": "#2a3f5f"
            },
            "type": "carpet"
           }
          ],
          "choropleth": [
           {
            "colorbar": {
             "outlinewidth": 0,
             "ticks": ""
            },
            "type": "choropleth"
           }
          ],
          "contour": [
           {
            "colorbar": {
             "outlinewidth": 0,
             "ticks": ""
            },
            "colorscale": [
             [
              0,
              "#0d0887"
             ],
             [
              0.1111111111111111,
              "#46039f"
             ],
             [
              0.2222222222222222,
              "#7201a8"
             ],
             [
              0.3333333333333333,
              "#9c179e"
             ],
             [
              0.4444444444444444,
              "#bd3786"
             ],
             [
              0.5555555555555556,
              "#d8576b"
             ],
             [
              0.6666666666666666,
              "#ed7953"
             ],
             [
              0.7777777777777778,
              "#fb9f3a"
             ],
             [
              0.8888888888888888,
              "#fdca26"
             ],
             [
              1,
              "#f0f921"
             ]
            ],
            "type": "contour"
           }
          ],
          "contourcarpet": [
           {
            "colorbar": {
             "outlinewidth": 0,
             "ticks": ""
            },
            "type": "contourcarpet"
           }
          ],
          "heatmap": [
           {
            "colorbar": {
             "outlinewidth": 0,
             "ticks": ""
            },
            "colorscale": [
             [
              0,
              "#0d0887"
             ],
             [
              0.1111111111111111,
              "#46039f"
             ],
             [
              0.2222222222222222,
              "#7201a8"
             ],
             [
              0.3333333333333333,
              "#9c179e"
             ],
             [
              0.4444444444444444,
              "#bd3786"
             ],
             [
              0.5555555555555556,
              "#d8576b"
             ],
             [
              0.6666666666666666,
              "#ed7953"
             ],
             [
              0.7777777777777778,
              "#fb9f3a"
             ],
             [
              0.8888888888888888,
              "#fdca26"
             ],
             [
              1,
              "#f0f921"
             ]
            ],
            "type": "heatmap"
           }
          ],
          "heatmapgl": [
           {
            "colorbar": {
             "outlinewidth": 0,
             "ticks": ""
            },
            "colorscale": [
             [
              0,
              "#0d0887"
             ],
             [
              0.1111111111111111,
              "#46039f"
             ],
             [
              0.2222222222222222,
              "#7201a8"
             ],
             [
              0.3333333333333333,
              "#9c179e"
             ],
             [
              0.4444444444444444,
              "#bd3786"
             ],
             [
              0.5555555555555556,
              "#d8576b"
             ],
             [
              0.6666666666666666,
              "#ed7953"
             ],
             [
              0.7777777777777778,
              "#fb9f3a"
             ],
             [
              0.8888888888888888,
              "#fdca26"
             ],
             [
              1,
              "#f0f921"
             ]
            ],
            "type": "heatmapgl"
           }
          ],
          "histogram": [
           {
            "marker": {
             "pattern": {
              "fillmode": "overlay",
              "size": 10,
              "solidity": 0.2
             }
            },
            "type": "histogram"
           }
          ],
          "histogram2d": [
           {
            "colorbar": {
             "outlinewidth": 0,
             "ticks": ""
            },
            "colorscale": [
             [
              0,
              "#0d0887"
             ],
             [
              0.1111111111111111,
              "#46039f"
             ],
             [
              0.2222222222222222,
              "#7201a8"
             ],
             [
              0.3333333333333333,
              "#9c179e"
             ],
             [
              0.4444444444444444,
              "#bd3786"
             ],
             [
              0.5555555555555556,
              "#d8576b"
             ],
             [
              0.6666666666666666,
              "#ed7953"
             ],
             [
              0.7777777777777778,
              "#fb9f3a"
             ],
             [
              0.8888888888888888,
              "#fdca26"
             ],
             [
              1,
              "#f0f921"
             ]
            ],
            "type": "histogram2d"
           }
          ],
          "histogram2dcontour": [
           {
            "colorbar": {
             "outlinewidth": 0,
             "ticks": ""
            },
            "colorscale": [
             [
              0,
              "#0d0887"
             ],
             [
              0.1111111111111111,
              "#46039f"
             ],
             [
              0.2222222222222222,
              "#7201a8"
             ],
             [
              0.3333333333333333,
              "#9c179e"
             ],
             [
              0.4444444444444444,
              "#bd3786"
             ],
             [
              0.5555555555555556,
              "#d8576b"
             ],
             [
              0.6666666666666666,
              "#ed7953"
             ],
             [
              0.7777777777777778,
              "#fb9f3a"
             ],
             [
              0.8888888888888888,
              "#fdca26"
             ],
             [
              1,
              "#f0f921"
             ]
            ],
            "type": "histogram2dcontour"
           }
          ],
          "mesh3d": [
           {
            "colorbar": {
             "outlinewidth": 0,
             "ticks": ""
            },
            "type": "mesh3d"
           }
          ],
          "parcoords": [
           {
            "line": {
             "colorbar": {
              "outlinewidth": 0,
              "ticks": ""
             }
            },
            "type": "parcoords"
           }
          ],
          "pie": [
           {
            "automargin": true,
            "type": "pie"
           }
          ],
          "scatter": [
           {
            "fillpattern": {
             "fillmode": "overlay",
             "size": 10,
             "solidity": 0.2
            },
            "type": "scatter"
           }
          ],
          "scatter3d": [
           {
            "line": {
             "colorbar": {
              "outlinewidth": 0,
              "ticks": ""
             }
            },
            "marker": {
             "colorbar": {
              "outlinewidth": 0,
              "ticks": ""
             }
            },
            "type": "scatter3d"
           }
          ],
          "scattercarpet": [
           {
            "marker": {
             "colorbar": {
              "outlinewidth": 0,
              "ticks": ""
             }
            },
            "type": "scattercarpet"
           }
          ],
          "scattergeo": [
           {
            "marker": {
             "colorbar": {
              "outlinewidth": 0,
              "ticks": ""
             }
            },
            "type": "scattergeo"
           }
          ],
          "scattergl": [
           {
            "marker": {
             "colorbar": {
              "outlinewidth": 0,
              "ticks": ""
             }
            },
            "type": "scattergl"
           }
          ],
          "scattermapbox": [
           {
            "marker": {
             "colorbar": {
              "outlinewidth": 0,
              "ticks": ""
             }
            },
            "type": "scattermapbox"
           }
          ],
          "scatterpolar": [
           {
            "marker": {
             "colorbar": {
              "outlinewidth": 0,
              "ticks": ""
             }
            },
            "type": "scatterpolar"
           }
          ],
          "scatterpolargl": [
           {
            "marker": {
             "colorbar": {
              "outlinewidth": 0,
              "ticks": ""
             }
            },
            "type": "scatterpolargl"
           }
          ],
          "scatterternary": [
           {
            "marker": {
             "colorbar": {
              "outlinewidth": 0,
              "ticks": ""
             }
            },
            "type": "scatterternary"
           }
          ],
          "surface": [
           {
            "colorbar": {
             "outlinewidth": 0,
             "ticks": ""
            },
            "colorscale": [
             [
              0,
              "#0d0887"
             ],
             [
              0.1111111111111111,
              "#46039f"
             ],
             [
              0.2222222222222222,
              "#7201a8"
             ],
             [
              0.3333333333333333,
              "#9c179e"
             ],
             [
              0.4444444444444444,
              "#bd3786"
             ],
             [
              0.5555555555555556,
              "#d8576b"
             ],
             [
              0.6666666666666666,
              "#ed7953"
             ],
             [
              0.7777777777777778,
              "#fb9f3a"
             ],
             [
              0.8888888888888888,
              "#fdca26"
             ],
             [
              1,
              "#f0f921"
             ]
            ],
            "type": "surface"
           }
          ],
          "table": [
           {
            "cells": {
             "fill": {
              "color": "#EBF0F8"
             },
             "line": {
              "color": "white"
             }
            },
            "header": {
             "fill": {
              "color": "#C8D4E3"
             },
             "line": {
              "color": "white"
             }
            },
            "type": "table"
           }
          ]
         },
         "layout": {
          "annotationdefaults": {
           "arrowcolor": "#2a3f5f",
           "arrowhead": 0,
           "arrowwidth": 1
          },
          "autotypenumbers": "strict",
          "coloraxis": {
           "colorbar": {
            "outlinewidth": 0,
            "ticks": ""
           }
          },
          "colorscale": {
           "diverging": [
            [
             0,
             "#8e0152"
            ],
            [
             0.1,
             "#c51b7d"
            ],
            [
             0.2,
             "#de77ae"
            ],
            [
             0.3,
             "#f1b6da"
            ],
            [
             0.4,
             "#fde0ef"
            ],
            [
             0.5,
             "#f7f7f7"
            ],
            [
             0.6,
             "#e6f5d0"
            ],
            [
             0.7,
             "#b8e186"
            ],
            [
             0.8,
             "#7fbc41"
            ],
            [
             0.9,
             "#4d9221"
            ],
            [
             1,
             "#276419"
            ]
           ],
           "sequential": [
            [
             0,
             "#0d0887"
            ],
            [
             0.1111111111111111,
             "#46039f"
            ],
            [
             0.2222222222222222,
             "#7201a8"
            ],
            [
             0.3333333333333333,
             "#9c179e"
            ],
            [
             0.4444444444444444,
             "#bd3786"
            ],
            [
             0.5555555555555556,
             "#d8576b"
            ],
            [
             0.6666666666666666,
             "#ed7953"
            ],
            [
             0.7777777777777778,
             "#fb9f3a"
            ],
            [
             0.8888888888888888,
             "#fdca26"
            ],
            [
             1,
             "#f0f921"
            ]
           ],
           "sequentialminus": [
            [
             0,
             "#0d0887"
            ],
            [
             0.1111111111111111,
             "#46039f"
            ],
            [
             0.2222222222222222,
             "#7201a8"
            ],
            [
             0.3333333333333333,
             "#9c179e"
            ],
            [
             0.4444444444444444,
             "#bd3786"
            ],
            [
             0.5555555555555556,
             "#d8576b"
            ],
            [
             0.6666666666666666,
             "#ed7953"
            ],
            [
             0.7777777777777778,
             "#fb9f3a"
            ],
            [
             0.8888888888888888,
             "#fdca26"
            ],
            [
             1,
             "#f0f921"
            ]
           ]
          },
          "colorway": [
           "#636efa",
           "#EF553B",
           "#00cc96",
           "#ab63fa",
           "#FFA15A",
           "#19d3f3",
           "#FF6692",
           "#B6E880",
           "#FF97FF",
           "#FECB52"
          ],
          "font": {
           "color": "#2a3f5f"
          },
          "geo": {
           "bgcolor": "white",
           "lakecolor": "white",
           "landcolor": "#E5ECF6",
           "showlakes": true,
           "showland": true,
           "subunitcolor": "white"
          },
          "hoverlabel": {
           "align": "left"
          },
          "hovermode": "closest",
          "mapbox": {
           "style": "light"
          },
          "paper_bgcolor": "white",
          "plot_bgcolor": "#E5ECF6",
          "polar": {
           "angularaxis": {
            "gridcolor": "white",
            "linecolor": "white",
            "ticks": ""
           },
           "bgcolor": "#E5ECF6",
           "radialaxis": {
            "gridcolor": "white",
            "linecolor": "white",
            "ticks": ""
           }
          },
          "scene": {
           "xaxis": {
            "backgroundcolor": "#E5ECF6",
            "gridcolor": "white",
            "gridwidth": 2,
            "linecolor": "white",
            "showbackground": true,
            "ticks": "",
            "zerolinecolor": "white"
           },
           "yaxis": {
            "backgroundcolor": "#E5ECF6",
            "gridcolor": "white",
            "gridwidth": 2,
            "linecolor": "white",
            "showbackground": true,
            "ticks": "",
            "zerolinecolor": "white"
           },
           "zaxis": {
            "backgroundcolor": "#E5ECF6",
            "gridcolor": "white",
            "gridwidth": 2,
            "linecolor": "white",
            "showbackground": true,
            "ticks": "",
            "zerolinecolor": "white"
           }
          },
          "shapedefaults": {
           "line": {
            "color": "#2a3f5f"
           }
          },
          "ternary": {
           "aaxis": {
            "gridcolor": "white",
            "linecolor": "white",
            "ticks": ""
           },
           "baxis": {
            "gridcolor": "white",
            "linecolor": "white",
            "ticks": ""
           },
           "bgcolor": "#E5ECF6",
           "caxis": {
            "gridcolor": "white",
            "linecolor": "white",
            "ticks": ""
           }
          },
          "title": {
           "x": 0.05
          },
          "xaxis": {
           "automargin": true,
           "gridcolor": "white",
           "linecolor": "white",
           "ticks": "",
           "title": {
            "standoff": 15
           },
           "zerolinecolor": "white",
           "zerolinewidth": 2
          },
          "yaxis": {
           "automargin": true,
           "gridcolor": "white",
           "linecolor": "white",
           "ticks": "",
           "title": {
            "standoff": 15
           },
           "zerolinecolor": "white",
           "zerolinewidth": 2
          }
         }
        },
        "xaxis": {
         "anchor": "y",
         "domain": [
          0,
          1
         ],
         "title": {
          "text": "index"
         }
        },
        "yaxis": {
         "anchor": "x",
         "domain": [
          0,
          1
         ],
         "title": {
          "text": "value"
         }
        }
       }
      }
     },
     "metadata": {},
     "output_type": "display_data"
    }
   ],
   "source": [
    "fig_revenue = px.scatter(df_merged, x=\"Date\", y=\"Revenue\", trendline=\"ols\")\n",
    "fig_detrend = px.scatter(detrended, trendline=\"ols\")\n",
    "fig_revenue.show()\n",
    "fig_detrend.show()"
   ]
  },
  {
   "cell_type": "code",
   "execution_count": null,
   "metadata": {},
   "outputs": [],
   "source": []
  }
 ],
 "metadata": {
  "kernelspec": {
   "display_name": "Python 3",
   "language": "python",
   "name": "python3"
  },
  "language_info": {
   "codemirror_mode": {
    "name": "ipython",
    "version": 3
   },
   "file_extension": ".py",
   "mimetype": "text/x-python",
   "name": "python",
   "nbconvert_exporter": "python",
   "pygments_lexer": "ipython3",
   "version": "3.12.3"
  }
 },
 "nbformat": 4,
 "nbformat_minor": 2
}
