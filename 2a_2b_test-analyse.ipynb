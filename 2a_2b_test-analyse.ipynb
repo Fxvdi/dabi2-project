{
 "cells": [
  {
   "cell_type": "code",
   "execution_count": null,
   "metadata": {},
   "outputs": [],
   "source": [
    "import pandas as pd\n",
    "import matplotlib.pyplot as plt\n",
    "import numpy as np"
   ]
  },
  {
   "cell_type": "code",
   "execution_count": null,
   "metadata": {},
   "outputs": [],
   "source": [
    "df_gastro = pd.read_csv(\"Daten/cleaned_data/gastro_filtered.csv\")\n",
    "df_weather = pd.read_csv(\"Daten/cleaned_data/377_produkt_klima_tag.csv\")\n"
   ]
  },
  {
   "cell_type": "code",
   "execution_count": null,
   "metadata": {},
   "outputs": [],
   "source": [
    "df_gastro.info()"
   ]
  },
  {
   "cell_type": "code",
   "execution_count": null,
   "metadata": {},
   "outputs": [],
   "source": [
    "df_gastro"
   ]
  },
  {
   "cell_type": "code",
   "execution_count": null,
   "metadata": {},
   "outputs": [],
   "source": [
    "selected_rows = df_gastro.loc[df_gastro['Gastro_Id'] == \"WZ08-55\", [\"Gastro_Id\", \"Monat\",\"Jahr\"]]\n",
    "selected_rows"
   ]
  },
  {
   "cell_type": "code",
   "execution_count": null,
   "metadata": {},
   "outputs": [],
   "source": [
    "df_weather"
   ]
  },
  {
   "cell_type": "code",
   "execution_count": null,
   "metadata": {},
   "outputs": [],
   "source": [
    "df_weather[\"TMK\"].min()"
   ]
  },
  {
   "cell_type": "code",
   "execution_count": null,
   "metadata": {},
   "outputs": [],
   "source": [
    "df_weather[\"TMK\"].min()"
   ]
  },
  {
   "cell_type": "code",
   "execution_count": null,
   "metadata": {},
   "outputs": [],
   "source": [
    "df_weather['Monat'] = pd.to_datetime(df_weather['MESS_DATUM']).dt.month\n",
    "df_weather['Jahr'] = pd.to_datetime(df_weather['MESS_DATUM']).dt.year\n"
   ]
  },
  {
   "cell_type": "code",
   "execution_count": null,
   "metadata": {},
   "outputs": [],
   "source": [
    "df_avg_temp_month_year = df_weather.groupby(['Jahr', 'Monat'])['TMK'].mean().reset_index()"
   ]
  },
  {
   "cell_type": "code",
   "execution_count": null,
   "metadata": {},
   "outputs": [],
   "source": [
    "month_mapping = {\n",
    "    'Januar': 1,\n",
    "    'Februar': 2,\n",
    "    'März': 3,\n",
    "    'April': 4,\n",
    "    'Mai': 5,\n",
    "    'Juni': 6,\n",
    "    'Juli': 7,\n",
    "    'August': 8,\n",
    "    'September': 9,\n",
    "    'Oktober': 10,\n",
    "    'November': 11,\n",
    "    'Dezember': 12\n",
    "}\n",
    "\n",
    "# Convert the \"Monat\" column to numerical values using the mapping dictionary\n",
    "df_gastro['Monat'] = df_gastro['Monat'].map(month_mapping)"
   ]
  },
  {
   "cell_type": "code",
   "execution_count": null,
   "metadata": {},
   "outputs": [],
   "source": [
    "#Beispiel zur veranschaulichung\n",
    "selected_rows = df_gastro.loc[df_gastro['Gastro_Id'] == \"WZ08-55\", [\"Gastro_Id\", \"Monat\",\"Jahr\",]]\n",
    "selected_rows"
   ]
  },
  {
   "cell_type": "code",
   "execution_count": null,
   "metadata": {},
   "outputs": [],
   "source": [
    "df_avg_temp_month_year"
   ]
  },
  {
   "cell_type": "code",
   "execution_count": null,
   "metadata": {},
   "outputs": [],
   "source": [
    "merged_df = pd.merge(df_gastro, df_avg_temp_month_year, on=['Monat', 'Jahr'])\n",
    "merged_df"
   ]
  },
  {
   "cell_type": "code",
   "execution_count": null,
   "metadata": {},
   "outputs": [],
   "source": [
    "pd.set_option('display.max_rows', 60)\n",
    "selected_rows = merged_df.loc[df_gastro['Gastro_Id'] == \"WZ08-55\", [\"Gastro_Id\", \"Monat\",\"Jahr\",\"TMK\"]]\n",
    "selected_rows"
   ]
  },
  {
   "cell_type": "code",
   "execution_count": null,
   "metadata": {},
   "outputs": [],
   "source": [
    "plt.scatter(merged_df['TMK'], merged_df['Umsatz in millionen'])\n",
    "plt.title('Korrelation zwischen Durchschnittstemperatur und Umsatz')\n",
    "plt.xlabel('Durchschnittstemperatur (TMK)')\n",
    "plt.ylabel('Umsatz in Millionen')\n",
    "plt.show()"
   ]
  },
  {
   "cell_type": "code",
   "execution_count": null,
   "metadata": {},
   "outputs": [],
   "source": [
    "grouped = merged_df.groupby('Gastro_Id')\n",
    "merged_df[merged_df['Gastro_Id'] == 'WZ08-55']"
   ]
  },
  {
   "cell_type": "code",
   "execution_count": null,
   "metadata": {},
   "outputs": [],
   "source": [
    "merged_df.drop([\"Monatscode\",\"Gastro_Description\"], axis=1, inplace=True)\n",
    "merged_df[\"Jahr_Monat\"] = merged_df[\"Jahr\"].astype(str) + \"-\" + merged_df[\"Monat\"].astype(str)\n",
    "\n",
    "merged_df"
   ]
  },
  {
   "cell_type": "code",
   "execution_count": null,
   "metadata": {},
   "outputs": [],
   "source": [
    "min_value = merged_df[\"TMK\"].min()\n",
    "min_value"
   ]
  },
  {
   "cell_type": "code",
   "execution_count": null,
   "metadata": {},
   "outputs": [],
   "source": [
    "max_value = merged_df[\"TMK\"].max()\n",
    "max_value"
   ]
  },
  {
   "cell_type": "code",
   "execution_count": null,
   "metadata": {},
   "outputs": [],
   "source": [
    "selected_rows = merged_df.loc[df_gastro['Gastro_Id'] == \"WZ08-55\"]\n",
    "\n",
    "selected_rows"
   ]
  },
  {
   "cell_type": "code",
   "execution_count": null,
   "metadata": {},
   "outputs": [],
   "source": [
    "unique_gastro_ids = merged_df['Gastro_Id'].unique()\n",
    "\n",
    "for gastro_id in unique_gastro_ids:\n",
    "    selected_rows_gastro = merged_df[merged_df['Gastro_Id'] == gastro_id]\n",
    "    \n",
    "    plt.figure(figsize=(100, 6))  # Größe des Plots anpassen\n",
    "    \n",
    "    # Plot für den Umsatz\n",
    "    plt.subplot(2, 1, 1)  # Erste von zwei Zeilen\n",
    "    plt.plot(selected_rows_gastro['Jahr_Monat'], selected_rows_gastro['Umsatz in millionen'], marker='o', color='blue')\n",
    "    plt.title(f'Umsatz über die Jahre mit Jahr-Monat für Gastro-ID {gastro_id}')\n",
    "    plt.xlabel('Jahr-Monat')\n",
    "    plt.ylabel('Umsatz in Millionen')\n",
    "    plt.grid(True)\n",
    "    plt.xticks(rotation=45)  # Rotation der x-Achsenbeschriftungen für bessere Lesbarkeit\n",
    "    \n",
    "    # Plot für die Temperatur\n",
    "    plt.subplot(2, 1, 2)  # Zweite von zwei Zeilen\n",
    "    plt.plot(selected_rows_gastro['Jahr_Monat'], selected_rows_gastro['TMK'], marker='o', color='red')\n",
    "    plt.title(f'Temperatur über die Jahre mit Jahr-Monat für Gastro-ID {gastro_id}')\n",
    "    plt.xlabel('Jahr-Monat')\n",
    "    plt.ylabel('Temperatur')\n",
    "    plt.grid(True)\n",
    "    plt.xticks(rotation=45)  # Rotation der x-Achsenbeschriftungen für bessere Lesbarkeit\n",
    "    \n",
    "    plt.tight_layout()  # Für einen verbesserten Layout-Abstand zwischen den Subplots\n",
    "    \n",
    "    plt.show()\n"
   ]
  },
  {
   "cell_type": "code",
   "execution_count": null,
   "metadata": {},
   "outputs": [],
   "source": [
    "correlation = merged_df['Umsatz in millionen'].corr(merged_df['TMK'])\n",
    "\n",
    "print(\"Korrelationskoeffizient zwischen Temperatur und Jahresumsatz:\", correlation)"
   ]
  },
  {
   "cell_type": "code",
   "execution_count": null,
   "metadata": {},
   "outputs": [],
   "source": [
    "# Prüfen auf einen Zusammenhang mit zeitlicher Verzögerung\n",
    "lags = range(1, 13)  # Mögliche Verzögerungen von 1 bis 12 Monaten\n",
    "correlation_with_lags = []\n",
    "for lag in lags:\n",
    "    # Verzögerte Durchschnittstemperatur um `lag` Monate\n",
    "    merged_df['TMK_delayed'] = merged_df['TMK'].shift(periods=lag)\n",
    "    # Berechnen der Korrelation zwischen verzögerter Durchschnittstemperatur und Umsatz\n",
    "    correlation_with_lags.append(merged_df['Umsatz in millionen'].corr(merged_df['TMK_delayed']))\n",
    "\n",
    "# Ermitteln des Lags mit der höchsten Korrelation\n",
    "max_correlation_index = np.argmax(correlation_with_lags)\n",
    "lag_with_max_correlation = lags[max_correlation_index]\n",
    "max_correlation = correlation_with_lags[max_correlation_index]\n",
    "\n",
    "print(\"Maximale Korrelation mit Lag von\", lag_with_max_correlation, \"Monaten:\", max_correlation)"
   ]
  }
 ],
 "metadata": {
  "kernelspec": {
   "display_name": "base",
   "language": "python",
   "name": "python3"
  },
  "language_info": {
   "name": "python",
   "version": "3.9.13"
  }
 },
 "nbformat": 4,
 "nbformat_minor": 2
}
