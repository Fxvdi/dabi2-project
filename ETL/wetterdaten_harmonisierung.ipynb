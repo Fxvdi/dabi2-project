{
 "cells": [
  {
   "cell_type": "code",
   "execution_count": 1,
   "metadata": {},
   "outputs": [],
   "source": [
    "import glob\n",
    "import os\n",
    "import pandas as pd\n",
    "from datetime import datetime\n",
    "current_datetime = datetime.now().strftime('%Y%m%d_%H%M%S')\n",
    "current_datetime\n",
    "\n",
    "ordner_pfad = \"../Data_Lake/Historisierung/Wetterdaten/Tagesbasis\"\n",
    "\n",
    "# Finde alle CSV-Dateien im Ordner\n",
    "csv_dateien = glob.glob(os.path.join(ordner_pfad, \"*.csv\"))\n",
    "\n",
    "# Alternativ kannst du auch os.listdir verwenden und nur CSV-Dateien filtern:\n",
    "# csv_dateien = [os.path.join(ordner_pfad, datei) for datei in os.listdir(ordner_pfad) if datei.endswith(\".csv\")]\n",
    "\n",
    "# Iteriere durch die Liste der CSV-Dateien und lese jede Datei ein\n",
    "dfs = []\n",
    "for datei in csv_dateien:\n",
    "    df = pd.read_csv(datei)\n",
    "    df = df.rename(columns={\"MESS_DATUM\" : \"Datum\", \"STATIONS_ID\" : \"stations_id\"})\n",
    "    df['Datum'] = pd.to_datetime(df[\"Datum\"])\n",
    "    dfs.append(df)\n",
    "tag_wetterdaten = pd.concat(dfs)\n",
    "tag_wetterdaten = tag_wetterdaten[tag_wetterdaten['Datum'] >= pd.to_datetime('1994-01-01')]\n",
    "tag_wetterdaten = tag_wetterdaten.reset_index(drop=True)\n",
    "tag_wetterdaten.to_csv(f\"../Data_Lake/Historisierung/Wetterdaten/Tagesbasis/merged_tagesdaten{current_datetime}.csv\", index=False)\n",
    "tag_wetterdaten.to_csv(f\"../Temp_DWH/tageswetterdaten.csv\", index=False)"
   ]
  },
  {
   "cell_type": "code",
   "execution_count": null,
   "metadata": {},
   "outputs": [],
   "source": [
    "current_datetime = datetime.now().strftime('%Y%m%d_%H%M%S')\n",
    "current_datetime\n",
    "\n",
    "ordner_pfad = \"../Data_Lake/Historisierung/Wetterdaten/Monatsbasis\"\n",
    "\n",
    "# Finde alle CSV-Dateien im Ordner\n",
    "csv_dateien = glob.glob(os.path.join(ordner_pfad, \"*.csv\"))\n",
    "\n",
    "# Alternativ kannst du auch os.listdir verwenden und nur CSV-Dateien filtern:\n",
    "# csv_dateien = [os.path.join(ordner_pfad, datei) for datei in os.listdir(ordner_pfad) if datei.endswith(\".csv\")]\n",
    "\n",
    "# Iteriere durch die Liste der CSV-Dateien und lese jede Datei ein\n",
    "dfs = []\n",
    "for datei in csv_dateien:\n",
    "    df = pd.read_csv(datei)\n",
    "    df = df.rename(columns={\"MESS_DATUM\" : \"Datum\", \"STATIONS_ID\" : \"stations_id\"})\n",
    "    df['Datum'] = pd.to_datetime(df[\"Datum\"])\n",
    "    dfs.append(df)\n",
    "monat_wetterdaten = pd.concat(dfs)\n",
    "monat_wetterdaten = monat_wetterdaten[monat_wetterdaten['Datum'] >= pd.to_datetime('1994-01-01')]\n",
    "monat_wetterdaten = monat_wetterdaten.reset_index(drop=True)\n",
    "#wetterdaten.to_csv(f\"../Data_Lake/Historisierung/Wetterdaten/Tagesbasis/merged_tagesdaten{current_datetime}.csv\", index=False)\n",
    "#wetterdaten.to_csv(f\"../Temp_DWH/tageswetterdaten.csv\", index=False)"
   ]
  }
 ],
 "metadata": {
  "kernelspec": {
   "display_name": "Python 3",
   "language": "python",
   "name": "python3"
  },
  "language_info": {
   "codemirror_mode": {
    "name": "ipython",
    "version": 3
   },
   "file_extension": ".py",
   "mimetype": "text/x-python",
   "name": "python",
   "nbconvert_exporter": "python",
   "pygments_lexer": "ipython3",
   "version": "3.12.4"
  }
 },
 "nbformat": 4,
 "nbformat_minor": 2
}
