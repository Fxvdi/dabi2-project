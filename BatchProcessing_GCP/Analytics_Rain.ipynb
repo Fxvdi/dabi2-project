{
 "cells": [
  {
   "cell_type": "code",
   "execution_count": 2,
   "id": "ec596eb4-3410-4b17-ab4c-a907ed75553c",
   "metadata": {
    "tags": []
   },
   "outputs": [
    {
     "data": {
      "text/html": [
       "\n",
       "        <div>\n",
       "            <p><b>SparkContext</b></p>\n",
       "\n",
       "            <p><a href=\"http://pyspark-pk-m.us-central1-c.c.dscb420-ad.internal:40655\">Spark UI</a></p>\n",
       "\n",
       "            <dl>\n",
       "              <dt>Version</dt>\n",
       "                <dd><code>v3.5.0</code></dd>\n",
       "              <dt>Master</dt>\n",
       "                <dd><code>yarn</code></dd>\n",
       "              <dt>AppName</dt>\n",
       "                <dd><code>PySparkShell</code></dd>\n",
       "            </dl>\n",
       "        </div>\n",
       "        "
      ],
      "text/plain": [
       "<SparkContext master=yarn appName=PySparkShell>"
      ]
     },
     "execution_count": 2,
     "metadata": {},
     "output_type": "execute_result"
    }
   ],
   "source": [
    "sc"
   ]
  },
  {
   "cell_type": "code",
   "execution_count": 3,
   "id": "ec6d619e-a259-4cbd-806b-2bfea804ee32",
   "metadata": {
    "tags": []
   },
   "outputs": [
    {
     "name": "stderr",
     "output_type": "stream",
     "text": [
      "                                                                                \r"
     ]
    }
   ],
   "source": [
    "df = spark.read.parquet(\"gs://dabi-project-bucket/DWH/DIM_weather/rain\", inferSchema=True, header=True)\n",
    "df.createOrReplaceTempView(\"rain\")"
   ]
  },
  {
   "cell_type": "code",
   "execution_count": 4,
   "id": "af93f3c8-883b-4193-a46e-c6a201c1d737",
   "metadata": {
    "tags": []
   },
   "outputs": [
    {
     "name": "stderr",
     "output_type": "stream",
     "text": [
      "                                                                                \r"
     ]
    },
    {
     "data": {
      "text/html": [
       "<div>\n",
       "<style scoped>\n",
       "    .dataframe tbody tr th:only-of-type {\n",
       "        vertical-align: middle;\n",
       "    }\n",
       "\n",
       "    .dataframe tbody tr th {\n",
       "        vertical-align: top;\n",
       "    }\n",
       "\n",
       "    .dataframe thead th {\n",
       "        text-align: right;\n",
       "    }\n",
       "</style>\n",
       "<table border=\"1\" class=\"dataframe\">\n",
       "  <thead>\n",
       "    <tr style=\"text-align: right;\">\n",
       "      <th></th>\n",
       "      <th>stations_id</th>\n",
       "      <th>Datum</th>\n",
       "      <th>Taegliche_Niederschlagshoehe</th>\n",
       "      <th>Niederschlagsform</th>\n",
       "      <th>Tageswert_Schneehoehe</th>\n",
       "    </tr>\n",
       "  </thead>\n",
       "  <tbody>\n",
       "    <tr>\n",
       "      <th>0</th>\n",
       "      <td>3631</td>\n",
       "      <td>1994-01-01</td>\n",
       "      <td>0.5</td>\n",
       "      <td>8.0</td>\n",
       "      <td>0.0</td>\n",
       "    </tr>\n",
       "    <tr>\n",
       "      <th>1</th>\n",
       "      <td>3631</td>\n",
       "      <td>1994-01-02</td>\n",
       "      <td>4.6</td>\n",
       "      <td>8.0</td>\n",
       "      <td>0.0</td>\n",
       "    </tr>\n",
       "    <tr>\n",
       "      <th>2</th>\n",
       "      <td>3631</td>\n",
       "      <td>1994-01-03</td>\n",
       "      <td>3.0</td>\n",
       "      <td>6.0</td>\n",
       "      <td>0.0</td>\n",
       "    </tr>\n",
       "    <tr>\n",
       "      <th>3</th>\n",
       "      <td>3631</td>\n",
       "      <td>1994-01-04</td>\n",
       "      <td>1.5</td>\n",
       "      <td>6.0</td>\n",
       "      <td>0.0</td>\n",
       "    </tr>\n",
       "    <tr>\n",
       "      <th>4</th>\n",
       "      <td>3631</td>\n",
       "      <td>1994-01-05</td>\n",
       "      <td>3.5</td>\n",
       "      <td>6.0</td>\n",
       "      <td>0.0</td>\n",
       "    </tr>\n",
       "    <tr>\n",
       "      <th>...</th>\n",
       "      <td>...</td>\n",
       "      <td>...</td>\n",
       "      <td>...</td>\n",
       "      <td>...</td>\n",
       "      <td>...</td>\n",
       "    </tr>\n",
       "    <tr>\n",
       "      <th>151114</th>\n",
       "      <td>850</td>\n",
       "      <td>2023-12-27</td>\n",
       "      <td>0.3</td>\n",
       "      <td>4.0</td>\n",
       "      <td>0.0</td>\n",
       "    </tr>\n",
       "    <tr>\n",
       "      <th>151115</th>\n",
       "      <td>850</td>\n",
       "      <td>2023-12-28</td>\n",
       "      <td>0.6</td>\n",
       "      <td>4.0</td>\n",
       "      <td>0.0</td>\n",
       "    </tr>\n",
       "    <tr>\n",
       "      <th>151116</th>\n",
       "      <td>850</td>\n",
       "      <td>2023-12-29</td>\n",
       "      <td>13.0</td>\n",
       "      <td>4.0</td>\n",
       "      <td>0.0</td>\n",
       "    </tr>\n",
       "    <tr>\n",
       "      <th>151117</th>\n",
       "      <td>850</td>\n",
       "      <td>2023-12-30</td>\n",
       "      <td>0.0</td>\n",
       "      <td>0.0</td>\n",
       "      <td>NaN</td>\n",
       "    </tr>\n",
       "    <tr>\n",
       "      <th>151118</th>\n",
       "      <td>850</td>\n",
       "      <td>2023-12-31</td>\n",
       "      <td>0.6</td>\n",
       "      <td>4.0</td>\n",
       "      <td>NaN</td>\n",
       "    </tr>\n",
       "  </tbody>\n",
       "</table>\n",
       "<p>151119 rows × 5 columns</p>\n",
       "</div>"
      ],
      "text/plain": [
       "        stations_id       Datum  Taegliche_Niederschlagshoehe  \\\n",
       "0              3631  1994-01-01                           0.5   \n",
       "1              3631  1994-01-02                           4.6   \n",
       "2              3631  1994-01-03                           3.0   \n",
       "3              3631  1994-01-04                           1.5   \n",
       "4              3631  1994-01-05                           3.5   \n",
       "...             ...         ...                           ...   \n",
       "151114          850  2023-12-27                           0.3   \n",
       "151115          850  2023-12-28                           0.6   \n",
       "151116          850  2023-12-29                          13.0   \n",
       "151117          850  2023-12-30                           0.0   \n",
       "151118          850  2023-12-31                           0.6   \n",
       "\n",
       "        Niederschlagsform  Tageswert_Schneehoehe  \n",
       "0                     8.0                    0.0  \n",
       "1                     8.0                    0.0  \n",
       "2                     6.0                    0.0  \n",
       "3                     6.0                    0.0  \n",
       "4                     6.0                    0.0  \n",
       "...                   ...                    ...  \n",
       "151114                4.0                    0.0  \n",
       "151115                4.0                    0.0  \n",
       "151116                4.0                    0.0  \n",
       "151117                0.0                    NaN  \n",
       "151118                4.0                    NaN  \n",
       "\n",
       "[151119 rows x 5 columns]"
      ]
     },
     "execution_count": 4,
     "metadata": {},
     "output_type": "execute_result"
    }
   ],
   "source": [
    "df_batch_result = spark.sql(\"SELECT * FROM rain\")\n",
    "\n",
    "df_batch_result.toPandas()"
   ]
  },
  {
   "cell_type": "code",
   "execution_count": 7,
   "id": "824f7565-c07a-49eb-aba4-c50648bc78ea",
   "metadata": {
    "tags": []
   },
   "outputs": [
    {
     "name": "stderr",
     "output_type": "stream",
     "text": [
      "                                                                                \r"
     ]
    },
    {
     "data": {
      "text/html": [
       "<div>\n",
       "<style scoped>\n",
       "    .dataframe tbody tr th:only-of-type {\n",
       "        vertical-align: middle;\n",
       "    }\n",
       "\n",
       "    .dataframe tbody tr th {\n",
       "        vertical-align: top;\n",
       "    }\n",
       "\n",
       "    .dataframe thead th {\n",
       "        text-align: right;\n",
       "    }\n",
       "</style>\n",
       "<table border=\"1\" class=\"dataframe\">\n",
       "  <thead>\n",
       "    <tr style=\"text-align: right;\">\n",
       "      <th></th>\n",
       "      <th>Jahr</th>\n",
       "      <th>Monat</th>\n",
       "      <th>avg(Taegliche_Niederschlagshoehe)</th>\n",
       "    </tr>\n",
       "  </thead>\n",
       "  <tbody>\n",
       "    <tr>\n",
       "      <th>0</th>\n",
       "      <td>1997</td>\n",
       "      <td>11</td>\n",
       "      <td>1.440769</td>\n",
       "    </tr>\n",
       "    <tr>\n",
       "      <th>1</th>\n",
       "      <td>2022</td>\n",
       "      <td>10</td>\n",
       "      <td>1.837097</td>\n",
       "    </tr>\n",
       "    <tr>\n",
       "      <th>2</th>\n",
       "      <td>1995</td>\n",
       "      <td>12</td>\n",
       "      <td>1.778495</td>\n",
       "    </tr>\n",
       "    <tr>\n",
       "      <th>3</th>\n",
       "      <td>2005</td>\n",
       "      <td>5</td>\n",
       "      <td>2.766590</td>\n",
       "    </tr>\n",
       "    <tr>\n",
       "      <th>4</th>\n",
       "      <td>1998</td>\n",
       "      <td>7</td>\n",
       "      <td>2.516935</td>\n",
       "    </tr>\n",
       "    <tr>\n",
       "      <th>...</th>\n",
       "      <td>...</td>\n",
       "      <td>...</td>\n",
       "      <td>...</td>\n",
       "    </tr>\n",
       "    <tr>\n",
       "      <th>355</th>\n",
       "      <td>2015</td>\n",
       "      <td>5</td>\n",
       "      <td>2.175914</td>\n",
       "    </tr>\n",
       "    <tr>\n",
       "      <th>356</th>\n",
       "      <td>1996</td>\n",
       "      <td>8</td>\n",
       "      <td>2.900993</td>\n",
       "    </tr>\n",
       "    <tr>\n",
       "      <th>357</th>\n",
       "      <td>2007</td>\n",
       "      <td>3</td>\n",
       "      <td>2.553456</td>\n",
       "    </tr>\n",
       "    <tr>\n",
       "      <th>358</th>\n",
       "      <td>2021</td>\n",
       "      <td>4</td>\n",
       "      <td>1.284762</td>\n",
       "    </tr>\n",
       "    <tr>\n",
       "      <th>359</th>\n",
       "      <td>1998</td>\n",
       "      <td>8</td>\n",
       "      <td>2.334946</td>\n",
       "    </tr>\n",
       "  </tbody>\n",
       "</table>\n",
       "<p>360 rows × 3 columns</p>\n",
       "</div>"
      ],
      "text/plain": [
       "     Jahr  Monat  avg(Taegliche_Niederschlagshoehe)\n",
       "0    1997     11                           1.440769\n",
       "1    2022     10                           1.837097\n",
       "2    1995     12                           1.778495\n",
       "3    2005      5                           2.766590\n",
       "4    1998      7                           2.516935\n",
       "..    ...    ...                                ...\n",
       "355  2015      5                           2.175914\n",
       "356  1996      8                           2.900993\n",
       "357  2007      3                           2.553456\n",
       "358  2021      4                           1.284762\n",
       "359  1998      8                           2.334946\n",
       "\n",
       "[360 rows x 3 columns]"
      ]
     },
     "execution_count": 7,
     "metadata": {},
     "output_type": "execute_result"
    }
   ],
   "source": [
    "df_batch_result = spark.sql(\n",
    "    \"\"\"\n",
    "    SELECT \n",
    "        YEAR(Datum) as Jahr, \n",
    "        MONTH(Datum) as Monat,\n",
    "        AVG(Taegliche_Niederschlagshoehe) as avg_Niederschlagshoehe\n",
    "    FROM \n",
    "        rain \n",
    "    GROUP BY \n",
    "        Jahr, Monat\n",
    "    \"\"\"\n",
    ")\n",
    "\n",
    "# In Pandas DataFrame umwandeln\n",
    "df_batch_result.toPandas()"
   ]
  },
  {
   "cell_type": "code",
   "execution_count": 8,
   "id": "a03a08fa-03af-4205-a2f1-085443154227",
   "metadata": {
    "tags": []
   },
   "outputs": [
    {
     "name": "stderr",
     "output_type": "stream",
     "text": [
      "                                                                                \r"
     ]
    }
   ],
   "source": [
    "df_batch_result.write.parquet(\"gs://dabi-project-bucket/DWH/Analitic_Results/Rain\", mode=\"overwrite\")"
   ]
  }
 ],
 "metadata": {
  "kernelspec": {
   "display_name": "PySpark",
   "language": "python",
   "name": "pyspark"
  },
  "language_info": {
   "codemirror_mode": {
    "name": "ipython",
    "version": 3
   },
   "file_extension": ".py",
   "mimetype": "text/x-python",
   "name": "python",
   "nbconvert_exporter": "python",
   "pygments_lexer": "ipython3",
   "version": "3.11.8"
  }
 },
 "nbformat": 4,
 "nbformat_minor": 5
}