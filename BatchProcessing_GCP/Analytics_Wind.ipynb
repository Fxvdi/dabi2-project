{
 "cells": [
  {
   "cell_type": "code",
   "execution_count": 2,
   "id": "ec596eb4-3410-4b17-ab4c-a907ed75553c",
   "metadata": {
    "tags": []
   },
   "outputs": [
    {
     "data": {
      "text/html": [
       "\n",
       "        <div>\n",
       "            <p><b>SparkContext</b></p>\n",
       "\n",
       "            <p><a href=\"http://cluster-a898-m.us-central1-c.c.dscb420-ad.internal:45193\">Spark UI</a></p>\n",
       "\n",
       "            <dl>\n",
       "              <dt>Version</dt>\n",
       "                <dd><code>v3.5.0</code></dd>\n",
       "              <dt>Master</dt>\n",
       "                <dd><code>yarn</code></dd>\n",
       "              <dt>AppName</dt>\n",
       "                <dd><code>PySparkShell</code></dd>\n",
       "            </dl>\n",
       "        </div>\n",
       "        "
      ],
      "text/plain": [
       "<SparkContext master=yarn appName=PySparkShell>"
      ]
     },
     "execution_count": 2,
     "metadata": {},
     "output_type": "execute_result"
    }
   ],
   "source": [
    "sc"
   ]
  },
  {
   "cell_type": "code",
   "execution_count": null,
   "id": "ec6d619e-a259-4cbd-806b-2bfea804ee32",
   "metadata": {
    "tags": []
   },
   "outputs": [
    {
     "name": "stderr",
     "output_type": "stream",
     "text": [
      "24/06/30 13:40:52 WARN YarnScheduler: Initial job has not accepted any resources; check your cluster UI to ensure that workers are registered and have sufficient resources\n",
      "24/06/30 13:41:07 WARN YarnScheduler: Initial job has not accepted any resources; check your cluster UI to ensure that workers are registered and have sufficient resources\n",
      "24/06/30 13:41:22 WARN YarnScheduler: Initial job has not accepted any resources; check your cluster UI to ensure that workers are registered and have sufficient resources\n",
      "24/06/30 13:41:37 WARN YarnScheduler: Initial job has not accepted any resources; check your cluster UI to ensure that workers are registered and have sufficient resources\n",
      "24/06/30 13:41:52 WARN YarnScheduler: Initial job has not accepted any resources; check your cluster UI to ensure that workers are registered and have sufficient resources\n"
     ]
    }
   ],
   "source": [
    "df = spark.read.parquet(\"gs://dabi-project-bucket/DWH/DIM_weather/wind\", inferSchema=True, header=True)\n",
    "df.createOrReplaceTempView(\"wind\")"
   ]
  },
  {
   "cell_type": "code",
   "execution_count": 11,
   "id": "824f7565-c07a-49eb-aba4-c50648bc78ea",
   "metadata": {
    "tags": []
   },
   "outputs": [
    {
     "name": "stderr",
     "output_type": "stream",
     "text": [
      "                                                                                \r"
     ]
    },
    {
     "data": {
      "text/html": [
       "<div>\n",
       "<style scoped>\n",
       "    .dataframe tbody tr th:only-of-type {\n",
       "        vertical-align: middle;\n",
       "    }\n",
       "\n",
       "    .dataframe tbody tr th {\n",
       "        vertical-align: top;\n",
       "    }\n",
       "\n",
       "    .dataframe thead th {\n",
       "        text-align: right;\n",
       "    }\n",
       "</style>\n",
       "<table border=\"1\" class=\"dataframe\">\n",
       "  <thead>\n",
       "    <tr style=\"text-align: right;\">\n",
       "      <th></th>\n",
       "      <th>Jahr</th>\n",
       "      <th>Monat</th>\n",
       "      <th>avg_windspitze</th>\n",
       "      <th>avg_windspeed</th>\n",
       "    </tr>\n",
       "  </thead>\n",
       "  <tbody>\n",
       "    <tr>\n",
       "      <th>0</th>\n",
       "      <td>2007</td>\n",
       "      <td>1</td>\n",
       "      <td>17.649597</td>\n",
       "      <td>6.912500</td>\n",
       "    </tr>\n",
       "    <tr>\n",
       "      <th>1</th>\n",
       "      <td>2002</td>\n",
       "      <td>2</td>\n",
       "      <td>16.977880</td>\n",
       "      <td>6.412054</td>\n",
       "    </tr>\n",
       "    <tr>\n",
       "      <th>2</th>\n",
       "      <td>2022</td>\n",
       "      <td>2</td>\n",
       "      <td>17.160714</td>\n",
       "      <td>6.335714</td>\n",
       "    </tr>\n",
       "    <tr>\n",
       "      <th>3</th>\n",
       "      <td>2020</td>\n",
       "      <td>2</td>\n",
       "      <td>17.304310</td>\n",
       "      <td>6.248707</td>\n",
       "    </tr>\n",
       "    <tr>\n",
       "      <th>4</th>\n",
       "      <td>1999</td>\n",
       "      <td>12</td>\n",
       "      <td>16.063043</td>\n",
       "      <td>6.096774</td>\n",
       "    </tr>\n",
       "    <tr>\n",
       "      <th>...</th>\n",
       "      <td>...</td>\n",
       "      <td>...</td>\n",
       "      <td>...</td>\n",
       "      <td>...</td>\n",
       "    </tr>\n",
       "    <tr>\n",
       "      <th>355</th>\n",
       "      <td>2006</td>\n",
       "      <td>7</td>\n",
       "      <td>9.862007</td>\n",
       "      <td>2.967384</td>\n",
       "    </tr>\n",
       "    <tr>\n",
       "      <th>356</th>\n",
       "      <td>1995</td>\n",
       "      <td>10</td>\n",
       "      <td>8.600719</td>\n",
       "      <td>2.937993</td>\n",
       "    </tr>\n",
       "    <tr>\n",
       "      <th>357</th>\n",
       "      <td>2002</td>\n",
       "      <td>8</td>\n",
       "      <td>9.150000</td>\n",
       "      <td>2.907168</td>\n",
       "    </tr>\n",
       "    <tr>\n",
       "      <th>358</th>\n",
       "      <td>1997</td>\n",
       "      <td>8</td>\n",
       "      <td>9.254480</td>\n",
       "      <td>2.832258</td>\n",
       "    </tr>\n",
       "    <tr>\n",
       "      <th>359</th>\n",
       "      <td>1994</td>\n",
       "      <td>7</td>\n",
       "      <td>10.128520</td>\n",
       "      <td>2.793548</td>\n",
       "    </tr>\n",
       "  </tbody>\n",
       "</table>\n",
       "<p>360 rows × 4 columns</p>\n",
       "</div>"
      ],
      "text/plain": [
       "     Jahr  Monat  avg_windspitze  avg_windspeed\n",
       "0    2007      1       17.649597       6.912500\n",
       "1    2002      2       16.977880       6.412054\n",
       "2    2022      2       17.160714       6.335714\n",
       "3    2020      2       17.304310       6.248707\n",
       "4    1999     12       16.063043       6.096774\n",
       "..    ...    ...             ...            ...\n",
       "355  2006      7        9.862007       2.967384\n",
       "356  1995     10        8.600719       2.937993\n",
       "357  2002      8        9.150000       2.907168\n",
       "358  1997      8        9.254480       2.832258\n",
       "359  1994      7       10.128520       2.793548\n",
       "\n",
       "[360 rows x 4 columns]"
      ]
     },
     "execution_count": 11,
     "metadata": {},
     "output_type": "execute_result"
    }
   ],
   "source": [
    "df_batch_result = spark.sql(\n",
    "    \"\"\"\n",
    "    SELECT \n",
    "        YEAR(Datum) as Jahr,\n",
    "        MONTH(Datum) as Monat, \n",
    "        MIN(Tagesmax_Windspitze) as avg_windspitze, \n",
    "        MIN(Tagesavg_Windgeschwindigkeit) as avg_windspeed \n",
    "    FROM wind \n",
    "    GROUP BY Jahr, Monat\n",
    "    \"\"\"\n",
    ")\n",
    "\n",
    "df_batch_result.toPandas()"
   ]
  },
  {
   "cell_type": "code",
   "execution_count": null,
   "id": "ef184ace-1cb0-4300-862b-33db44c9dd71",
   "metadata": {},
   "outputs": [],
   "source": [
    "df_batch_result = spark.sql(\n",
    "    \"\"\"\n",
    "    SELECT \n",
    "        YEAR(Datum) as Jahr,\n",
    "        MONTH(Datum) as Monat, \n",
    "        MIN(Tagesmax_Windspitze) as min_windspitze, \n",
    "        MIN(Tagesavg_Windgeschwindigkeit) as min_windspeed \n",
    "    FROM wind \n",
    "    GROUP BY Jahr, Monat\n",
    "    \"\"\"\n",
    ")\n",
    "\n",
    "df_batch_result.toPandas()"
   ]
  },
  {
   "cell_type": "code",
   "execution_count": null,
   "id": "15b8529c-9301-46e6-bfe3-54f58e6aafd0",
   "metadata": {},
   "outputs": [],
   "source": [
    "df_batch_result = spark.sql(\n",
    "    \"\"\"\n",
    "    SELECT \n",
    "        YEAR(Datum) as Jahr,\n",
    "        MONTH(Datum) as Monat, \n",
    "        MAX(Tagesmax_Windspitze) as max_windspitze, \n",
    "        MAX(Tagesavg_Windgeschwindigkeit) as max_windspeed \n",
    "    FROM wind \n",
    "    GROUP BY Jahr, Monat\n",
    "    \"\"\"\n",
    ")\n",
    "\n",
    "df_batch_result.toPandas()"
   ]
  },
  {
   "cell_type": "code",
   "execution_count": 16,
   "id": "a03a08fa-03af-4205-a2f1-085443154227",
   "metadata": {
    "tags": []
   },
   "outputs": [
    {
     "name": "stderr",
     "output_type": "stream",
     "text": [
      "                                                                                \r"
     ]
    }
   ],
   "source": [
    "df_batch_result.write.parquet(\"gs://dabi-project-bucket/DWH/Analitic_Results/Wind/max\", mode=\"overwrite\")"
   ]
  }
 ],
 "metadata": {
  "kernelspec": {
   "display_name": "PySpark",
   "language": "python",
   "name": "pyspark"
  },
  "language_info": {
   "codemirror_mode": {
    "name": "ipython",
    "version": 3
   },
   "file_extension": ".py",
   "mimetype": "text/x-python",
   "name": "python",
   "nbconvert_exporter": "python",
   "pygments_lexer": "ipython3",
   "version": "3.11.8"
  }
 },
 "nbformat": 4,
 "nbformat_minor": 5
}