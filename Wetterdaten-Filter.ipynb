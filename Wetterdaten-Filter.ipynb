{
 "cells": [
  {
   "cell_type": "markdown",
   "metadata": {},
   "source": [
    "## Wetterdaten data cleaning & filter"
   ]
  },
  {
   "cell_type": "markdown",
   "metadata": {},
   "source": [
    "test für das säubern und formatieren von Wetterdaten\n",
    "\n",
    "__Ziel__: Mit einer Schleife auf alle Ordner/csv-Dateien durchführen lassen"
   ]
  },
  {
   "cell_type": "code",
   "execution_count": 53,
   "metadata": {},
   "outputs": [],
   "source": [
    "import pandas as pd"
   ]
  },
  {
   "cell_type": "code",
   "execution_count": 416,
   "metadata": {},
   "outputs": [
    {
     "data": {
      "text/html": [
       "<div>\n",
       "<style scoped>\n",
       "    .dataframe tbody tr th:only-of-type {\n",
       "        vertical-align: middle;\n",
       "    }\n",
       "\n",
       "    .dataframe tbody tr th {\n",
       "        vertical-align: top;\n",
       "    }\n",
       "\n",
       "    .dataframe thead th {\n",
       "        text-align: right;\n",
       "    }\n",
       "</style>\n",
       "<table border=\"1\" class=\"dataframe\">\n",
       "  <thead>\n",
       "    <tr style=\"text-align: right;\">\n",
       "      <th></th>\n",
       "      <th>STATIONS_ID</th>\n",
       "      <th>MESS_DATUM</th>\n",
       "      <th>QN_3</th>\n",
       "      <th>FX</th>\n",
       "      <th>FM</th>\n",
       "      <th>QN_4</th>\n",
       "      <th>RSK</th>\n",
       "      <th>RSKF</th>\n",
       "      <th>SDK</th>\n",
       "      <th>SHK_TAG</th>\n",
       "      <th>NM</th>\n",
       "      <th>VPM</th>\n",
       "      <th>PM</th>\n",
       "      <th>TMK</th>\n",
       "      <th>UPM</th>\n",
       "      <th>TXK</th>\n",
       "      <th>TNK</th>\n",
       "      <th>TGK</th>\n",
       "      <th>eor</th>\n",
       "    </tr>\n",
       "  </thead>\n",
       "  <tbody>\n",
       "    <tr>\n",
       "      <th>0</th>\n",
       "      <td>5792</td>\n",
       "      <td>19000801</td>\n",
       "      <td>-999</td>\n",
       "      <td>-999.0</td>\n",
       "      <td>-999.0</td>\n",
       "      <td>5</td>\n",
       "      <td>-999.0</td>\n",
       "      <td>-999</td>\n",
       "      <td>15.0</td>\n",
       "      <td>-999</td>\n",
       "      <td>0.0</td>\n",
       "      <td>3.9</td>\n",
       "      <td>715.3</td>\n",
       "      <td>2.0</td>\n",
       "      <td>50.0</td>\n",
       "      <td>6.2</td>\n",
       "      <td>-3.6</td>\n",
       "      <td>-999</td>\n",
       "      <td>eor</td>\n",
       "    </tr>\n",
       "    <tr>\n",
       "      <th>1</th>\n",
       "      <td>5792</td>\n",
       "      <td>19000802</td>\n",
       "      <td>-999</td>\n",
       "      <td>-999.0</td>\n",
       "      <td>-999.0</td>\n",
       "      <td>5</td>\n",
       "      <td>-999.0</td>\n",
       "      <td>-999</td>\n",
       "      <td>6.2</td>\n",
       "      <td>-999</td>\n",
       "      <td>5.0</td>\n",
       "      <td>8.3</td>\n",
       "      <td>713.7</td>\n",
       "      <td>5.7</td>\n",
       "      <td>88.0</td>\n",
       "      <td>12.6</td>\n",
       "      <td>2.2</td>\n",
       "      <td>-999</td>\n",
       "      <td>eor</td>\n",
       "    </tr>\n",
       "    <tr>\n",
       "      <th>2</th>\n",
       "      <td>5792</td>\n",
       "      <td>19000803</td>\n",
       "      <td>-999</td>\n",
       "      <td>-999.0</td>\n",
       "      <td>-999.0</td>\n",
       "      <td>5</td>\n",
       "      <td>-999.0</td>\n",
       "      <td>-999</td>\n",
       "      <td>1.3</td>\n",
       "      <td>-999</td>\n",
       "      <td>8.0</td>\n",
       "      <td>7.9</td>\n",
       "      <td>710.6</td>\n",
       "      <td>3.6</td>\n",
       "      <td>96.0</td>\n",
       "      <td>7.9</td>\n",
       "      <td>1.2</td>\n",
       "      <td>-999</td>\n",
       "      <td>eor</td>\n",
       "    </tr>\n",
       "    <tr>\n",
       "      <th>3</th>\n",
       "      <td>5792</td>\n",
       "      <td>19000804</td>\n",
       "      <td>-999</td>\n",
       "      <td>-999.0</td>\n",
       "      <td>-999.0</td>\n",
       "      <td>5</td>\n",
       "      <td>-999.0</td>\n",
       "      <td>-999</td>\n",
       "      <td>0.0</td>\n",
       "      <td>-999</td>\n",
       "      <td>8.0</td>\n",
       "      <td>6.3</td>\n",
       "      <td>706.3</td>\n",
       "      <td>0.6</td>\n",
       "      <td>98.0</td>\n",
       "      <td>5.2</td>\n",
       "      <td>-2.8</td>\n",
       "      <td>-999</td>\n",
       "      <td>eor</td>\n",
       "    </tr>\n",
       "    <tr>\n",
       "      <th>4</th>\n",
       "      <td>5792</td>\n",
       "      <td>19000805</td>\n",
       "      <td>-999</td>\n",
       "      <td>-999.0</td>\n",
       "      <td>-999.0</td>\n",
       "      <td>5</td>\n",
       "      <td>-999.0</td>\n",
       "      <td>-999</td>\n",
       "      <td>0.0</td>\n",
       "      <td>-999</td>\n",
       "      <td>8.0</td>\n",
       "      <td>4.4</td>\n",
       "      <td>705.9</td>\n",
       "      <td>-3.9</td>\n",
       "      <td>95.0</td>\n",
       "      <td>-0.9</td>\n",
       "      <td>-5.4</td>\n",
       "      <td>-999</td>\n",
       "      <td>eor</td>\n",
       "    </tr>\n",
       "  </tbody>\n",
       "</table>\n",
       "</div>"
      ],
      "text/plain": [
       "   STATIONS_ID  MESS_DATUM  QN_3     FX     FM  QN_4    RSK  RSKF   SDK  \\\n",
       "0         5792    19000801  -999 -999.0 -999.0     5 -999.0  -999  15.0   \n",
       "1         5792    19000802  -999 -999.0 -999.0     5 -999.0  -999   6.2   \n",
       "2         5792    19000803  -999 -999.0 -999.0     5 -999.0  -999   1.3   \n",
       "3         5792    19000804  -999 -999.0 -999.0     5 -999.0  -999   0.0   \n",
       "4         5792    19000805  -999 -999.0 -999.0     5 -999.0  -999   0.0   \n",
       "\n",
       "   SHK_TAG    NM   VPM     PM   TMK   UPM   TXK   TNK   TGK  eor  \n",
       "0     -999   0.0   3.9  715.3   2.0  50.0   6.2  -3.6  -999  eor  \n",
       "1     -999   5.0   8.3  713.7   5.7  88.0  12.6   2.2  -999  eor  \n",
       "2     -999   8.0   7.9  710.6   3.6  96.0   7.9   1.2  -999  eor  \n",
       "3     -999   8.0   6.3  706.3   0.6  98.0   5.2  -2.8  -999  eor  \n",
       "4     -999   8.0   4.4  705.9  -3.9  95.0  -0.9  -5.4  -999  eor  "
      ]
     },
     "execution_count": 416,
     "metadata": {},
     "output_type": "execute_result"
    }
   ],
   "source": [
    "df_weather = pd.read_csv(\"Daten/Wetterdaten/tageswerte_KL_05792_19000801_20231231_hist/produkt_klima_tag_19000801_20231231_05792.csv\", delimiter=\";\")\n",
    "df_weather.head()\n",
    "# Daten\\Wetterdaten\\tageswerte_KL_05792_19000801_20231231_hist\\produkt_klima_tag_19000801_20231231_05792.csv"
   ]
  },
  {
   "cell_type": "markdown",
   "metadata": {},
   "source": [
    "### int zu datetime"
   ]
  },
  {
   "cell_type": "code",
   "execution_count": 417,
   "metadata": {},
   "outputs": [],
   "source": [
    "df_weather[\"MESS_DATUM\"] = pd.to_datetime(df_weather[\"MESS_DATUM\"], format='%Y%m%d')"
   ]
  },
  {
   "cell_type": "code",
   "execution_count": 418,
   "metadata": {},
   "outputs": [
    {
     "data": {
      "text/plain": [
       "STATIONS_ID             int64\n",
       "MESS_DATUM     datetime64[ns]\n",
       "QN_3                    int64\n",
       "  FX                  float64\n",
       "  FM                  float64\n",
       "QN_4                    int64\n",
       " RSK                  float64\n",
       "RSKF                    int64\n",
       " SDK                  float64\n",
       "SHK_TAG                 int64\n",
       "  NM                  float64\n",
       " VPM                  float64\n",
       "  PM                  float64\n",
       " TMK                  float64\n",
       " UPM                  float64\n",
       " TXK                  float64\n",
       " TNK                  float64\n",
       " TGK                    int64\n",
       "eor                    object\n",
       "dtype: object"
      ]
     },
     "execution_count": 418,
     "metadata": {},
     "output_type": "execute_result"
    }
   ],
   "source": [
    "df_weather.dtypes"
   ]
  },
  {
   "cell_type": "markdown",
   "metadata": {},
   "source": [
    "### löschen von Spalten\n",
    "__Spalten die nur das Qualitätsbyte -999 enthalten sollen gelöscht werden__"
   ]
  },
  {
   "cell_type": "code",
   "execution_count": 342,
   "metadata": {},
   "outputs": [
    {
     "data": {
      "text/plain": [
       "<NumpyExtensionArray>\n",
       "['STATIONS_ID',  'MESS_DATUM',        'QN_3',        '  FX',        '  FM',\n",
       "        'QN_4',        ' RSK',        'RSKF',        ' SDK',     'SHK_TAG',\n",
       "        '  NM',        ' VPM',        '  PM',        ' TMK',        ' UPM',\n",
       "        ' TXK',        ' TNK',        ' TGK',         'eor']\n",
       "Length: 19, dtype: object"
      ]
     },
     "execution_count": 342,
     "metadata": {},
     "output_type": "execute_result"
    }
   ],
   "source": [
    "df_weather.columns.array"
   ]
  },
  {
   "cell_type": "code",
   "execution_count": 434,
   "metadata": {},
   "outputs": [
    {
     "data": {
      "text/plain": [
       "array([-999], dtype=int64)"
      ]
     },
     "execution_count": 434,
     "metadata": {},
     "output_type": "execute_result"
    }
   ],
   "source": [
    "#df_weather[\"STATIONS_ID\"].unique()\n",
    "#df_weather[\"MESS_DATUM\"].unique()\n",
    "#df_weather[\"QN_3\"].unique()\n",
    "#df_weather[\"  FX\"].unique()\n",
    "#df_weather[\"  FM\"].unique()\n",
    "#df_weather[\"QN_4\"].unique()\n",
    "#df_weather[\" RSK\"].unique()\n",
    "#df_weather[\"RSKF\"].unique()\n",
    "#df_weather[\" SDK\"].unique()\n",
    "#df_weather[\"SHK_TAG\"].unique()\n",
    "#df_weather[\"  NM\"].unique()\n",
    "#df_weather[\" VPM\"].unique()\n",
    "#df_weather[\"  PM\"].unique()\n",
    "#df_weather[\" TMK\"].unique()\n",
    "#df_weather[\" UPM\"].unique()\n",
    "#df_weather[\" TXK\"].unique()\n",
    "#df_weather[\" TNK\"].unique()\n",
    "df_weather[\" TGK\"].unique()\n",
    "#df_weather[\"eor\"].unique()\n"
   ]
  },
  {
   "cell_type": "code",
   "execution_count": 435,
   "metadata": {},
   "outputs": [],
   "source": [
    "columns_to_drop = [\"STATIONS_ID\", \"eor\", \" TGK\"]\n",
    "df_weather = df_weather.drop(columns=columns_to_drop)"
   ]
  },
  {
   "cell_type": "code",
   "execution_count": 436,
   "metadata": {},
   "outputs": [
    {
     "data": {
      "text/html": [
       "<div>\n",
       "<style scoped>\n",
       "    .dataframe tbody tr th:only-of-type {\n",
       "        vertical-align: middle;\n",
       "    }\n",
       "\n",
       "    .dataframe tbody tr th {\n",
       "        vertical-align: top;\n",
       "    }\n",
       "\n",
       "    .dataframe thead th {\n",
       "        text-align: right;\n",
       "    }\n",
       "</style>\n",
       "<table border=\"1\" class=\"dataframe\">\n",
       "  <thead>\n",
       "    <tr style=\"text-align: right;\">\n",
       "      <th></th>\n",
       "      <th>MESS_DATUM</th>\n",
       "      <th>QN_3</th>\n",
       "      <th>FX</th>\n",
       "      <th>FM</th>\n",
       "      <th>QN_4</th>\n",
       "      <th>RSK</th>\n",
       "      <th>RSKF</th>\n",
       "      <th>SDK</th>\n",
       "      <th>SHK_TAG</th>\n",
       "      <th>NM</th>\n",
       "      <th>VPM</th>\n",
       "      <th>PM</th>\n",
       "      <th>TMK</th>\n",
       "      <th>UPM</th>\n",
       "      <th>TXK</th>\n",
       "      <th>TNK</th>\n",
       "    </tr>\n",
       "  </thead>\n",
       "  <tbody>\n",
       "    <tr>\n",
       "      <th>0</th>\n",
       "      <td>1900-08-01</td>\n",
       "      <td>-999</td>\n",
       "      <td>-999.0</td>\n",
       "      <td>-999.0</td>\n",
       "      <td>5</td>\n",
       "      <td>-999.0</td>\n",
       "      <td>-999</td>\n",
       "      <td>15.0</td>\n",
       "      <td>-999</td>\n",
       "      <td>0.0</td>\n",
       "      <td>3.9</td>\n",
       "      <td>715.3</td>\n",
       "      <td>2.0</td>\n",
       "      <td>50.0</td>\n",
       "      <td>6.2</td>\n",
       "      <td>-3.6</td>\n",
       "    </tr>\n",
       "    <tr>\n",
       "      <th>1</th>\n",
       "      <td>1900-08-02</td>\n",
       "      <td>-999</td>\n",
       "      <td>-999.0</td>\n",
       "      <td>-999.0</td>\n",
       "      <td>5</td>\n",
       "      <td>-999.0</td>\n",
       "      <td>-999</td>\n",
       "      <td>6.2</td>\n",
       "      <td>-999</td>\n",
       "      <td>5.0</td>\n",
       "      <td>8.3</td>\n",
       "      <td>713.7</td>\n",
       "      <td>5.7</td>\n",
       "      <td>88.0</td>\n",
       "      <td>12.6</td>\n",
       "      <td>2.2</td>\n",
       "    </tr>\n",
       "    <tr>\n",
       "      <th>2</th>\n",
       "      <td>1900-08-03</td>\n",
       "      <td>-999</td>\n",
       "      <td>-999.0</td>\n",
       "      <td>-999.0</td>\n",
       "      <td>5</td>\n",
       "      <td>-999.0</td>\n",
       "      <td>-999</td>\n",
       "      <td>1.3</td>\n",
       "      <td>-999</td>\n",
       "      <td>8.0</td>\n",
       "      <td>7.9</td>\n",
       "      <td>710.6</td>\n",
       "      <td>3.6</td>\n",
       "      <td>96.0</td>\n",
       "      <td>7.9</td>\n",
       "      <td>1.2</td>\n",
       "    </tr>\n",
       "    <tr>\n",
       "      <th>3</th>\n",
       "      <td>1900-08-04</td>\n",
       "      <td>-999</td>\n",
       "      <td>-999.0</td>\n",
       "      <td>-999.0</td>\n",
       "      <td>5</td>\n",
       "      <td>-999.0</td>\n",
       "      <td>-999</td>\n",
       "      <td>0.0</td>\n",
       "      <td>-999</td>\n",
       "      <td>8.0</td>\n",
       "      <td>6.3</td>\n",
       "      <td>706.3</td>\n",
       "      <td>0.6</td>\n",
       "      <td>98.0</td>\n",
       "      <td>5.2</td>\n",
       "      <td>-2.8</td>\n",
       "    </tr>\n",
       "    <tr>\n",
       "      <th>4</th>\n",
       "      <td>1900-08-05</td>\n",
       "      <td>-999</td>\n",
       "      <td>-999.0</td>\n",
       "      <td>-999.0</td>\n",
       "      <td>5</td>\n",
       "      <td>-999.0</td>\n",
       "      <td>-999</td>\n",
       "      <td>0.0</td>\n",
       "      <td>-999</td>\n",
       "      <td>8.0</td>\n",
       "      <td>4.4</td>\n",
       "      <td>705.9</td>\n",
       "      <td>-3.9</td>\n",
       "      <td>95.0</td>\n",
       "      <td>-0.9</td>\n",
       "      <td>-5.4</td>\n",
       "    </tr>\n",
       "  </tbody>\n",
       "</table>\n",
       "</div>"
      ],
      "text/plain": [
       "  MESS_DATUM  QN_3     FX     FM  QN_4    RSK  RSKF   SDK  SHK_TAG    NM  \\\n",
       "0 1900-08-01  -999 -999.0 -999.0     5 -999.0  -999  15.0     -999   0.0   \n",
       "1 1900-08-02  -999 -999.0 -999.0     5 -999.0  -999   6.2     -999   5.0   \n",
       "2 1900-08-03  -999 -999.0 -999.0     5 -999.0  -999   1.3     -999   8.0   \n",
       "3 1900-08-04  -999 -999.0 -999.0     5 -999.0  -999   0.0     -999   8.0   \n",
       "4 1900-08-05  -999 -999.0 -999.0     5 -999.0  -999   0.0     -999   8.0   \n",
       "\n",
       "    VPM     PM   TMK   UPM   TXK   TNK  \n",
       "0   3.9  715.3   2.0  50.0   6.2  -3.6  \n",
       "1   8.3  713.7   5.7  88.0  12.6   2.2  \n",
       "2   7.9  710.6   3.6  96.0   7.9   1.2  \n",
       "3   6.3  706.3   0.6  98.0   5.2  -2.8  \n",
       "4   4.4  705.9  -3.9  95.0  -0.9  -5.4  "
      ]
     },
     "execution_count": 436,
     "metadata": {},
     "output_type": "execute_result"
    }
   ],
   "source": [
    "df_weather.head()"
   ]
  },
  {
   "cell_type": "markdown",
   "metadata": {},
   "source": [
    "### filter abspeichern"
   ]
  },
  {
   "cell_type": "code",
   "execution_count": 437,
   "metadata": {},
   "outputs": [
    {
     "name": "stdout",
     "output_type": "stream",
     "text": [
      "Die CSV-Datei wurde gespeichert: e:\\OneDrive\\Hochschule\\DSC_Semester4\\Data Analytics and Business Intelligence 2\\Projekt\\dabi2-project\\Daten\\cleaned_data\\5792_produkt_klima_tag\n"
     ]
    }
   ],
   "source": [
    "filename = \"Daten/cleaned_data/5792_produkt_klima_tag\"\n",
    "df_weather.to_csv(filename, index=False)\n",
    "# Bestätige die Speicherung der CSV-Datei\n",
    "import os\n",
    "print(f\"Die CSV-Datei wurde gespeichert: {os.path.abspath(filename)}\")"
   ]
  },
  {
   "cell_type": "markdown",
   "metadata": {},
   "source": [
    "### Filter auf alle produkt_klima_tag*-Dateien"
   ]
  },
  {
   "cell_type": "markdown",
   "metadata": {},
   "source": [
    "### (Je Nach Untersuchungsart nochmal aufteilen)\n",
    "__zum Beispiel \"Wind\", \"Niederschlag\", \"Temperatur\", ...__"
   ]
  }
 ],
 "metadata": {
  "kernelspec": {
   "display_name": "dsc4",
   "language": "python",
   "name": "python3"
  },
  "language_info": {
   "codemirror_mode": {
    "name": "ipython",
    "version": 3
   },
   "file_extension": ".py",
   "mimetype": "text/x-python",
   "name": "python",
   "nbconvert_exporter": "python",
   "pygments_lexer": "ipython3",
   "version": "3.11.9"
  }
 },
 "nbformat": 4,
 "nbformat_minor": 2
}
