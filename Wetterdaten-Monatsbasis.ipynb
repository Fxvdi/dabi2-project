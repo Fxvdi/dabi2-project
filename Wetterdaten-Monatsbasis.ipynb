{
 "cells": [
  {
   "cell_type": "code",
   "execution_count": 367,
   "metadata": {},
   "outputs": [],
   "source": [
    "import pandas as pd\n",
    "import numpy as np"
   ]
  },
  {
   "cell_type": "code",
   "execution_count": 368,
   "metadata": {},
   "outputs": [],
   "source": [
    "station_id = \"377\""
   ]
  },
  {
   "cell_type": "code",
   "execution_count": 369,
   "metadata": {},
   "outputs": [],
   "source": [
    "df_monthly = pd.read_csv(f\"Daten/cleaned_data/{station_id}_produkt_klima_tag.csv\")"
   ]
  },
  {
   "cell_type": "code",
   "execution_count": 370,
   "metadata": {},
   "outputs": [
    {
     "data": {
      "text/html": [
       "<div>\n",
       "<style scoped>\n",
       "    .dataframe tbody tr th:only-of-type {\n",
       "        vertical-align: middle;\n",
       "    }\n",
       "\n",
       "    .dataframe tbody tr th {\n",
       "        vertical-align: top;\n",
       "    }\n",
       "\n",
       "    .dataframe thead th {\n",
       "        text-align: right;\n",
       "    }\n",
       "</style>\n",
       "<table border=\"1\" class=\"dataframe\">\n",
       "  <thead>\n",
       "    <tr style=\"text-align: right;\">\n",
       "      <th></th>\n",
       "      <th>MESS_DATUM</th>\n",
       "      <th>RSK</th>\n",
       "      <th>RSKF</th>\n",
       "      <th>SDK</th>\n",
       "      <th>SHK_TAG</th>\n",
       "      <th>NM</th>\n",
       "      <th>VPM</th>\n",
       "      <th>TMK</th>\n",
       "      <th>UPM</th>\n",
       "      <th>TXK</th>\n",
       "      <th>TNK</th>\n",
       "      <th>TGK</th>\n",
       "    </tr>\n",
       "  </thead>\n",
       "  <tbody>\n",
       "    <tr>\n",
       "      <th>0</th>\n",
       "      <td>1947-01-01</td>\n",
       "      <td>0.0</td>\n",
       "      <td>0</td>\n",
       "      <td>2.0</td>\n",
       "      <td>6</td>\n",
       "      <td>6.3</td>\n",
       "      <td>5.9</td>\n",
       "      <td>0.2</td>\n",
       "      <td>93.00</td>\n",
       "      <td>3.7</td>\n",
       "      <td>-3.9</td>\n",
       "      <td>-999.0</td>\n",
       "    </tr>\n",
       "    <tr>\n",
       "      <th>1</th>\n",
       "      <td>1947-01-02</td>\n",
       "      <td>0.1</td>\n",
       "      <td>7</td>\n",
       "      <td>0.0</td>\n",
       "      <td>3</td>\n",
       "      <td>7.7</td>\n",
       "      <td>5.6</td>\n",
       "      <td>0.2</td>\n",
       "      <td>90.00</td>\n",
       "      <td>1.8</td>\n",
       "      <td>-3.5</td>\n",
       "      <td>-999.0</td>\n",
       "    </tr>\n",
       "    <tr>\n",
       "      <th>2</th>\n",
       "      <td>1947-01-03</td>\n",
       "      <td>0.0</td>\n",
       "      <td>0</td>\n",
       "      <td>0.0</td>\n",
       "      <td>3</td>\n",
       "      <td>6.0</td>\n",
       "      <td>6.0</td>\n",
       "      <td>0.9</td>\n",
       "      <td>90.00</td>\n",
       "      <td>2.7</td>\n",
       "      <td>-1.0</td>\n",
       "      <td>-999.0</td>\n",
       "    </tr>\n",
       "    <tr>\n",
       "      <th>3</th>\n",
       "      <td>1947-01-04</td>\n",
       "      <td>0.0</td>\n",
       "      <td>0</td>\n",
       "      <td>4.7</td>\n",
       "      <td>2</td>\n",
       "      <td>3.7</td>\n",
       "      <td>3.7</td>\n",
       "      <td>-4.7</td>\n",
       "      <td>81.00</td>\n",
       "      <td>1.5</td>\n",
       "      <td>-8.4</td>\n",
       "      <td>-999.0</td>\n",
       "    </tr>\n",
       "    <tr>\n",
       "      <th>4</th>\n",
       "      <td>1947-01-05</td>\n",
       "      <td>0.0</td>\n",
       "      <td>0</td>\n",
       "      <td>6.6</td>\n",
       "      <td>1</td>\n",
       "      <td>0.0</td>\n",
       "      <td>2.0</td>\n",
       "      <td>-10.6</td>\n",
       "      <td>70.00</td>\n",
       "      <td>-4.5</td>\n",
       "      <td>-12.2</td>\n",
       "      <td>-999.0</td>\n",
       "    </tr>\n",
       "    <tr>\n",
       "      <th>...</th>\n",
       "      <td>...</td>\n",
       "      <td>...</td>\n",
       "      <td>...</td>\n",
       "      <td>...</td>\n",
       "      <td>...</td>\n",
       "      <td>...</td>\n",
       "      <td>...</td>\n",
       "      <td>...</td>\n",
       "      <td>...</td>\n",
       "      <td>...</td>\n",
       "      <td>...</td>\n",
       "      <td>...</td>\n",
       "    </tr>\n",
       "    <tr>\n",
       "      <th>27473</th>\n",
       "      <td>2023-12-27</td>\n",
       "      <td>0.0</td>\n",
       "      <td>0</td>\n",
       "      <td>-999.0</td>\n",
       "      <td>0</td>\n",
       "      <td>-999.0</td>\n",
       "      <td>8.3</td>\n",
       "      <td>6.5</td>\n",
       "      <td>84.75</td>\n",
       "      <td>8.5</td>\n",
       "      <td>3.1</td>\n",
       "      <td>0.6</td>\n",
       "    </tr>\n",
       "    <tr>\n",
       "      <th>27474</th>\n",
       "      <td>2023-12-28</td>\n",
       "      <td>1.1</td>\n",
       "      <td>4</td>\n",
       "      <td>-999.0</td>\n",
       "      <td>0</td>\n",
       "      <td>-999.0</td>\n",
       "      <td>9.4</td>\n",
       "      <td>8.8</td>\n",
       "      <td>82.08</td>\n",
       "      <td>10.5</td>\n",
       "      <td>5.2</td>\n",
       "      <td>2.8</td>\n",
       "    </tr>\n",
       "    <tr>\n",
       "      <th>27475</th>\n",
       "      <td>2023-12-29</td>\n",
       "      <td>0.1</td>\n",
       "      <td>4</td>\n",
       "      <td>-999.0</td>\n",
       "      <td>0</td>\n",
       "      <td>-999.0</td>\n",
       "      <td>9.2</td>\n",
       "      <td>10.4</td>\n",
       "      <td>73.13</td>\n",
       "      <td>12.7</td>\n",
       "      <td>8.3</td>\n",
       "      <td>7.4</td>\n",
       "    </tr>\n",
       "    <tr>\n",
       "      <th>27476</th>\n",
       "      <td>2023-12-30</td>\n",
       "      <td>0.0</td>\n",
       "      <td>0</td>\n",
       "      <td>-999.0</td>\n",
       "      <td>0</td>\n",
       "      <td>-999.0</td>\n",
       "      <td>9.1</td>\n",
       "      <td>9.2</td>\n",
       "      <td>78.08</td>\n",
       "      <td>11.8</td>\n",
       "      <td>5.9</td>\n",
       "      <td>2.8</td>\n",
       "    </tr>\n",
       "    <tr>\n",
       "      <th>27477</th>\n",
       "      <td>2023-12-31</td>\n",
       "      <td>2.1</td>\n",
       "      <td>4</td>\n",
       "      <td>-999.0</td>\n",
       "      <td>0</td>\n",
       "      <td>-999.0</td>\n",
       "      <td>8.1</td>\n",
       "      <td>6.4</td>\n",
       "      <td>84.21</td>\n",
       "      <td>10.0</td>\n",
       "      <td>4.5</td>\n",
       "      <td>1.9</td>\n",
       "    </tr>\n",
       "  </tbody>\n",
       "</table>\n",
       "<p>27478 rows × 12 columns</p>\n",
       "</div>"
      ],
      "text/plain": [
       "       MESS_DATUM   RSK  RSKF    SDK  SHK_TAG     NM   VPM   TMK    UPM   TXK  \\\n",
       "0      1947-01-01   0.0     0    2.0        6    6.3   5.9   0.2  93.00   3.7   \n",
       "1      1947-01-02   0.1     7    0.0        3    7.7   5.6   0.2  90.00   1.8   \n",
       "2      1947-01-03   0.0     0    0.0        3    6.0   6.0   0.9  90.00   2.7   \n",
       "3      1947-01-04   0.0     0    4.7        2    3.7   3.7  -4.7  81.00   1.5   \n",
       "4      1947-01-05   0.0     0    6.6        1    0.0   2.0 -10.6  70.00  -4.5   \n",
       "...           ...   ...   ...    ...      ...    ...   ...   ...    ...   ...   \n",
       "27473  2023-12-27   0.0     0 -999.0        0 -999.0   8.3   6.5  84.75   8.5   \n",
       "27474  2023-12-28   1.1     4 -999.0        0 -999.0   9.4   8.8  82.08  10.5   \n",
       "27475  2023-12-29   0.1     4 -999.0        0 -999.0   9.2  10.4  73.13  12.7   \n",
       "27476  2023-12-30   0.0     0 -999.0        0 -999.0   9.1   9.2  78.08  11.8   \n",
       "27477  2023-12-31   2.1     4 -999.0        0 -999.0   8.1   6.4  84.21  10.0   \n",
       "\n",
       "        TNK    TGK  \n",
       "0      -3.9 -999.0  \n",
       "1      -3.5 -999.0  \n",
       "2      -1.0 -999.0  \n",
       "3      -8.4 -999.0  \n",
       "4     -12.2 -999.0  \n",
       "...     ...    ...  \n",
       "27473   3.1    0.6  \n",
       "27474   5.2    2.8  \n",
       "27475   8.3    7.4  \n",
       "27476   5.9    2.8  \n",
       "27477   4.5    1.9  \n",
       "\n",
       "[27478 rows x 12 columns]"
      ]
     },
     "execution_count": 370,
     "metadata": {},
     "output_type": "execute_result"
    }
   ],
   "source": [
    "df_monthly"
   ]
  },
  {
   "cell_type": "code",
   "execution_count": 371,
   "metadata": {},
   "outputs": [],
   "source": [
    "monate = {\n",
    "    \"January\": 1,\n",
    "    \"February\": 2,\n",
    "    \"March\": 3,\n",
    "    \"April\": 4,\n",
    "    \"May\": 5,\n",
    "    \"June\": 6,\n",
    "    \"July\": 7,\n",
    "    \"August\": 8,\n",
    "    \"September\": 9,\n",
    "    \"October\": 10,\n",
    "    \"November\": 11,\n",
    "    \"December\": 12\n",
    "}"
   ]
  },
  {
   "cell_type": "code",
   "execution_count": 372,
   "metadata": {},
   "outputs": [],
   "source": [
    "df_monthly.replace(-999, np.nan, inplace=True)"
   ]
  },
  {
   "cell_type": "markdown",
   "metadata": {},
   "source": [
    "# Variante 1: Nur nach Monat"
   ]
  },
  {
   "cell_type": "code",
   "execution_count": 373,
   "metadata": {},
   "outputs": [],
   "source": [
    "# df_monthly[\"Monat\"] = pd.to_datetime(df_monthly[\"MESS_DATUM\"]).dt.month_name()"
   ]
  },
  {
   "cell_type": "code",
   "execution_count": 374,
   "metadata": {},
   "outputs": [],
   "source": [
    "# df_grouped = df_monthly.drop(columns=\"MESS_DATUM\")"
   ]
  },
  {
   "cell_type": "code",
   "execution_count": 375,
   "metadata": {},
   "outputs": [],
   "source": [
    "# df_grouped[\"Monat_Code\"] = df_grouped[\"Monat\"].map(monate)"
   ]
  },
  {
   "cell_type": "code",
   "execution_count": 376,
   "metadata": {},
   "outputs": [],
   "source": [
    "# durchschnittswerte_monatlich = df_grouped.groupby(\"Monat\").mean().sort_values(by=\"Monat_Code\")"
   ]
  },
  {
   "cell_type": "code",
   "execution_count": 377,
   "metadata": {},
   "outputs": [],
   "source": [
    "# durchschnittswerte_monatlich"
   ]
  },
  {
   "cell_type": "code",
   "execution_count": 378,
   "metadata": {},
   "outputs": [],
   "source": [
    "# durchschnittswerte_monatlich.to_csv(f\"Daten/cleaned_data/Wetterdaten_monatsbasis/{station_id}_produkt_klima_monat.csv\")"
   ]
  },
  {
   "cell_type": "markdown",
   "metadata": {},
   "source": [
    "# Variante 2: Nach Jahr und Monat"
   ]
  },
  {
   "cell_type": "code",
   "execution_count": 379,
   "metadata": {},
   "outputs": [],
   "source": [
    "df_monthly[\"MESS_DATUM\"] = pd.to_datetime(df_monthly[\"MESS_DATUM\"])"
   ]
  },
  {
   "cell_type": "code",
   "execution_count": 380,
   "metadata": {},
   "outputs": [],
   "source": [
    "df_monthly[\"Datum\"] = df_monthly[\"MESS_DATUM\"].dt.to_period(\"M\")\n",
    "df_grouped = df_monthly.groupby(\"Datum\").mean().reset_index()\n",
    "df_grouped = df_grouped.drop(columns=\"MESS_DATUM\")"
   ]
  },
  {
   "cell_type": "code",
   "execution_count": 381,
   "metadata": {},
   "outputs": [],
   "source": [
    "df_grouped.to_csv(f\"Daten/test/{station_id}_produkt_klima_monat.csv\")"
   ]
  },
  {
   "cell_type": "code",
   "execution_count": 382,
   "metadata": {},
   "outputs": [],
   "source": [
    "df = pd.read_csv(f\"Daten/test/{station_id}_produkt_klima_monat.csv\")"
   ]
  },
  {
   "cell_type": "code",
   "execution_count": 383,
   "metadata": {},
   "outputs": [],
   "source": [
    "df[\"Datum\"] = pd.to_datetime(df[\"Datum\"])"
   ]
  },
  {
   "cell_type": "code",
   "execution_count": 384,
   "metadata": {},
   "outputs": [],
   "source": [
    "df.to_csv(f\"Daten/test/{station_id}_produkt_klima_monat.csv\")"
   ]
  },
  {
   "cell_type": "code",
   "execution_count": null,
   "metadata": {},
   "outputs": [],
   "source": []
  }
 ],
 "metadata": {
  "kernelspec": {
   "display_name": "dsc4",
   "language": "python",
   "name": "python3"
  },
  "language_info": {
   "codemirror_mode": {
    "name": "ipython",
    "version": 3
   },
   "file_extension": ".py",
   "mimetype": "text/x-python",
   "name": "python",
   "nbconvert_exporter": "python",
   "pygments_lexer": "ipython3",
   "version": "3.11.9"
  }
 },
 "nbformat": 4,
 "nbformat_minor": 2
}
